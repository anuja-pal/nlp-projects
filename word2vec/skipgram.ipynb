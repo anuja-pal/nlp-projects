{
 "cells": [
  {
   "cell_type": "code",
   "execution_count": null,
   "metadata": {},
   "outputs": [],
   "source": [
    "# Importing packages\n",
    "import pandas as pd\n",
    "import numpy as np\n",
    "import nltk\n",
    "from nltk.corpus import stopwords\n",
    "from nltk.stem.snowball import SnowballStemmer\n",
    "from nltk.stem import WordNetLemmatizer\n",
    "from tqdm import tqdm\n",
    "import torch\n",
    "from torch import nn\n",
    "import torch.optim as optim\n",
    "import random\n",
    "import re"
   ]
  },
  {
   "cell_type": "markdown",
   "metadata": {},
   "source": [
    "### Reading the news dataset"
   ]
  },
  {
   "cell_type": "code",
   "execution_count": 60,
   "metadata": {},
   "outputs": [],
   "source": [
    "news_data = pd.read_csv(\"data/data.csv\")"
   ]
  },
  {
   "cell_type": "code",
   "execution_count": 61,
   "metadata": {},
   "outputs": [
    {
     "data": {
      "text/plain": [
       "article_id          0\n",
       "source_id       80880\n",
       "source_name         0\n",
       "author           8219\n",
       "title              40\n",
       "description       383\n",
       "url                 0\n",
       "url_to_image     5624\n",
       "published_at        0\n",
       "content             0\n",
       "category           42\n",
       "full_content    46943\n",
       "dtype: int64"
      ]
     },
     "execution_count": 61,
     "metadata": {},
     "output_type": "execute_result"
    }
   ],
   "source": [
    "# checking NA counts across columns\n",
    "news_data.isna().sum()"
   ]
  },
  {
   "cell_type": "code",
   "execution_count": 62,
   "metadata": {},
   "outputs": [
    {
     "data": {
      "text/plain": [
       "105375"
      ]
     },
     "execution_count": 62,
     "metadata": {},
     "output_type": "execute_result"
    }
   ],
   "source": [
    "# total number of rows\n",
    "len(news_data)"
   ]
  },
  {
   "cell_type": "code",
   "execution_count": 89,
   "metadata": {},
   "outputs": [],
   "source": [
    "# retaining only those rows where full_content of the news is available\n",
    "news_data_sub = news_data.dropna(subset=['full_content'])\n",
    "# retaining only the news article column for our word2vec purpose\n",
    "news_data_sub = news_data_sub[['full_content']]"
   ]
  },
  {
   "cell_type": "code",
   "execution_count": 90,
   "metadata": {},
   "outputs": [
    {
     "data": {
      "text/plain": [
       "full_content    0\n",
       "dtype: int64"
      ]
     },
     "execution_count": 90,
     "metadata": {},
     "output_type": "execute_result"
    }
   ],
   "source": [
    "# verifying again that there are no na values in our full_content column in news_data_sub\n",
    "news_data_sub.isna().sum()"
   ]
  },
  {
   "cell_type": "code",
   "execution_count": 91,
   "metadata": {},
   "outputs": [],
   "source": [
    "# slicing only sample_size rows to reduce processing time\n",
    "random.seed(1)\n",
    "sample_size = 100\n",
    "news_data_sub = news_data_sub.iloc[random.sample(range(len(news_data_sub)), sample_size)]\n",
    "news_data_sub.reset_index(drop=True, inplace=True)"
   ]
  },
  {
   "cell_type": "code",
   "execution_count": 92,
   "metadata": {},
   "outputs": [
    {
     "data": {
      "text/html": [
       "<div>\n",
       "<style scoped>\n",
       "    .dataframe tbody tr th:only-of-type {\n",
       "        vertical-align: middle;\n",
       "    }\n",
       "\n",
       "    .dataframe tbody tr th {\n",
       "        vertical-align: top;\n",
       "    }\n",
       "\n",
       "    .dataframe thead th {\n",
       "        text-align: right;\n",
       "    }\n",
       "</style>\n",
       "<table border=\"1\" class=\"dataframe\">\n",
       "  <thead>\n",
       "    <tr style=\"text-align: right;\">\n",
       "      <th></th>\n",
       "      <th>full_content</th>\n",
       "    </tr>\n",
       "  </thead>\n",
       "  <tbody>\n",
       "    <tr>\n",
       "      <th>0</th>\n",
       "      <td>In closing arguments for Sam Bankman-Fried's c...</td>\n",
       "    </tr>\n",
       "    <tr>\n",
       "      <th>1</th>\n",
       "      <td>Perry Carpenter is Chief Evangelist for KnowBe...</td>\n",
       "    </tr>\n",
       "    <tr>\n",
       "      <th>2</th>\n",
       "      <td>When you buy through our links, Insider may ea...</td>\n",
       "    </tr>\n",
       "    <tr>\n",
       "      <th>3</th>\n",
       "      <td>NEW DELHI: The BJP has lodged a complaint with...</td>\n",
       "    </tr>\n",
       "    <tr>\n",
       "      <th>4</th>\n",
       "      <td>Wittenberg Investment Management Inc. lowered ...</td>\n",
       "    </tr>\n",
       "    <tr>\n",
       "      <th>...</th>\n",
       "      <td>...</td>\n",
       "    </tr>\n",
       "    <tr>\n",
       "      <th>95</th>\n",
       "      <td>Cowen AND Company LLC raised its position in s...</td>\n",
       "    </tr>\n",
       "    <tr>\n",
       "      <th>96</th>\n",
       "      <td>Dublin, Nov.  20, 2023  (GLOBE NEWSWIRE) -- Th...</td>\n",
       "    </tr>\n",
       "    <tr>\n",
       "      <th>97</th>\n",
       "      <td>THE HAGUE, Netherlands --Anti-Islam populist G...</td>\n",
       "    </tr>\n",
       "    <tr>\n",
       "      <th>98</th>\n",
       "      <td>An elusive echidna feared extinct after disapp...</td>\n",
       "    </tr>\n",
       "    <tr>\n",
       "      <th>99</th>\n",
       "      <td>\"The world isn't doing terribly well in averti...</td>\n",
       "    </tr>\n",
       "  </tbody>\n",
       "</table>\n",
       "<p>100 rows × 1 columns</p>\n",
       "</div>"
      ],
      "text/plain": [
       "                                         full_content\n",
       "0   In closing arguments for Sam Bankman-Fried's c...\n",
       "1   Perry Carpenter is Chief Evangelist for KnowBe...\n",
       "2   When you buy through our links, Insider may ea...\n",
       "3   NEW DELHI: The BJP has lodged a complaint with...\n",
       "4   Wittenberg Investment Management Inc. lowered ...\n",
       "..                                                ...\n",
       "95  Cowen AND Company LLC raised its position in s...\n",
       "96  Dublin, Nov.  20, 2023  (GLOBE NEWSWIRE) -- Th...\n",
       "97  THE HAGUE, Netherlands --Anti-Islam populist G...\n",
       "98  An elusive echidna feared extinct after disapp...\n",
       "99  \"The world isn't doing terribly well in averti...\n",
       "\n",
       "[100 rows x 1 columns]"
      ]
     },
     "execution_count": 92,
     "metadata": {},
     "output_type": "execute_result"
    }
   ],
   "source": [
    "news_data_sub"
   ]
  },
  {
   "cell_type": "code",
   "execution_count": 93,
   "metadata": {},
   "outputs": [
    {
     "name": "stdout",
     "output_type": "stream",
     "text": [
      "We have 100 articles available to process!\n"
     ]
    }
   ],
   "source": [
    "print(f\"We have {len(news_data_sub)} articles available to process!\")"
   ]
  },
  {
   "cell_type": "code",
   "execution_count": 94,
   "metadata": {},
   "outputs": [],
   "source": [
    "def pre_process_data(doc: str) -> list:\n",
    "    '''\n",
    "    INPUT:\n",
    "        doc: in our use case, it will be a string of multiple sentences\n",
    "    OUTPUT:\n",
    "        processed_doc: a list of tokens for the input doc\n",
    "    '''\n",
    "    # convert to lower case\n",
    "    doc = doc.lower()\n",
    "\n",
    "    # remove urls, punctuations, special characters, numbers\n",
    "    url_pattern = re.compile(r'https?://\\S+|www\\.\\S+')\n",
    "    doc = re.sub(r\"_+\", \"\", doc)\n",
    "    doc = url_pattern.sub('', doc)\n",
    "    doc = re.sub(r'[^\\w\\s]','', doc) \n",
    "    doc = re.sub(r'\\d+', '', doc)\n",
    "\n",
    "    # tokenize\n",
    "    doc = doc.split()\n",
    "\n",
    "    # remove stopwords\n",
    "    doc = list(filter(lambda x: x not in stopwords.words('english'), doc))\n",
    "\n",
    "    # stemming\n",
    "    stemmer = SnowballStemmer(\"english\", True)\n",
    "    doc = [stemmer.stem(word) for word in doc]\n",
    "\n",
    "    # lemmatisation\n",
    "    wnl = WordNetLemmatizer()\n",
    "    doc = list(map(lambda word: wnl.lemmatize(word, pos=\"v\"),doc))\n",
    "    \n",
    "\n",
    "    return doc"
   ]
  },
  {
   "cell_type": "code",
   "execution_count": 95,
   "metadata": {},
   "outputs": [
    {
     "name": "stdout",
     "output_type": "stream",
     "text": [
      "['quick', 'brown', 'fox', 'jump', 'lazi', 'dog']\n"
     ]
    }
   ],
   "source": [
    "print(pre_process_data(' https://www.google.com ______ 12345 @#$% The quick brown foxes are jumping over the lazy dogs!!!!'))"
   ]
  },
  {
   "cell_type": "code",
   "execution_count": 96,
   "metadata": {},
   "outputs": [
    {
     "name": "stderr",
     "output_type": "stream",
     "text": [
      "Pre-processing news articles: 100%|██████████| 100/100 [00:03<00:00, 26.71it/s]\n"
     ]
    }
   ],
   "source": [
    "# pre-processing every news article\n",
    "\n",
    "# we will store the pre-process article in a new column 'preprocessed_full_content'\n",
    "\n",
    "tqdm.pandas(desc=\"Pre-processing news articles\") \n",
    "news_data_sub['preprocessed_full_content'] = news_data_sub['full_content'].progress_apply(pre_process_data)"
   ]
  },
  {
   "cell_type": "code",
   "execution_count": 97,
   "metadata": {},
   "outputs": [
    {
     "data": {
      "text/plain": [
       "\"Perry Carpenter is Chief Evangelist for KnowBe4 Inc., provider of the popular Security Awareness Training & Simulated Phishing platform.   Numerous studies confirm that the absence of security technology isn’t what tends to get organizations into trouble. On the contrary, it’s humans. People are the ones who make poor security decisions and judgment errors: They click on bogus links, visit the wrong websites, download malware-loaded files, take security for granted and use weak passwords. Knowingly or unknowingly, they can put organizations at risk. While a robust security culture has been hailed as an answer to most human-related security challenges, it continues to elude many businesses because it requires chief information security officers (CISCOs) to build relationships at various levels and understand the idiosyncrasies of various business units. Various reports highlight how many CISOs struggle with competing priorities and how their security strategies often lack alignment with business objectives. Who Is A BISO And How Do They Fit In? For CISOs to succeed in their role, they need to be cognizant of all units across the business to avoid unexpected issues or unresolved matters. They should know their audience and tailor their approach to their specific needs and objectives. By aligning their security programs with the overall business strategy, CISOs can effectively meet the requirements of different departments. CISOs must also effectively communicate the security challenges facing the organization. The idea is to foster responsible participation for deeper collaboration on security initiatives. Unfortunately, a majority of CISOs are spending their limited time firefighting issues rather than contributing to business strategy or forging relationships. This is where a business information security officer (BISO) can come in. According to Forrester, the BISO operates on behalf of the CISO, serving as an advisor and bridge to functional leaders. In other words, it’s a security role that puts business first. CISO Versus BISO A BISO usually works for the CISO either directly or via a dotted-line relationship. While the CISO manages the most senior strategic relationships (such as the C-suite and the board), the BISO typically partners with the senior leaders of the other business units. So a BISO is kind of like a mini-CISO for every division or the lines of business that they support. In large, multinational corporations, multiple BISOs representing different business groups can all roll up to a CISO. Not only does this help divide responsibility and improve the implementation of security programs but it also helps CISOs gain a better pulse of the business and the different security use cases and requirements. How Do BISOs Influence Security Culture? Security culture can be defined as the values, attitudes, customs, beliefs, and social behaviors that influence the security posture of an organization. It’s the stuff that drives secure behavior in employees (even when no one’s watching); it’s the security instinct that kicks in when someone sees something unusual or suspicious. Traditionally, most CISOs are not in close contact or communication with employees, and therefore, it is difficult for them to influence and promote a positive security culture. With the BISO role, it's different; since the BISO enjoys closer ties with various business groups and has a better understanding of employee requirements and sentiments, they are better positioned to influence culture change. Let’s look at different ways you can use a BISO to help strengthen security culture: When business models, products and services are being strategized or developed, security is often treated as an afterthought. You can use BISOs and their partnerships with other department leaders to help make sure security is present right from the start and woven across products, processes and each and every customer interaction. BISOs should have a good understanding of security risks, scenarios and employee behaviors within each department they serve. Use this understanding to have them develop training programs that are tailored to individuals, making the programs more pertinent and relatable. I've found that this personalization can boost engagement, ultimately improving the retention of the training. Since BISOs work closely with specific business groups, they should be able to explain security in a language employees can understand. The result is that employees can stay updated about security policies and procedures, potential risks and best practices, gaining a clearer picture of their own responsibilities towards security. A BISO serves as the point of contact for leaders to communicate security expectations, challenges and areas where security can contribute value to the business. This helps foster trust, confidence and collaboration among teams. Security culture is a top priority of most CISOs. That being said, they must also accept the reality that it's impossible for them to be everywhere. BISOs, on the other hand, can act as catalysts, influencers and change agents on behalf of CISOs, helping them build and nurture a resilient workforce. Forbes Business Council is the foremost growth and networking organization for business owners and leaders. Do I qualify?\""
      ]
     },
     "execution_count": 97,
     "metadata": {},
     "output_type": "execute_result"
    }
   ],
   "source": [
    "# Example of an unprocessed article\n",
    "news_data_sub['full_content'][1]"
   ]
  },
  {
   "cell_type": "code",
   "execution_count": 98,
   "metadata": {},
   "outputs": [
    {
     "data": {
      "text/plain": [
       "['perri',\n",
       " 'carpent',\n",
       " 'chief',\n",
       " 'evangelist',\n",
       " 'knowb',\n",
       " 'inc',\n",
       " 'provid',\n",
       " 'popular',\n",
       " 'secur',\n",
       " 'awar']"
      ]
     },
     "execution_count": 98,
     "metadata": {},
     "output_type": "execute_result"
    }
   ],
   "source": [
    "# Example of the same article but after preprocessing (first 10 tokens)\n",
    "news_data_sub['preprocessed_full_content'][1][:10]"
   ]
  },
  {
   "cell_type": "code",
   "execution_count": 99,
   "metadata": {},
   "outputs": [],
   "source": [
    "# creating our vocabulary\n",
    "vocab = sorted(list(set([word for pre_processed_article_list in news_data_sub.preprocessed_full_content for word in pre_processed_article_list])))"
   ]
  },
  {
   "cell_type": "code",
   "execution_count": 100,
   "metadata": {},
   "outputs": [
    {
     "data": {
      "text/plain": [
       "6381"
      ]
     },
     "execution_count": 100,
     "metadata": {},
     "output_type": "execute_result"
    }
   ],
   "source": [
    "len(vocab)"
   ]
  },
  {
   "cell_type": "code",
   "execution_count": 101,
   "metadata": {},
   "outputs": [
    {
     "data": {
      "text/plain": [
       "['abandon',\n",
       " 'abba',\n",
       " 'abbi',\n",
       " 'abc',\n",
       " 'abdel',\n",
       " 'abduct',\n",
       " 'abdullah',\n",
       " 'abdulrahman',\n",
       " 'abdurahman',\n",
       " 'aberdeen']"
      ]
     },
     "execution_count": 101,
     "metadata": {},
     "output_type": "execute_result"
    }
   ],
   "source": [
    "vocab[:10] #need to pre-process better"
   ]
  },
  {
   "cell_type": "markdown",
   "metadata": {},
   "source": [
    "### Creating (target, context) pairs"
   ]
  },
  {
   "cell_type": "code",
   "execution_count": 102,
   "metadata": {},
   "outputs": [],
   "source": [
    "def target_context_pairs(doc: list, window_size: int) -> list:\n",
    "    '''\n",
    "    INPUT: \n",
    "        doc: a list of pre-processed tokens of a news article\n",
    "        window_size: an integer specifying the window size around the centre/context word to create the context-target pairs\n",
    "    OUTPUT:\n",
    "        target_context_pairs: a list of the form [(target1, context1), (target1, context2),..], etc.\n",
    "        The number of targets for a given context depends on the window_size.\n",
    "        The example above is for window_size=1.\n",
    "    '''\n",
    "    target_context_pairs = []\n",
    "    for index in range(window_size,len(doc)-window_size-1):\n",
    "\n",
    "        target = doc[index]\n",
    "        context = doc[index-window_size:index+window_size+1]\n",
    "        context.remove(target)\n",
    "        target_context_pairs = target_context_pairs + [(target, word) for word in context]\n",
    "    return target_context_pairs"
   ]
  },
  {
   "cell_type": "code",
   "execution_count": 103,
   "metadata": {},
   "outputs": [
    {
     "name": "stderr",
     "output_type": "stream",
     "text": [
      "Creating (target, context) pairs for each news article: 100%|██████████| 100/100 [00:01<00:00, 55.45it/s]\n"
     ]
    }
   ],
   "source": [
    "# creating the target, context pairs for every news article\n",
    "\n",
    "# we will store the context target pairs in a new column 'target_context_pairs'\n",
    "\n",
    "tqdm.pandas(desc=\"Creating (target, context) pairs for each news article\") \n",
    "news_data_sub['target_context_pairs'] = news_data_sub['preprocessed_full_content'].progress_apply(lambda x: target_context_pairs(x, window_size=3))"
   ]
  },
  {
   "cell_type": "code",
   "execution_count": 104,
   "metadata": {},
   "outputs": [
    {
     "data": {
      "text/html": [
       "<div>\n",
       "<style scoped>\n",
       "    .dataframe tbody tr th:only-of-type {\n",
       "        vertical-align: middle;\n",
       "    }\n",
       "\n",
       "    .dataframe tbody tr th {\n",
       "        vertical-align: top;\n",
       "    }\n",
       "\n",
       "    .dataframe thead th {\n",
       "        text-align: right;\n",
       "    }\n",
       "</style>\n",
       "<table border=\"1\" class=\"dataframe\">\n",
       "  <thead>\n",
       "    <tr style=\"text-align: right;\">\n",
       "      <th></th>\n",
       "      <th>full_content</th>\n",
       "      <th>preprocessed_full_content</th>\n",
       "      <th>target_context_pairs</th>\n",
       "    </tr>\n",
       "  </thead>\n",
       "  <tbody>\n",
       "    <tr>\n",
       "      <th>0</th>\n",
       "      <td>In closing arguments for Sam Bankman-Fried's c...</td>\n",
       "      <td>[close, argument, sam, bankmanfri, crimin, tri...</td>\n",
       "      <td>[(bankmanfri, close), (bankmanfri, argument), ...</td>\n",
       "    </tr>\n",
       "    <tr>\n",
       "      <th>1</th>\n",
       "      <td>Perry Carpenter is Chief Evangelist for KnowBe...</td>\n",
       "      <td>[perri, carpent, chief, evangelist, knowb, inc...</td>\n",
       "      <td>[(evangelist, perri), (evangelist, carpent), (...</td>\n",
       "    </tr>\n",
       "    <tr>\n",
       "      <th>2</th>\n",
       "      <td>When you buy through our links, Insider may ea...</td>\n",
       "      <td>[buy, link, insid, may, earn, affili, commissi...</td>\n",
       "      <td>[(may, buy), (may, link), (may, insid), (may, ...</td>\n",
       "    </tr>\n",
       "    <tr>\n",
       "      <th>3</th>\n",
       "      <td>NEW DELHI: The BJP has lodged a complaint with...</td>\n",
       "      <td>[new, delhi, bjp, lodg, complaint, elect, comm...</td>\n",
       "      <td>[(lodg, new), (lodg, delhi), (lodg, bjp), (lod...</td>\n",
       "    </tr>\n",
       "    <tr>\n",
       "      <th>4</th>\n",
       "      <td>Wittenberg Investment Management Inc. lowered ...</td>\n",
       "      <td>[wittenberg, invest, manag, inc, lower, hold, ...</td>\n",
       "      <td>[(inc, wittenberg), (inc, invest), (inc, manag...</td>\n",
       "    </tr>\n",
       "  </tbody>\n",
       "</table>\n",
       "</div>"
      ],
      "text/plain": [
       "                                        full_content  \\\n",
       "0  In closing arguments for Sam Bankman-Fried's c...   \n",
       "1  Perry Carpenter is Chief Evangelist for KnowBe...   \n",
       "2  When you buy through our links, Insider may ea...   \n",
       "3  NEW DELHI: The BJP has lodged a complaint with...   \n",
       "4  Wittenberg Investment Management Inc. lowered ...   \n",
       "\n",
       "                           preprocessed_full_content  \\\n",
       "0  [close, argument, sam, bankmanfri, crimin, tri...   \n",
       "1  [perri, carpent, chief, evangelist, knowb, inc...   \n",
       "2  [buy, link, insid, may, earn, affili, commissi...   \n",
       "3  [new, delhi, bjp, lodg, complaint, elect, comm...   \n",
       "4  [wittenberg, invest, manag, inc, lower, hold, ...   \n",
       "\n",
       "                                target_context_pairs  \n",
       "0  [(bankmanfri, close), (bankmanfri, argument), ...  \n",
       "1  [(evangelist, perri), (evangelist, carpent), (...  \n",
       "2  [(may, buy), (may, link), (may, insid), (may, ...  \n",
       "3  [(lodg, new), (lodg, delhi), (lodg, bjp), (lod...  \n",
       "4  [(inc, wittenberg), (inc, invest), (inc, manag...  "
      ]
     },
     "execution_count": 104,
     "metadata": {},
     "output_type": "execute_result"
    }
   ],
   "source": [
    "news_data_sub.head(5)"
   ]
  },
  {
   "cell_type": "code",
   "execution_count": 105,
   "metadata": {},
   "outputs": [],
   "source": [
    "# appending all the context-target pairs to create our data set for the cbow model\n",
    "model_data = [word for sub_target_context_pairs_list in news_data_sub.target_context_pairs for word in sub_target_context_pairs_list]"
   ]
  },
  {
   "cell_type": "code",
   "execution_count": 106,
   "metadata": {},
   "outputs": [
    {
     "data": {
      "text/plain": [
       "[('decis', 'crimin'),\n",
       " ('decis', 'case'),\n",
       " ('testifi', 'madeth'),\n",
       " ('testifi', 'unusu'),\n",
       " ('testifi', 'decis'),\n",
       " ('testifi', 'crimin'),\n",
       " ('testifi', 'case'),\n",
       " ('testifi', 'potentiallyrisk'),\n",
       " ('crimin', 'unusu'),\n",
       " ('crimin', 'decis')]"
      ]
     },
     "execution_count": 106,
     "metadata": {},
     "output_type": "execute_result"
    }
   ],
   "source": [
    "model_data[100:110]"
   ]
  },
  {
   "cell_type": "code",
   "execution_count": 107,
   "metadata": {},
   "outputs": [
    {
     "name": "stdout",
     "output_type": "stream",
     "text": [
      "We have 351150 (target, context) pairs!\n"
     ]
    }
   ],
   "source": [
    "print(f\"We have {len(model_data)} (target, context) pairs!\")"
   ]
  },
  {
   "cell_type": "code",
   "execution_count": 108,
   "metadata": {},
   "outputs": [],
   "source": [
    "# mapping our tokens to indices and vice versa  \n",
    "def token_mapping(vocabulary: list) -> tuple:\n",
    "    '''\n",
    "    INPUT:\n",
    "        vocabulary: a list of unique tokens across our corpus, in alphabetical order\n",
    "    OUTPUT:\n",
    "        (word2index, index2word):\n",
    "            word2index: a dictionary with the keys being tokens, and the values being indices\n",
    "            index2word: a dictionary with the keys being indices, and the values being tokens\n",
    "    '''\n",
    "    word2index = dict()\n",
    "    index2word = dict()\n",
    "    for index, token in enumerate(vocabulary):\n",
    "        word2index[token] = index\n",
    "        index2word[index] = token\n",
    "\n",
    "    return (word2index, index2word)"
   ]
  },
  {
   "cell_type": "code",
   "execution_count": 109,
   "metadata": {},
   "outputs": [],
   "source": [
    "word2index_dict, index2word_dict = token_mapping(vocabulary=vocab)"
   ]
  },
  {
   "cell_type": "code",
   "execution_count": 110,
   "metadata": {},
   "outputs": [
    {
     "data": {
      "text/plain": [
       "dict_items([('abandon', 0), ('abba', 1), ('abbi', 2), ('abc', 3), ('abdel', 4), ('abduct', 5), ('abdullah', 6), ('abdulrahman', 7), ('abdurahman', 8), ('aberdeen', 9), ('abhorr', 10), ('abi', 11), ('abil', 12), ('abl', 13), ('aboard', 14), ('aboitiz', 15), ('aboutit', 16), ('abouty', 17), ('absenc', 18), ('absentia', 19), ('absolut', 20), ('abu', 21), ('abuja', 22), ('abus', 23), ('acceler', 24), ('accept', 25), ('access', 26), ('accessori', 27), ('accident', 28), ('accommod', 29), ('accompani', 30), ('accomplish', 31), ('accord', 32), ('account', 33), ('accru', 34), ('accur', 35), ('accus', 36), ('acg', 37), ('achiev', 38), ('acid', 39), ('acknowledg', 40), ('acknowledgedhowev', 41), ('acquir', 42), ('acquisit', 43), ('acr', 44), ('acrei', 45), ('across', 46), ('act', 47), ('action', 48), ('actiondrama', 49), ('activ', 50), ('activist', 51), ('actor', 52), ('actual', 53), ('ad', 54), ('adam', 55), ('adani', 56), ('adaniambani', 57), ('adapt', 58), ('add', 59), ('addedrahul', 60), ('addingth', 61), ('addingw', 62), ('addit', 63), ('address', 64), ('addressth', 65), ('adept', 66), ('adequ', 67), ('adhes', 68), ('aditya', 69), ('adjac', 70), ('adjunct', 71), ('adjust', 72), ('adl', 73), ('administ', 74), ('administr', 75), ('admit', 76), ('adopt', 77), ('adoptionreport', 78), ('adr', 79), ('adult', 80), ('advanc', 81), ('advantag', 82), ('advertis', 83), ('advic', 84), ('advis', 85), ('advisor', 86), ('advisori', 87), ('advisorshar', 88), ('advoc', 89), ('advocaci', 90), ('aerial', 91), ('affair', 92), ('affect', 93), ('affili', 94), ('affirm', 95), ('afflict', 96), ('afford', 97), ('afl', 98), ('aflac', 99), ('aflvisit', 100), ('afmbreak', 101), ('afp', 102), ('afpth', 103), ('afraid', 104), ('africa', 105), ('african', 106), ('africathey', 107), ('africayou', 108), ('aftermarket', 109), ('aftermath', 110), ('afternoon', 111), ('afterthought', 112), ('afterward', 113), ('afterwardaft', 114), ('aftra', 115), ('ag', 116), ('agann', 117), ('agarw', 118), ('age', 119), ('agenc', 120), ('agencieswatch', 121), ('agenda', 122), ('agent', 123), ('aggreg', 124), ('aggress', 125), ('agil', 126), ('ago', 127), ('agre', 128), ('agreement', 129), ('agricultur', 130), ('agro', 131), ('agroinsur', 132), ('ahead', 133), ('ahm', 134), ('ahmedabad', 135), ('ai', 136), ('aid', 137), ('aidriven', 138), ('aif', 139), ('aigener', 140), ('aim', 141), ('ainot', 142), ('aiop', 143), ('air', 144), ('aircraft', 145), ('airlin', 146), ('airlinesrel', 147), ('airplan', 148), ('airport', 149), ('airstrik', 150), ('airway', 151), ('aiwer', 152), ('aka', 153), ('akpabio', 154), ('aktiengesellschaft', 155), ('akwa', 156), ('al', 157), ('aladdin', 158), ('alameda', 159), ('alan', 160), ('alani', 161), ('alaqsa', 162), ('alarm', 163), ('alawar', 164), ('albeit', 165), ('album', 166), ('alcohol', 167), ('aleksand', 168), ('alert', 169), ('alex', 170), ('alexand', 171), ('alexanderi', 172), ('alexi', 173), ('alfakhoura', 174), ('alghaidah', 175), ('algier', 176), ('algorithm', 177), ('ali', 178), ('alia', 179), ('alien', 180), ('align', 181), ('alik', 182), ('alina', 183), ('aliv', 184), ('alivehow', 185), ('aliyev', 186), ('alk', 187), ('alkerm', 188), ('alleg', 189), ('allevi', 190), ('alli', 191), ('allianc', 192), ('alliancebernstein', 193), ('allmodern', 194), ('alloc', 195), ('allow', 196), ('allplead', 197), ('allpow', 198), ('allround', 199), ('allspr', 200), ('allwomen', 201), ('almost', 202), ('almughanni', 203), ('alnasr', 204), ('alon', 205), ('along', 206), ('alongsid', 207), ('alphacentr', 208), ('alreadi', 209), ('alset', 210), ('alshifa', 211), ('also', 212), ('alt', 213), ('alta', 214), ('alter', 215), ('altern', 216), ('altg', 217), ('although', 218), ('altman', 219), ('alukwu', 220), ('alway', 221), ('alzagh', 222), ('amazon', 223), ('amazoncentr', 224), ('amazonup', 225), ('ambassador', 226), ('amber', 227), ('ambit', 228), ('ambiti', 229), ('ambl', 230), ('amend', 231), ('america', 232), ('american', 233), ('ameripris', 234), ('amerita', 235), ('amid', 236), ('amidst', 237), ('amino', 238), ('ammunit', 239), ('among', 240), ('amongst', 241), ('amount', 242), ('ampl', 243), ('amplifi', 244), ('amptp', 245), ('amptpon', 246), ('ana', 247), ('analys', 248), ('analysi', 249), ('analyst', 250), ('analyt', 251), ('analyz', 252), ('anant', 253), ('anat', 254), ('ancient', 255), ('andbest', 256), ('andexpand', 257), ('andfacebookandinstagram', 258), ('andi', 259), ('andintern', 260), ('andor', 261), ('andorpost', 262), ('andrea', 263), ('andrew', 264), ('android', 265), ('anew', 266), ('angel', 267), ('angl', 268), ('angri', 269), ('anim', 270), ('ann', 271), ('anniversari', 272), ('announc', 273), ('annual', 274), ('annualis', 275), ('anomali', 276), ('anoth', 277), ('answer', 278), ('antdron', 279), ('anthrop', 280), ('anti', 281), ('antiaircraft', 282), ('antiallergen', 283), ('antiasian', 284), ('anticanc', 285), ('anticip', 286), ('anticorrupt', 287), ('anticounterfeit', 288), ('antidefam', 289), ('antigovern', 290), ('antiharass', 291), ('antiislam', 292), ('antin', 293), ('antioxid', 294), ('antisemit', 295), ('antitank', 296), ('antiterror', 297), ('antiwhit', 298), ('antoni', 299), ('antwerp', 300), ('anumita', 301), ('anuĺˇauska', 302), ('anxieti', 303), ('anyon', 304), ('anyth', 305), ('anyway', 306), ('anywher', 307), ('ap', 308), ('apac', 309), ('apart', 310), ('apc', 311), ('apec', 312), ('apg', 313), ('api', 314), ('apollon', 315), ('apothet', 316), ('app', 317), ('appar', 318), ('appeal', 319), ('appear', 320), ('appendix', 321), ('appl', 322), ('appli', 323), ('applianc', 324), ('applic', 325), ('appoint', 326), ('apprais', 327), ('appreci', 328), ('approach', 329), ('appropri', 330), ('approv', 331), ('approxim', 332), ('apr', 333), ('april', 334), ('apt', 335), ('apun', 336), ('aquarius', 337), ('arab', 338), ('arabia', 339), ('arabian', 340), ('arbitr', 341), ('arbitrag', 342), ('archaeologist', 343), ('architectur', 344), ('arduous', 345), ('area', 346), ('areasth', 347), ('arena', 348), ('arent', 349), ('aresearch', 350), ('argentina', 351), ('argu', 352), ('argument', 353), ('argus', 354), ('arhaus', 355), ('aris', 356), ('arm', 357), ('armenia', 358), ('armenian', 359), ('armi', 360), ('armistic', 361), ('armor', 362), ('armyannouncedon', 363), ('arnzen', 364), ('arora', 365), ('around', 366), ('aroundsuperintellig', 367), ('arrang', 368), ('arrest', 369), ('arrestedapart', 370), ('arrestedwel', 371), ('arriv', 372), ('art', 373), ('artd', 374), ('arthriti', 375), ('articl', 376), ('artifici', 377), ('artist', 378), ('arvyda', 379), ('ascent', 380), ('ascertain', 381), ('aseinfeldreunion', 382), ('asia', 383), ('ask', 384), ('askew', 385), ('asleep', 386), ('asnetflixst', 387), ('aspect', 388), ('asphalt', 389), ('aspir', 390), ('ass', 391), ('assam', 392), ('assassin', 393), ('assault', 394), ('assembl', 395), ('assert', 396), ('assess', 397), ('asset', 398), ('assetback', 399), ('assign', 400), ('assignmenth', 401), ('assimi', 402), ('assist', 403), ('associ', 404), ('assum', 405), ('assumpt', 406), ('assur', 407), ('astararasht', 408), ('asylum', 409), ('asylumseek', 410), ('atletico', 411), ('atmospher', 412), ('atmus', 413), ('atria', 414), ('atroc', 415), ('attach', 416), ('attack', 417), ('attain', 418), ('attempt', 419), ('attenborough', 420), ('attenboroughi', 421), ('attend', 422), ('attent', 423), ('atth', 424), ('atthi', 425), ('attir', 426), ('attitud', 427), ('attorney', 428), ('attract', 429), ('attribut', 430), ('audi', 431), ('audienc', 432), ('audit', 433), ('auditionsinterviewstest', 434), ('auditorium', 435), ('augment', 436), ('august', 437), ('austin', 438), ('australia', 439), ('authent', 440), ('author', 441), ('autofil', 442), ('autom', 443), ('automat', 444), ('automationth', 445), ('automot', 446), ('avail', 447), ('avano', 448), ('averag', 449), ('avert', 450), ('aviv', 451), ('aviva', 452), ('avn', 453), ('avod', 454), ('avoid', 455), ('await', 456), ('awar', 457), ('award', 458), ('awardit', 459), ('awardspunch', 460), ('away', 461), ('awayfrom', 462), ('awolowo', 463), ('axel', 464), ('axi', 465), ('ayman', 466), ('ayodhya', 467), ('azawad', 468), ('azerbaijan', 469), ('b', 470), ('babi', 471), ('bachelor', 472), ('back', 473), ('background', 474), ('backoffic', 475), ('backtoback', 476), ('bad', 477), ('baer', 478), ('bag', 479), ('baghel', 480), ('bahama', 481), ('baidu', 482), ('baird', 483), ('bajaj', 484), ('bakeri', 485), ('balanc', 486), ('ballard', 487), ('bamako', 488), ('ban', 489), ('bancorp', 490), ('band', 491), ('bang', 492), ('bangalor', 493), ('bangladesh', 494), ('bangladeshin', 495), ('bank', 496), ('banker', 497), ('bankmanfri', 498), ('bankmanfriedquest', 499), ('bankmanfriedto', 500), ('bankshar', 501), ('bar', 502), ('barca', 503), ('barcelona', 504), ('barclay', 505), ('bardella', 506), ('bare', 507), ('barefoot', 508), ('bargain', 509), ('barn', 510), ('barrel', 511), ('barrett', 512), ('barrier', 513), ('barron', 514), ('bartl', 515), ('base', 516), ('baseless', 517), ('basi', 518), ('basic', 519), ('basket', 520), ('basler', 521), ('basu', 522), ('bat', 523), ('bata', 524), ('batch', 525), ('bate', 526), ('bath', 527), ('batter', 528), ('battl', 529), ('battlefield', 530), ('bavuma', 531), ('bay', 532), ('bayelsa', 533), ('bbc', 534), ('bds', 535), ('beach', 536), ('beacon', 537), ('bear', 538), ('beardo', 539), ('bearish', 540), ('beat', 541), ('beauti', 542), ('becam', 543), ('becom', 544), ('bed', 545), ('bedbathandbeyondcom', 546), ('bedroom', 547), ('bee', 548), ('beencriticalof', 549), ('beer', 550), ('beeri', 551), ('beforesagaftramemb', 552), ('begin', 553), ('behalf', 554), ('behavior', 555), ('behemoth', 556), ('behind', 557), ('behnam', 558), ('beij', 559), ('beijingbas', 560), ('beirut', 561), ('belief', 562), ('believ', 563), ('belittl', 564), ('bell', 565), ('belli', 566), ('belong', 567), ('belt', 568), ('ben', 569), ('benchmark', 570), ('benefici', 571), ('benefit', 572), ('bengal', 573), ('benito', 574), ('benjamin', 575), ('ber', 576), ('berat', 577), ('bergmann', 578), ('berkeley', 579), ('berlin', 580), ('bermuda', 581), ('bernard', 582), ('bernstein', 583), ('berth', 584), ('besid', 585), ('besieg', 586), ('best', 587), ('bestcyb', 588), ('bet', 589), ('beta', 590), ('better', 591), ('beverag', 592), ('beyond', 593), ('bfi', 594), ('bhupesh', 595), ('bias', 596), ('bid', 597), ('biden', 598), ('bidenwould', 599), ('bidu', 600), ('biduopen', 601), ('biduvisit', 602), ('big', 603), ('bigger', 604), ('biggest', 605), ('biggi', 606), ('bihar', 607), ('bilater', 608), ('bild', 609), ('bill', 610), ('billboard', 611), ('billion', 612), ('billionair', 613), ('bin', 614), ('bind', 615), ('biodivers', 616), ('biograph', 617), ('biohealth', 618), ('biolog', 619), ('biologist', 620), ('biom', 621), ('biomark', 622), ('biometr', 623), ('biopharmaceut', 624), ('biotechnolog', 625), ('bipartisan', 626), ('bipolar', 627), ('birch', 628), ('bird', 629), ('biren', 630), ('birthday', 631), ('biscuit', 632), ('bishop', 633), ('biso', 634), ('bissel', 635), ('bite', 636), ('bitter', 637), ('bjp', 638), ('black', 639), ('blackrock', 640), ('blaha', 641), ('blair', 642), ('blame', 643), ('blast', 644), ('blaugrana', 645), ('blend', 646), ('bless', 647), ('bletchley', 648), ('blind', 649), ('blinken', 650), ('blitz', 651), ('blminspir', 652), ('bloc', 653), ('block', 654), ('blockad', 655), ('blogger', 656), ('blood', 657), ('bloodi', 658), ('blooper', 659), ('blow', 660), ('blue', 661), ('bmi', 662), ('bmo', 663), ('bmw', 664), ('bmyvisit', 665), ('bnd', 666), ('bndopen', 667), ('bndvisit', 668), ('bnp', 669), ('bo', 670), ('board', 671), ('boast', 672), ('bodi', 673), ('bofa', 674), ('bogus', 675), ('bold', 676), ('boll', 677), ('bolster', 678), ('bomb', 679), ('bombard', 680), ('bona', 681), ('bonafid', 682), ('bond', 683), ('bonni', 684), ('bonus', 685), ('boogi', 686), ('book', 687), ('bookon', 688), ('boom', 689), ('boon', 690), ('boost', 691), ('border', 692), ('borrow', 693), ('boston', 694), ('bottl', 695), ('bottom', 696), ('bounc', 697), ('boundari', 698), ('bounti', 699), ('bowerssold', 700), ('bowl', 701), ('bowler', 702), ('box', 703), ('boy', 704), ('bps', 705), ('brace', 706), ('bracelet', 707), ('brad', 708), ('bradley', 709), ('brainstorm', 710), ('branch', 711), ('brand', 712), ('brandish', 713), ('braverman', 714), ('bravo', 715), ('brazil', 716), ('breach', 717), ('breachfight', 718), ('bread', 719), ('breadth', 720), ('break', 721), ('breakdown', 722), ('breakfast', 723), ('breakthrough', 724), ('breath', 725), ('breathabl', 726), ('brent', 727), ('brevill', 728), ('brian', 729), ('briberi', 730), ('bridg', 731), ('briefingcomreport', 732), ('brig', 733), ('brighter', 734), ('bring', 735), ('brinkmanshipand', 736), ('bristolmy', 737), ('brit', 738), ('britain', 739), ('british', 740), ('broad', 741), ('broadcast', 742), ('broaden', 743), ('broader', 744), ('broker', 745), ('brother', 746), ('brotherhood', 747), ('brounsteincorpor', 748), ('brown', 749), ('brows', 750), ('bruis', 751), ('brussel', 752), ('brutal', 753), ('bryan', 754), ('brzezińska', 755), ('bse', 756), ('bubbl', 757), ('buddhism', 758), ('budget', 759), ('budgetari', 760), ('budszus', 761), ('bug', 762), ('buginform', 763), ('bugthat', 764), ('build', 765), ('bulgaria', 766), ('bulgarian', 767), ('bulk', 768), ('bullet', 769), ('bulletin', 770), ('bullish', 771), ('bundl', 772), ('buoy', 773), ('burgeon', 774), ('burger', 775), ('burgess', 776), ('buri', 777), ('burkina', 778), ('burn', 779), ('burrow', 780), ('burst', 781), ('bus', 782), ('bush', 783), ('busi', 784), ('businessman', 785), ('businesss', 786), ('businesstobusi', 787), ('buy', 788), ('buyer', 789), ('buzzword', 790), ('bxp', 791), ('bypubl', 792), ('bystand', 793), ('byted', 794), ('byurban', 795), ('c', 796), ('cabinet', 797), ('cagr', 798), ('calamp', 799), ('calcul', 800), ('calendar', 801), ('calif', 802), ('california', 803), ('call', 804), ('callan', 805), ('calm', 806), ('cambridg', 807), ('camera', 808), ('camp', 809), ('campaign', 810), ('can', 811), ('canada', 812), ('canadian', 813), ('cancel', 814), ('cancelo', 815), ('cancer', 816), ('candid', 817), ('candl', 818), ('candriam', 819), ('cannot', 820), ('canon', 821), ('canown', 822), ('cant', 823), ('cantor', 824), ('cap', 825), ('capabl', 826), ('capac', 827), ('capex', 828), ('capit', 829), ('captain', 830), ('captiv', 831), ('captur', 832), ('car', 833), ('carbon', 834), ('card', 835), ('cardiovascular', 836), ('care', 837), ('career', 838), ('caregiv', 839), ('caretak', 840), ('cargo', 841), ('carmak', 842), ('carnegi', 843), ('carolin', 844), ('carpent', 845), ('carri', 846), ('carrier', 847), ('carsten', 848), ('cascad', 849), ('case', 850), ('casert', 851), ('cash', 852), ('cast', 853), ('castleri', 854), ('casualti', 855), ('cat', 856), ('catalan', 857), ('catalyst', 858), ('catapult', 859), ('catastroph', 860), ('catch', 861), ('categor', 862), ('categori', 863), ('categoris', 864), ('cater', 865), ('cathol', 866), ('catobar', 867), ('cattl', 868), ('caus', 869), ('caution', 870), ('cautionari', 871), ('cautious', 872), ('cave', 873), ('caveat', 874), ('cb', 875), ('cba', 876), ('cbs', 877), ('ccep', 878), ('cea', 879), ('ceasefir', 880), ('ceil', 881), ('celebr', 882), ('cell', 883), ('cellular', 884), ('celsius', 885), ('cemeteri', 886), ('cenotaph', 887), ('cent', 888), ('center', 889), ('centerleft', 890), ('centr', 891), ('central', 892), ('centrist', 893), ('centurion', 894), ('ceo', 895), ('ceoedward', 896), ('ceosanjay', 897), ('ceremoni', 898), ('certain', 899), ('certif', 900), ('certifi', 901), ('cessat', 902), ('cfo', 903), ('chaarat', 904), ('chad', 905), ('chain', 906), ('chair', 907), ('chairman', 908), ('challeng', 909), ('chambal', 910), ('chamber', 911), ('champion', 912), ('championship', 913), ('chan', 914), ('chanc', 915), ('chancellor', 916), ('chandigarh', 917), ('chang', 918), ('changethrough', 919), ('channel', 920), ('channelcomreport', 921), ('channelreport', 922), ('chao', 923), ('chapter', 924), ('charact', 925), ('character', 926), ('characteris', 927), ('characterist', 928), ('chardonnay', 929), ('charg', 930), ('charger', 931), ('charl', 932), ('charli', 933), ('chart', 934), ('charter', 935), ('chase', 936), ('chasebut', 937), ('chaseworld', 938), ('chatbot', 939), ('chatgpt', 940), ('cheap', 941), ('check', 942), ('chemic', 943), ('chemseddin', 944), ('chen', 945), ('cherish', 946), ('chhattisgarh', 947), ('chief', 948), ('child', 949), ('childlaborcoordin', 950), ('children', 951), ('chile', 952), ('chilean', 953), ('chin', 954), ('china', 955), ('chip', 956), ('chittagong', 957), ('choic', 958), ('cholera', 959), ('choos', 960), ('choose', 961), ('choreographi', 962), ('chouhan', 963), ('chris', 964), ('christian', 965), ('christma', 966), ('chrome', 967), ('chromosomeposit', 968), ('chronic', 969), ('chuck', 970), ('chukwuemeka', 971), ('church', 972), ('cibc', 973), ('cinema', 974), ('cinemat', 975), ('circl', 976), ('circuit', 977), ('circul', 978), ('circumst', 979), ('circumv', 980), ('cis', 981), ('cisa', 982), ('cisco', 983), ('ciso', 984), ('cite', 985), ('citi', 986), ('citigroup', 987), ('citizen', 988), ('civil', 989), ('civilian', 990), ('civilright', 991), ('claim', 992), ('claimsth', 993), ('clarif', 994), ('clarifi', 995), ('clariti', 996), ('clarkstarv', 997), ('clash', 998), ('clashsen', 999), ('class', 1000), ('classif', 1001), ('classifi', 1002), ('classroom', 1003), ('clauderevamp', 1004), ('claudius', 1005), ('claus', 1006), ('clean', 1007), ('cleaneranthropologieup', 1008), ('cleanview', 1009), ('clear', 1010), ('clearanc', 1011), ('clearer', 1012), ('clearwhil', 1013), ('click', 1014), ('client', 1015), ('climat', 1016), ('climax', 1017), ('climb', 1018), ('clinic', 1019), ('clip', 1020), ('clone', 1021), ('close', 1022), ('closedend', 1023), ('closer', 1024), ('closest', 1025), ('cloud', 1026), ('clouddriven', 1027), ('clout', 1028), ('club', 1029), ('clue', 1030), ('cma', 1031), ('cmacontrol', 1032), ('co', 1033), ('coach', 1034), ('coal', 1035), ('coalbas', 1036), ('coalit', 1037), ('coast', 1038), ('coastal', 1039), ('coastlin', 1040), ('cobbl', 1041), ('coca', 1042), ('cocacola', 1043), ('coconspir', 1044), ('cocreat', 1045), ('code', 1046), ('codifi', 1047), ('coffer', 1048), ('cofinanc', 1049), ('cofound', 1050), ('cog', 1051), ('cogniz', 1052), ('cohen', 1053), ('cohes', 1054), ('cohort', 1055), ('coil', 1056), ('coke', 1057), ('cola', 1058), ('collabor', 1059), ('collaborationsuppli', 1060), ('collaps', 1061), ('colleagu', 1062), ('collect', 1063), ('collecv', 1064), ('colleg', 1065), ('collett', 1066), ('coloalert', 1067), ('coloalerti', 1068), ('color', 1069), ('colorect', 1070), ('columbia', 1071), ('column', 1072), ('combat', 1073), ('combatingclim', 1074), ('combin', 1075), ('comcast', 1076), ('come', 1077), ('comeback', 1078), ('comedi', 1079), ('comedian', 1080), ('comedienn', 1081), ('comfort', 1082), ('comic', 1083), ('command', 1084), ('commanderinchief', 1085), ('commando', 1086), ('commemor', 1087), ('commenc', 1088), ('comment', 1089), ('commentari', 1090), ('commerc', 1091), ('commerci', 1092), ('commiss', 1093), ('commission', 1094), ('commissionlearn', 1095), ('commit', 1096), ('committe', 1097), ('commod', 1098), ('common', 1099), ('commonrentschl', 1100), ('commonwealth', 1101), ('communic', 1102), ('communicationscorporatecommsstonepeakcom', 1103), ('communiti', 1104), ('comp', 1105), ('compact', 1106), ('compani', 1107), ('companion', 1108), ('companywid', 1109), ('compar', 1110), ('comparison', 1111), ('compass', 1112), ('compassion', 1113), ('compatriot', 1114), ('compel', 1115), ('compens', 1116), ('compet', 1117), ('competit', 1118), ('competitor', 1119), ('compil', 1120), ('complac', 1121), ('complain', 1122), ('complaint', 1123), ('complementari', 1124), ('complet', 1125), ('complex', 1126), ('compli', 1127), ('complianc', 1128), ('compliant', 1129), ('complic', 1130), ('compon', 1131), ('composit', 1132), ('compound', 1133), ('comprehend', 1134), ('comprehens', 1135), ('compris', 1136), ('compromis', 1137), ('compulsori', 1138), ('comput', 1139), ('computerintegr', 1140), ('con', 1141), ('conceiv', 1142), ('concentr', 1143), ('conceptu', 1144), ('concern', 1145), ('concili', 1146), ('conclus', 1147), ('concours', 1148), ('concret', 1149), ('concurr', 1150), ('condemn', 1151), ('condit', 1152), ('conduct', 1153), ('confer', 1154), ('confid', 1155), ('confidenti', 1156), ('configur', 1157), ('confin', 1158), ('confirm', 1159), ('conflict', 1160), ('conform', 1161), ('confront', 1162), ('confus', 1163), ('conglomer', 1164), ('congratul', 1165), ('congress', 1166), ('congresslead', 1167), ('congressth', 1168), ('congresswoman', 1169), ('conjunct', 1170), ('connect', 1171), ('connecticut', 1172), ('connectus', 1173), ('conon', 1174), ('conroy', 1175), ('consecut', 1176), ('consensus', 1177), ('consent', 1178), ('consequ', 1179), ('consequencespeskov', 1180), ('conserv', 1181), ('consid', 1182), ('consider', 1183), ('consist', 1184), ('consistori', 1185), ('consol', 1186), ('consolid', 1187), ('consortium', 1188), ('conspicu', 1189), ('conspiraci', 1190), ('constant', 1191), ('constitu', 1192), ('constitut', 1193), ('constitutionwith', 1194), ('construct', 1195), ('consult', 1196), ('consum', 1197), ('consumercentr', 1198), ('consumm', 1199), ('consumpt', 1200), ('contact', 1201), ('contagion', 1202), ('contain', 1203), ('contemporari', 1204), ('content', 1205), ('contest', 1206), ('contestantsin', 1207), ('context', 1208), ('continent', 1209), ('continu', 1210), ('contract', 1211), ('contractor', 1212), ('contractu', 1213), ('contradict', 1214), ('contrari', 1215), ('contrast', 1216), ('contravent', 1217), ('contribut', 1218), ('control', 1219), ('controversi', 1220), ('controversysom', 1221), ('conundrum', 1222), ('conveni', 1223), ('convent', 1224), ('converg', 1225), ('convers', 1226), ('convert', 1227), ('convey', 1228), ('convict', 1229), ('convinc', 1230), ('convoy', 1231), ('cook', 1232), ('coolant', 1233), ('cooler', 1234), ('cooper', 1235), ('coordin', 1236), ('copernicus', 1237), ('copi', 1238), ('coppel', 1239), ('copper', 1240), ('coproduct', 1241), ('copyright', 1242), ('coral', 1243), ('cordless', 1244), ('core', 1245), ('coreaffirm', 1246), ('cornerston', 1247), ('cornerstoneha', 1248), ('corp', 1249), ('corpak', 1250), ('corpor', 1251), ('correct', 1252), ('correspond', 1253), ('corridor', 1254), ('corrupt', 1255), ('corun', 1256), ('cos', 1257), ('cosmet', 1258), ('cosmo', 1259), ('cost', 1260), ('costanza', 1261), ('costar', 1262), ('costeffect', 1263), ('costofliv', 1264), ('costsav', 1265), ('costum', 1266), ('cotton', 1267), ('could', 1268), ('couldnt', 1269), ('council', 1270), ('count', 1271), ('counter', 1272), ('counteract', 1273), ('counterfeit', 1274), ('countermeasur', 1275), ('counterpart', 1276), ('counterproduct', 1277), ('counti', 1278), ('countless', 1279), ('countri', 1280), ('coup', 1281), ('coupl', 1282), ('coupon', 1283), ('courag', 1284), ('cours', 1285), ('court', 1286), ('courtroom', 1287), ('courtyard', 1288), ('cover', 1289), ('coverag', 1290), ('coverup', 1291), ('covestor', 1292), ('covid', 1293), ('cowen', 1294), ('cowritten', 1295), ('cozi', 1296), ('cp', 1297), ('cpcb', 1298), ('cpi', 1299), ('cpibas', 1300), ('cr', 1301), ('crabtreeireland', 1302), ('crack', 1303), ('craft', 1304), ('crane', 1305), ('crankcas', 1306), ('crate', 1307), ('cratebarrel', 1308), ('creat', 1309), ('creation', 1310), ('creativ', 1311), ('creator', 1312), ('creatur', 1313), ('credibl', 1314), ('credit', 1315), ('crew', 1316), ('cri', 1317), ('cricket', 1318), ('crime', 1319), ('crimin', 1320), ('criminalsth', 1321), ('crippl', 1322), ('crise', 1323), ('crisi', 1324), ('criteria', 1325), ('critic', 1326), ('critica', 1327), ('criticis', 1328), ('cro', 1329), ('crojoseph', 1330), ('crop', 1331), ('crore', 1332), ('cross', 1333), ('crossbench', 1334), ('crossbord', 1335), ('crosscountri', 1336), ('crosscultur', 1337), ('crossroad', 1338), ('crowd', 1339), ('crown', 1340), ('crucial', 1341), ('crude', 1342), ('cruelti', 1343), ('crux', 1344), ('crypto', 1345), ('cryptocurr', 1346), ('cs', 1347), ('csatf', 1348), ('csba', 1349), ('csd', 1350), ('csds', 1351), ('cse', 1352), ('csgp', 1353), ('csgpvisit', 1354), ('csnri', 1355), ('csuit', 1356), ('ct', 1357), ('ctbt', 1358), ('cts', 1359), ('cttee', 1360), ('cuban', 1361), ('cullen', 1362), ('cultiv', 1363), ('cultur', 1364), ('cummin', 1365), ('cumul', 1366), ('cup', 1367), ('cupertino', 1368), ('curb', 1369), ('curios', 1370), ('curious', 1371), ('currenc', 1372), ('current', 1373), ('curv', 1374), ('custom', 1375), ('customari', 1376), ('customiz', 1377), ('customizationth', 1378), ('cut', 1379), ('cuttingedg', 1380), ('cw', 1381), ('cyber', 1382), ('cyberattack', 1383), ('cybercrimesen', 1384), ('cybersecur', 1385), ('cycl', 1386), ('cyclon', 1387), ('cyclop', 1388), ('dadri', 1389), ('daili', 1390), ('dairi', 1391), ('dakota', 1392), ('damag', 1393), ('damagedwhat', 1394), ('damian', 1395), ('danc', 1396), ('dancer', 1397), ('danger', 1398), ('daniel', 1399), ('daniell', 1400), ('dare', 1401), ('darfur', 1402), ('dark', 1403), ('das', 1404), ('dashboard', 1405), ('data', 1406), ('databas', 1407), ('datafilt', 1408), ('dataleverag', 1409), ('dataset', 1410), ('date', 1411), ('datelinkedinx', 1412), ('daughter', 1413), ('daunt', 1414), ('david', 1415), ('davranoglou', 1416), ('day', 1417), ('daystocov', 1418), ('daytoday', 1419), ('dc', 1420), ('dd', 1421), ('ddvisit', 1422), ('de', 1423), ('dead', 1424), ('deadlin', 1425), ('deal', 1426), ('dealersdistributor', 1427), ('dealership', 1428), ('dealsamazonup', 1429), ('dean', 1430), ('dear', 1431), ('death', 1432), ('debat', 1433), ('debt', 1434), ('debttoequ', 1435), ('debut', 1436), ('decad', 1437), ('decapit', 1438), ('deceas', 1439), ('deceit', 1440), ('deceler', 1441), ('decemb', 1442), ('decent', 1443), ('decept', 1444), ('decid', 1445), ('decim', 1446), ('decis', 1447), ('decisionmak', 1448), ('deck', 1449), ('deckelman', 1450), ('declar', 1451), ('declin', 1452), ('decreas', 1453), ('decri', 1454), ('dedic', 1455), ('deem', 1456), ('deep', 1457), ('deepen', 1458), ('deeper', 1459), ('deepfak', 1460), ('deepli', 1461), ('defam', 1462), ('default', 1463), ('defeat', 1464), ('defect', 1465), ('defenc', 1466), ('defend', 1467), ('defens', 1468), ('deficit', 1469), ('defin', 1470), ('definit', 1471), ('deflat', 1472), ('deforest', 1473), ('defraud', 1474), ('defunct', 1475), ('degrad', 1476), ('degre', 1477), ('deislam', 1478), ('del', 1479), ('delawar', 1480), ('deleg', 1481), ('delegitimis', 1482), ('delet', 1483), ('delgrosso', 1484), ('delhi', 1485), ('delhincr', 1486), ('deliber', 1487), ('delicatessen', 1488), ('delist', 1489), ('deliv', 1490), ('deliveri', 1491), ('delv', 1492), ('demand', 1493), ('demandstheir', 1494), ('demis', 1495), ('democraci', 1496), ('democracyth', 1497), ('democrat', 1498), ('demograph', 1499), ('demolish', 1500), ('demonstr', 1501), ('deni', 1502), ('denni', 1503), ('dental', 1504), ('depart', 1505), ('depend', 1506), ('depict', 1507), ('deploy', 1508), ('deportivo', 1509), ('deposit', 1510), ('depot', 1511), ('depreci', 1512), ('depress', 1513), ('depth', 1514), ('deputi', 1515), ('der', 1516), ('derrin', 1517), ('describ', 1518), ('descript', 1519), ('design', 1520), ('desir', 1521), ('desjardin', 1522), ('despair', 1523), ('desper', 1524), ('despit', 1525), ('destabil', 1526), ('destin', 1527), ('destini', 1528), ('destroy', 1529), ('destruct', 1530), ('detail', 1531), ('detain', 1532), ('detaine', 1533), ('detect', 1534), ('detent', 1535), ('deterior', 1536), ('determin', 1537), ('deton', 1538), ('deutsch', 1539), ('devast', 1540), ('develop', 1541), ('devic', 1542), ('dga', 1543), ('dgr', 1544), ('diagnost', 1545), ('dialog', 1546), ('dialogu', 1547), ('diana', 1548), ('dictat', 1549), ('didnt', 1550), ('die', 1551), ('diem', 1552), ('differ', 1553), ('differencew', 1554), ('difficult', 1555), ('difficulti', 1556), ('digest', 1557), ('digha', 1558), ('digit', 1559), ('digitalfirst', 1560), ('digitallycr', 1561), ('dilan', 1562), ('dilemma', 1563), ('dine', 1564), ('dinner', 1565), ('dioxid', 1566), ('dip', 1567), ('diploma', 1568), ('diplomaci', 1569), ('diplomat', 1570), ('direct', 1571), ('director', 1572), ('directorgener', 1573), ('directorwilliam', 1574), ('directtoconsum', 1575), ('disabl', 1576), ('disagr', 1577), ('disagre', 1578), ('disappear', 1579), ('disast', 1580), ('disastr', 1581), ('disclaim', 1582), ('disclos', 1583), ('disclosur', 1584), ('discomfort', 1585), ('discount', 1586), ('discov', 1587), ('discoveri', 1588), ('discretionari', 1589), ('discrimin', 1590), ('discuss', 1591), ('diseas', 1592), ('disengag', 1593), ('disgrac', 1594), ('disguis', 1595), ('dish', 1596), ('disinform', 1597), ('dismember', 1598), ('disney', 1599), ('disord', 1600), ('dispar', 1601), ('dispatch', 1602), ('dispel', 1603), ('displac', 1604), ('display', 1605), ('dispos', 1606), ('disproportion', 1607), ('disput', 1608), ('disregard', 1609), ('disrespect', 1610), ('disrupt', 1611), ('dissappoint', 1612), ('distant', 1613), ('distinct', 1614), ('distinguish', 1615), ('distribut', 1616), ('distributor', 1617), ('district', 1618), ('disturb', 1619), ('divers', 1620), ('diversif', 1621), ('diversifi', 1622), ('divert', 1623), ('divestitur', 1624), ('divid', 1625), ('dividend', 1626), ('divis', 1627), ('divorc', 1628), ('dixon', 1629), ('dma', 1630), ('dmitri', 1631), ('do', 1632), ('doclab', 1633), ('doctor', 1634), ('docudrama', 1635), ('document', 1636), ('documentari', 1637), ('doesnt', 1638), ('dog', 1639), ('doha', 1640), ('dollar', 1641), ('dollardenomin', 1642), ('domain', 1643), ('domest', 1644), ('domesticallybuilt', 1645), ('domicil', 1646), ('domin', 1647), ('donat', 1648), ('donetsk', 1649), ('dont', 1650), ('doom', 1651), ('door', 1652), ('dorn', 1653), ('dosag', 1654), ('dottedlin', 1655), ('doubl', 1656), ('doubledigit', 1657), ('doubt', 1658), ('dour', 1659), ('dowhat', 1660), ('downgrad', 1661), ('download', 1662), ('downsid', 1663), ('downstair', 1664), ('downstream', 1665), ('downtown', 1666), ('downturn', 1667), ('dozen', 1668), ('dpr', 1669), ('dr', 1670), ('drag', 1671), ('drain', 1672), ('dramat', 1673), ('draw', 1674), ('drawnout', 1675), ('drescherand', 1676), ('dress', 1677), ('dresser', 1678), ('dri', 1679), ('drill', 1680), ('drink', 1681), ('drive', 1682), ('driver', 1683), ('drivesuit', 1684), ('drone', 1685), ('drop', 1686), ('droppedsagaftra', 1687), ('droppickup', 1688), ('drought', 1689), ('drum', 1690), ('drummer', 1691), ('dualus', 1692), ('dub', 1693), ('dubai', 1694), ('dublin', 1695), ('due', 1696), ('duet', 1697), ('duffi', 1698), ('duncan', 1699), ('duo', 1700), ('dupe', 1701), ('dupont', 1702), ('durat', 1703), ('dussen', 1704), ('dutch', 1705), ('dutchelect', 1706), ('duti', 1707), ('duvvuri', 1708), ('dvtpe', 1709), ('dwindl', 1710), ('dxc', 1711), ('dynam', 1712), ('dyson', 1713), ('décor', 1714), ('düsseldorf', 1715), ('e', 1716), ('eager', 1717), ('ear', 1718), ('earli', 1719), ('earlier', 1720), ('earlierth', 1721), ('earlydetect', 1722), ('earlystag', 1723), ('earn', 1724), ('earth', 1725), ('earthmov', 1726), ('earthquak', 1727), ('eas', 1728), ('easi', 1729), ('easier', 1730), ('east', 1731), ('eastern', 1732), ('easytous', 1733), ('eaton', 1734), ('ebitda', 1735), ('echidna', 1736), ('eclect', 1737), ('ecofriend', 1738), ('ecolog', 1739), ('ecommerc', 1740), ('econom', 1741), ('economist', 1742), ('ecosystem', 1743), ('ecosystemwid', 1744), ('ecrahul', 1745), ('ed', 1746), ('edg', 1747), ('edibl', 1748), ('edit', 1749), ('editionreport', 1750), ('editor', 1751), ('editori', 1752), ('educ', 1753), ('edward', 1754), ('efcc', 1755), ('efcci', 1756), ('effect', 1757), ('effici', 1758), ('effort', 1759), ('eg', 1760), ('egglay', 1761), ('egypt', 1762), ('egyptian', 1763), ('eight', 1764), ('eightbeat', 1765), ('eightyf', 1766), ('eintracht', 1767), ('either', 1768), ('el', 1769), ('elain', 1770), ('elder', 1771), ('elect', 1772), ('elector', 1773), ('electr', 1774), ('electrocut', 1775), ('electromagnet', 1776), ('electron', 1777), ('element', 1778), ('eleph', 1779), ('elev', 1780), ('eleven', 1781), ('eli', 1782), ('eliassi', 1783), ('elicit', 1784), ('elig', 1785), ('elimin', 1786), ('eliqui', 1787), ('elit', 1788), ('ellison', 1789), ('ellwood', 1790), ('elm', 1791), ('elon', 1792), ('els', 1793), ('elsewher', 1794), ('elsheikh', 1795), ('elsisi', 1796), ('elud', 1797), ('elus', 1798), ('elvi', 1799), ('elyse', 1800), ('email', 1801), ('emal', 1802), ('emancip', 1803), ('embark', 1804), ('embassi', 1805), ('embed', 1806), ('embezzl', 1807), ('embodi', 1808), ('embol', 1809), ('embrac', 1810), ('emerg', 1811), ('emili', 1812), ('emir', 1813), ('emiss', 1814), ('emit', 1815), ('emma', 1816), ('emmanuel', 1817), ('emot', 1818), ('empath', 1819), ('emphas', 1820), ('emphasis', 1821), ('empl', 1822), ('employ', 1823), ('employe', 1824), ('employmentbas', 1825), ('empow', 1826), ('empti', 1827), ('en', 1828), ('enabl', 1829), ('enact', 1830), ('enclav', 1831), ('encompass', 1832), ('encount', 1833), ('encourag', 1834), ('end', 1835), ('endeavor', 1836), ('endoclear', 1837), ('endors', 1838), ('endow', 1839), ('endur', 1840), ('endus', 1841), ('enduserappl', 1842), ('enemi', 1843), ('energi', 1844), ('engag', 1845), ('engin', 1846), ('engineeringhowev', 1847), ('england', 1848), ('english', 1849), ('enhanc', 1850), ('enjoin', 1851), ('enjoy', 1852), ('enorm', 1853), ('enough', 1854), ('enquir', 1855), ('enquiriessalesfuturemarketinsightscomwebsit', 1856), ('enrol', 1857), ('ensur', 1858), ('entail', 1859), ('enter', 1860), ('enterpris', 1861), ('entertain', 1862), ('enthusiastssport', 1863), ('entir', 1864), ('entireti', 1865), ('entiti', 1866), ('entitl', 1867), ('entomologist', 1868), ('entorno', 1869), ('entranc', 1870), ('entrant', 1871), ('entri', 1872), ('envestnet', 1873), ('environ', 1874), ('environment', 1875), ('envotech', 1876), ('enyimbawhi', 1877), ('ep', 1878), ('epap', 1879), ('epicentr', 1880), ('episod', 1881), ('equal', 1882), ('equip', 1883), ('equipmentglennmoorealtgcom', 1884), ('equit', 1885), ('equiti', 1886), ('equival', 1887), ('equivocalwhen', 1888), ('ergotel', 1889), ('eric', 1890), ('errant', 1891), ('error', 1892), ('erupt', 1893), ('escal', 1894), ('escalatori', 1895), ('escap', 1896), ('esomar', 1897), ('especi', 1898), ('espous', 1899), ('essenti', 1900), ('establish', 1901), ('estat', 1902), ('estim', 1903), ('estrang', 1904), ('et', 1905), ('etail', 1906), ('etc', 1907), ('etf', 1908), ('ethic', 1909), ('ethiopia', 1910), ('ethnic', 1911), ('etmarket', 1912), ('etmarketscom', 1913), ('etprim', 1914), ('eu', 1915), ('euler', 1916), ('eur', 1917), ('euro', 1918), ('europ', 1919), ('europa', 1920), ('europacif', 1921), ('european', 1922), ('europemc', 1923), ('eurosaround', 1924), ('eus', 1925), ('ev', 1926), ('evacu', 1927), ('evacue', 1928), ('evalu', 1929), ('evangelist', 1930), ('evas', 1931), ('even', 1932), ('event', 1933), ('eventu', 1934), ('ever', 1935), ('everchang', 1936), ('evercor', 1937), ('everevolv', 1938), ('everi', 1939), ('everyon', 1940), ('everyth', 1941), ('everywher', 1942), ('evid', 1943), ('evil', 1944), ('evok', 1945), ('evolut', 1946), ('evolv', 1947), ('evp', 1948), ('evpann', 1949), ('evproxann', 1950), ('evpwilliam', 1951), ('ewitrad', 1952), ('exacerb', 1953), ('exact', 1954), ('examin', 1955), ('exampl', 1956), ('exceed', 1957), ('excel', 1958), ('except', 1959), ('exchang', 1960), ('exchangetrad', 1961), ('excit', 1962), ('exclud', 1963), ('exclus', 1964), ('exdividend', 1965), ('exec', 1966), ('execut', 1967), ('exercis', 1968), ('exert', 1969), ('exhibit', 1970), ('exist', 1971), ('existenti', 1972), ('exit', 1973), ('exodus', 1974), ('exoduspoint', 1975), ('expand', 1976), ('expans', 1977), ('expansionin', 1978), ('expect', 1979), ('expedit', 1980), ('expenditur', 1981), ('expens', 1982), ('experi', 1983), ('experienc', 1984), ('experiment', 1985), ('expert', 1986), ('expertis', 1987), ('expir', 1988), ('explain', 1989), ('explan', 1990), ('explicit', 1991), ('explod', 1992), ('exploit', 1993), ('explor', 1994), ('explos', 1995), ('expo', 1996), ('export', 1997), ('expos', 1998), ('exposur', 1999), ('express', 2000), ('extend', 2001), ('extens', 2002), ('extent', 2003), ('extern', 2004), ('extinct', 2005), ('extr', 2006), ('extra', 2007), ('extrareportsogunmoded', 2008), ('extravag', 2009), ('extrem', 2010), ('exyugoslavia', 2011), ('eye', 2012), ('eyebrow', 2013), ('f', 2014), ('fabric', 2015), ('facad', 2016), ('face', 2017), ('facebook', 2018), ('facet', 2019), ('facetofac', 2020), ('facial', 2021), ('facil', 2022), ('facilit', 2023), ('facilitysystem', 2024), ('facsimil', 2025), ('fact', 2026), ('facto', 2027), ('factor', 2028), ('faculti', 2029), ('fail', 2030), ('failur', 2031), ('fair', 2032), ('fairfield', 2033), ('faith', 2034), ('fall', 2035), ('fals', 2036), ('falter', 2037), ('fama', 2038), ('fame', 2039), ('famili', 2040), ('familiar', 2041), ('fan', 2042), ('fansabout', 2043), ('fanta', 2044), ('fantast', 2045), ('faq', 2046), ('far', 2047), ('fare', 2048), ('farflung', 2049), ('fargo', 2050), ('farley', 2051), ('farm', 2052), ('farmer', 2053), ('farright', 2054), ('farto', 2055), ('farwhat', 2056), ('fas', 2057), ('fascist', 2058), ('fashion', 2059), ('faso', 2060), ('fast', 2061), ('faster', 2062), ('fastest', 2063), ('fastgrow', 2064), ('fastpac', 2065), ('fatal', 2066), ('fate', 2067), ('father', 2068), ('fattah', 2069), ('fatteh', 2070), ('favor', 2071), ('favorit', 2072), ('favour', 2073), ('favourit', 2074), ('fc', 2075), ('fda', 2076), ('fear', 2077), ('featur', 2078), ('featureincreas', 2079), ('februari', 2080), ('feder', 2081), ('fee', 2082), ('feel', 2083), ('felix', 2084), ('fell', 2085), ('fellow', 2086), ('felt', 2087), ('femal', 2088), ('ferguson', 2089), ('fertilis', 2090), ('festiv', 2091), ('fete', 2092), ('fewer', 2093), ('fewmilitantroposi', 2094), ('fgd', 2095), ('fgds', 2096), ('fi', 2097), ('fibrot', 2098), ('fiction', 2099), ('fide', 2100), ('fidel', 2101), ('fiduciari', 2102), ('field', 2103), ('fierc', 2104), ('fifteen', 2105), ('fifth', 2106), ('fifti', 2107), ('fiftyseven', 2108), ('fiftytwo', 2109), ('figaro', 2110), ('fight', 2111), ('fighter', 2112), ('figur', 2113), ('fii', 2114), ('file', 2115), ('filipino', 2116), ('fill', 2117), ('film', 2118), ('filmcoexist', 2119), ('filmdocumentaryhow', 2120), ('filmmak', 2121), ('filter', 2122), ('filtrat', 2123), ('fin', 2124), ('final', 2125), ('finalis', 2126), ('finallystocknewscomassum', 2127), ('finallystocknewscombegan', 2128), ('finalyear', 2129), ('financ', 2130), ('financi', 2131), ('find', 2132), ('fine', 2133), ('finish', 2134), ('finneran', 2135), ('fintech', 2136), ('fire', 2137), ('firebal', 2138), ('firebrand', 2139), ('firefight', 2140), ('firm', 2141), ('firn', 2142), ('first', 2143), ('fiscal', 2144), ('fish', 2145), ('fisher', 2146), ('fit', 2147), ('fitzgerald', 2148), ('five', 2149), ('fiveyear', 2150), ('fix', 2151), ('fixedincom', 2152), ('fixedterm', 2153), ('flag', 2154), ('flagship', 2155), ('flash', 2156), ('flat', 2157), ('flatten', 2158), ('flavor', 2159), ('flavour', 2160), ('flee', 2161), ('fleet', 2162), ('fleetguard', 2163), ('flexibl', 2164), ('fli', 2165), ('flood', 2166), ('floodplainsauthor', 2167), ('floodprotect', 2168), ('floor', 2169), ('floral', 2170), ('florian', 2171), ('florida', 2172), ('flourish', 2173), ('flow', 2174), ('floyd', 2175), ('fluctuat', 2176), ('fly', 2177), ('fmcg', 2178), ('fmi', 2179), ('focal', 2180), ('focus', 2181), ('folashad', 2182), ('folk', 2183), ('folklor', 2184), ('follow', 2185), ('followup', 2186), ('food', 2187), ('foot', 2188), ('footag', 2189), ('footbal', 2190), ('footprint', 2191), ('forb', 2192), ('forc', 2193), ('forecast', 2194), ('forego', 2195), ('foreign', 2196), ('foremost', 2197), ('forest', 2198), ('forestal', 2199), ('foretel', 2200), ('forev', 2201), ('forevera', 2202), ('foreveralkerm', 2203), ('foreveralset', 2204), ('forevercheck', 2205), ('foreverfre', 2206), ('forevergener', 2207), ('foreverget', 2208), ('forevernasdaq', 2209), ('forevernysedxcopen', 2210), ('foreverseparatelystocknewscombegan', 2211), ('foreversever', 2212), ('forevershar', 2213), ('foreverth', 2214), ('foreverthi', 2215), ('foreverview', 2216), ('forg', 2217), ('forget', 2218), ('forgiv', 2219), ('form', 2220), ('formal', 2221), ('format', 2222), ('former', 2223), ('formula', 2224), ('forrest', 2225), ('forster', 2226), ('forth', 2227), ('forthcom', 2228), ('forti', 2229), ('fortun', 2230), ('forum', 2231), ('forward', 2232), ('forwardlook', 2233), ('forwardthink', 2234), ('foster', 2235), ('foundat', 2236), ('founder', 2237), ('foundher', 2238), ('four', 2239), ('fourpaisa', 2240), ('fourteen', 2241), ('fourth', 2242), ('fourweek', 2243), ('fox', 2244), ('fragil', 2245), ('fragnoli', 2246), ('frame', 2247), ('framework', 2248), ('fran', 2249), ('franc', 2250), ('francepress', 2251), ('franchis', 2252), ('francisco', 2253), ('frank', 2254), ('frankensteinian', 2255), ('frankfurt', 2256), ('franzia', 2257), ('fraudul', 2258), ('fraught', 2259), ('free', 2260), ('freedom', 2261), ('freez', 2262), ('freeze', 2263), ('freight', 2264), ('french', 2265), ('frequent', 2266), ('fresh', 2267), ('friday', 2268), ('fridayth', 2269), ('fridman', 2270), ('friend', 2271), ('friendship', 2272), ('front', 2273), ('frontend', 2274), ('frontgat', 2275), ('frontier', 2276), ('frost', 2277), ('frp', 2278), ('fruit', 2279), ('fruiti', 2280), ('frustrat', 2281), ('ft', 2282), ('ftx', 2283), ('fuel', 2284), ('fuell', 2285), ('fujian', 2286), ('fulfil', 2287), ('full', 2288), ('fulli', 2289), ('fullsiz', 2290), ('fullyear', 2291), ('fullyfinanc', 2292), ('fun', 2293), ('function', 2294), ('functionari', 2295), ('fund', 2296), ('fundament', 2297), ('funni', 2298), ('fur', 2299), ('furi', 2300), ('furnish', 2301), ('furnitur', 2302), ('furniturebalsam', 2303), ('furniturewayfairup', 2304), ('furthermor', 2305), ('furthest', 2306), ('futur', 2307), ('fuze', 2308), ('fx', 2309), ('fy', 2310), ('fyfe', 2311), ('g', 2312), ('gabelli', 2313), ('gadget', 2314), ('gaggar', 2315), ('gai', 2316), ('gain', 2317), ('galapago', 2318), ('galaxi', 2319), ('galleri', 2320), ('gallo', 2321), ('gallon', 2322), ('gambl', 2323), ('gamco', 2324), ('game', 2325), ('gammel', 2326), ('gandhi', 2327), ('gang', 2328), ('ganget', 2329), ('gap', 2330), ('gari', 2331), ('garner', 2332), ('gas', 2333), ('gase', 2334), ('gate', 2335), ('gateway', 2336), ('gather', 2337), ('gaug', 2338), ('gautam', 2339), ('gaza', 2340), ('gazabas', 2341), ('gazan', 2342), ('gb', 2343), ('gbs', 2344), ('gbx', 2345), ('gcc', 2346), ('gccs', 2347), ('gdp', 2348), ('ge', 2349), ('geek', 2350), ('geert', 2351), ('gen', 2352), ('gender', 2353), ('genderbas', 2354), ('gene', 2355), ('general', 2356), ('generat', 2357), ('generic', 2358), ('generous', 2359), ('genet', 2360), ('geneva', 2361), ('geni', 2362), ('genocid', 2363), ('genuin', 2364), ('geod', 2365), ('geograph', 2366), ('geojit', 2367), ('geopolit', 2368), ('georg', 2369), ('geotre', 2370), ('german', 2371), ('germani', 2372), ('get', 2373), ('getti', 2374), ('gettogeth', 2375), ('gevisit', 2376), ('gf', 2377), ('gfvisit', 2378), ('ghaidah', 2379), ('ghanchi', 2380), ('ghost', 2381), ('gi', 2382), ('giant', 2383), ('gic', 2384), ('gift', 2385), ('gigsthat', 2386), ('gii', 2387), ('gild', 2388), ('giorgia', 2389), ('giorgio', 2390), ('girona', 2391), ('give', 2392), ('gladius', 2393), ('glanc', 2394), ('glenn', 2395), ('glide', 2396), ('global', 2397), ('globe', 2398), ('gloom', 2399), ('gmail', 2400), ('gmbh', 2401), ('gmch', 2402), ('go', 2403), ('goal', 2404), ('god', 2405), ('godwhat', 2406), ('goe', 2407), ('goenka', 2408), ('goita', 2409), ('goitawroteon', 2410), ('gold', 2411), ('goldman', 2412), ('good', 2413), ('googl', 2414), ('gorlova', 2415), ('goshop', 2416), ('govern', 2417), ('governor', 2418), ('govt', 2419), ('grab', 2420), ('graceland', 2421), ('grade', 2422), ('gradual', 2423), ('graduat', 2424), ('grain', 2425), ('grammat', 2426), ('grammi', 2427), ('grand', 2428), ('grandfath', 2429), ('grant', 2430), ('grape', 2431), ('graphic', 2432), ('grappl', 2433), ('grate', 2434), ('gratitud', 2435), ('graviti', 2436), ('great', 2437), ('greater', 2438), ('greed', 2439), ('green', 2440), ('greenblatt', 2441), ('greenhous', 2442), ('greet', 2443), ('grid', 2444), ('grievanc', 2445), ('grill', 2446), ('grind', 2447), ('groceri', 2448), ('gross', 2449), ('groundbreak', 2450), ('group', 2451), ('grow', 2452), ('growth', 2453), ('gruel', 2454), ('gs', 2455), ('gsb', 2456), ('gst', 2457), ('guarante', 2458), ('guard', 2459), ('guardian', 2460), ('guardrail', 2461), ('guardvip', 2462), ('guess', 2463), ('guest', 2464), ('guid', 2465), ('guidanc', 2466), ('guidelin', 2467), ('guild', 2468), ('guillaum', 2469), ('guilti', 2470), ('gujarat', 2471), ('gun', 2472), ('gunshot', 2473), ('gupta', 2474), ('guru', 2475), ('gust', 2476), ('gw', 2477), ('gwk', 2478), ('h', 2479), ('habeck', 2480), ('hadnt', 2481), ('hafiz', 2482), ('hagari', 2483), ('hagu', 2484), ('hail', 2485), ('haim', 2486), ('hair', 2487), ('half', 2488), ('halfhour', 2489), ('halfmil', 2490), ('halt', 2491), ('halv', 2492), ('hama', 2493), ('hamasrun', 2494), ('hamass', 2495), ('hamidwhat', 2496), ('hamilton', 2497), ('hammer', 2498), ('hamoon', 2499), ('hampshir', 2500), ('hand', 2501), ('handl', 2502), ('hang', 2503), ('hangzhou', 2504), ('hank', 2505), ('hannah', 2506), ('haokan', 2507), ('hapaglloyd', 2508), ('happen', 2509), ('happenedon', 2510), ('happenedwer', 2511), ('happi', 2512), ('har', 2513), ('harass', 2514), ('harbor', 2515), ('hard', 2516), ('hardasset', 2517), ('hardright', 2518), ('hardship', 2519), ('harduaganj', 2520), ('hardwar', 2521), ('harel', 2522), ('hargobind', 2523), ('haridwar', 2524), ('harm', 2525), ('harmoni', 2526), ('harriman', 2527), ('harsh', 2528), ('harvansh', 2529), ('harvest', 2530), ('harvestman', 2531), ('haryana', 2532), ('hasalway', 2533), ('hashtag', 2534), ('hasnt', 2535), ('hast', 2536), ('hate', 2537), ('hatr', 2538), ('hattrick', 2539), ('haveal', 2540), ('havel', 2541), ('hazard', 2542), ('haze', 2543), ('hb', 2544), ('hbo', 2545), ('hc', 2546), ('hdfc', 2547), ('head', 2548), ('headlin', 2549), ('headquart', 2550), ('headwind', 2551), ('health', 2552), ('healthcar', 2553), ('healthi', 2554), ('heap', 2555), ('hear', 2556), ('heart', 2557), ('heartland', 2558), ('heat', 2559), ('heatwav', 2560), ('heavi', 2561), ('heavili', 2562), ('hedg', 2563), ('heidi', 2564), ('height', 2565), ('helicopt', 2566), ('hell', 2567), ('help', 2568), ('hematolog', 2569), ('henc', 2570), ('henkel', 2571), ('henneckecarolin', 2572), ('herb', 2573), ('here', 2574), ('hereaft', 2575), ('herebi', 2576), ('herein', 2577), ('hernandez', 2578), ('hero', 2579), ('heroic', 2580), ('herzog', 2581), ('hes', 2582), ('hezbollah', 2583), ('hgc', 2584), ('hiatus', 2585), ('hide', 2586), ('high', 2587), ('higher', 2588), ('highest', 2589), ('highgrowth', 2590), ('highhazard', 2591), ('highimpact', 2592), ('highincom', 2593), ('highlevel', 2594), ('highlight', 2595), ('highqual', 2596), ('highreadi', 2597), ('highspe', 2598), ('hightech', 2599), ('hii', 2600), ('hijack', 2601), ('hike', 2602), ('hikma', 2603), ('hikvis', 2604), ('hillsav', 2605), ('himach', 2606), ('himalaya', 2607), ('himalayan', 2608), ('himselfherself', 2609), ('hinder', 2610), ('hindumuslim', 2611), ('hing', 2612), ('hint', 2613), ('hire', 2614), ('hiroshima', 2615), ('histor', 2616), ('histori', 2617), ('hit', 2618), ('hivetoday', 2619), ('hoganhow', 2620), ('hold', 2621), ('holder', 2622), ('holdingschannelcomto', 2623), ('hole', 2624), ('holiday', 2625), ('holidaytrunc', 2626), ('holist', 2627), ('hollywood', 2628), ('home', 2629), ('homegrown', 2630), ('honey', 2631), ('honeyeat', 2632), ('hong', 2633), ('honor', 2634), ('honour', 2635), ('hope', 2636), ('horrend', 2637), ('horror', 2638), ('horrorstarv', 2639), ('hors', 2640), ('hospit', 2641), ('host', 2642), ('hostag', 2643), ('hostel', 2644), ('hostil', 2645), ('hot', 2646), ('hotel', 2647), ('hotseat', 2648), ('hotspot', 2649), ('hottest', 2650), ('hour', 2651), ('hous', 2652), ('household', 2653), ('houston', 2654), ('houthi', 2655), ('howel', 2656), ('howev', 2657), ('hr', 2658), ('hrvi', 2659), ('hsbc', 2660), ('hsjid', 2661), ('hub', 2662), ('huge', 2663), ('human', 2664), ('humancaus', 2665), ('humanitarian', 2666), ('humanityopenai', 2667), ('humanrel', 2668), ('humid', 2669), ('humor', 2670), ('humza', 2671), ('hundr', 2672), ('hungari', 2673), ('hungarian', 2674), ('hunger', 2675), ('hunt', 2676), ('hur', 2677), ('husband', 2678), ('hybrid', 2679), ('hydrat', 2680), ('hydraul', 2681), ('hygien', 2682), ('hyperlink', 2683), ('hypermarket', 2684), ('hypermarketsconveni', 2685), ('iacf', 2686), ('iats', 2687), ('ibadan', 2688), ('ibadanrel', 2689), ('iberia', 2690), ('ibm', 2691), ('ibmopen', 2692), ('ice', 2693), ('icema', 2694), ('icici', 2695), ('icon', 2696), ('icra', 2697), ('idea', 2698), ('ident', 2699), ('identif', 2700), ('identifi', 2701), ('ideolog', 2702), ('idf', 2703), ('idfa', 2704), ('idiosyncrasi', 2705), ('idl', 2706), ('idyl', 2707), ('ie', 2708), ('ife', 2709), ('ignit', 2710), ('ignor', 2711), ('ii', 2712), ('iii', 2713), ('iimeduc', 2714), ('iip', 2715), ('iiser', 2716), ('il', 2717), ('ile', 2718), ('illeg', 2719), ('illiber', 2720), ('illinoi', 2721), ('illus', 2722), ('illustr', 2723), ('im', 2724), ('imad', 2725), ('imag', 2726), ('imageri', 2727), ('imbu', 2728), ('imd', 2729), ('imdb', 2730), ('immedi', 2731), ('immens', 2732), ('immun', 2733), ('immunolog', 2734), ('impact', 2735), ('impart', 2736), ('implement', 2737), ('impli', 2738), ('implic', 2739), ('import', 2740), ('impos', 2741), ('imposs', 2742), ('impregn', 2743), ('impress', 2744), ('improv', 2745), ('impun', 2746), ('inabl', 2747), ('inappropri', 2748), ('inaud', 2749), ('inc', 2750), ('incalta', 2751), ('incchristiana', 2752), ('incent', 2753), ('inchandigarh', 2754), ('incid', 2755), ('includ', 2756), ('inclus', 2757), ('incom', 2758), ('incomplet', 2759), ('incorpor', 2760), ('increas', 2761), ('incred', 2762), ('incumb', 2763), ('incur', 2764), ('indascr', 2765), ('inde', 2766), ('indefinit', 2767), ('independ', 2768), ('indepth', 2769), ('index', 2770), ('india', 2771), ('indian', 2772), ('indiana', 2773), ('indic', 2774), ('indiffer', 2775), ('indigen', 2776), ('indigo', 2777), ('indira', 2778), ('indisput', 2779), ('individu', 2780), ('indonesia', 2781), ('indonesian', 2782), ('indoor', 2783), ('indulg', 2784), ('indusgangeticbrahmaputra', 2785), ('indusind', 2786), ('industri', 2787), ('industrialist', 2788), ('industrylead', 2789), ('industryprotect', 2790), ('industrywid', 2791), ('ined', 2792), ('inevit', 2793), ('inferior', 2794), ('inferno', 2795), ('inflat', 2796), ('inflict', 2797), ('infloodzon', 2798), ('influenc', 2799), ('influenti', 2800), ('info', 2801), ('inform', 2802), ('infosi', 2803), ('infotitanpartnersgrpcom', 2804), ('infrastructur', 2805), ('infrastructurecritica', 2806), ('infus', 2807), ('inhabit', 2808), ('inhi', 2809), ('inhibitor', 2810), ('initi', 2811), ('inject', 2812), ('injur', 2813), ('injustic', 2814), ('ink', 2815), ('inlaw', 2816), ('inlicens', 2817), ('inlin', 2818), ('innat', 2819), ('innaturewarnseast', 2820), ('inner', 2821), ('innoc', 2822), ('innov', 2823), ('inperson', 2824), ('input', 2825), ('inquiri', 2826), ('inscrib', 2827), ('insecur', 2828), ('insert', 2829), ('insid', 2830), ('insight', 2831), ('insist', 2832), ('inson', 2833), ('inspect', 2834), ('inspector', 2835), ('inspir', 2836), ('instagram', 2837), ('instal', 2838), ('instanc', 2839), ('instc', 2840), ('instead', 2841), ('instil', 2842), ('instinct', 2843), ('institut', 2844), ('instor', 2845), ('instruct', 2846), ('instrument', 2847), ('insuffici', 2848), ('insur', 2849), ('insurg', 2850), ('integr', 2851), ('integrationth', 2852), ('intellig', 2853), ('intend', 2854), ('intens', 2855), ('intensifi', 2856), ('intent', 2857), ('interact', 2858), ('intercept', 2859), ('interconnect', 2860), ('interest', 2861), ('interfer', 2862), ('interim', 2863), ('interior', 2864), ('intermedi', 2865), ('intermod', 2866), ('intern', 2867), ('internet', 2868), ('interplay', 2869), ('interrog', 2870), ('intersect', 2871), ('interven', 2872), ('interview', 2873), ('intim', 2874), ('intimaci', 2875), ('intric', 2876), ('introduc', 2877), ('introduct', 2878), ('intrus', 2879), ('invad', 2880), ('invalu', 2881), ('invas', 2882), ('inventori', 2883), ('invest', 2884), ('investig', 2885), ('investmentgrad', 2886), ('investor', 2887), ('investorskevin', 2888), ('invit', 2889), ('inviteon', 2890), ('involv', 2891), ('io', 2892), ('iot', 2893), ('ipad', 2894), ('ipcc', 2895), ('ipg', 2896), ('iphon', 2897), ('iqiyi', 2898), ('ir', 2899), ('iran', 2900), ('iranback', 2901), ('iranian', 2902), ('iranianback', 2903), ('ireland', 2904), ('iron', 2905), ('irtextainercom', 2906), ('isaac', 2907), ('isb', 2908), ('ishar', 2909), ('isi', 2910), ('islam', 2911), ('islamist', 2912), ('island', 2913), ('ismail', 2914), ('isnt', 2915), ('isol', 2916), ('ison', 2917), ('isra', 2918), ('israel', 2919), ('israelgaza', 2920), ('israelhama', 2921), ('israelipalestinian', 2922), ('israelit', 2923), ('issu', 2924), ('issuanc', 2925), ('issueth', 2926), ('ist', 2927), ('itai', 2928), ('itali', 2929), ('italian', 2930), ('item', 2931), ('itemsarticleup', 2932), ('itrel', 2933), ('itscrisp', 2934), ('itseco', 2935), ('itslinen', 2936), ('iv', 2937), ('ive', 2938), ('ix', 2939), ('izh', 2940), ('j', 2941), ('jabalia', 2942), ('jack', 2943), ('jacket', 2944), ('jail', 2945), ('jaipur', 2946), ('jam', 2947), ('jamal', 2948), ('jame', 2949), ('jammu', 2950), ('jane', 2951), ('januari', 2952), ('japan', 2953), ('jason', 2954), ('jazeera', 2955), ('jeddah', 2956), ('jefferi', 2957), ('jen', 2958), ('jerri', 2959), ('jerusalem', 2960), ('jess', 2961), ('jessica', 2962), ('jew', 2963), ('jewish', 2964), ('jhangiani', 2965), ('jiangnan', 2966), ('jibe', 2967), ('jihad', 2968), ('jihadist', 2969), ('jimni', 2970), ('jinp', 2971), ('joao', 2972), ('job', 2973), ('joe', 2974), ('johannesburg', 2975), ('john', 2976), ('johnni', 2977), ('johnson', 2978), ('join', 2979), ('joint', 2980), ('joke', 2981), ('jolt', 2982), ('jonathan', 2983), ('jone', 2984), ('jordan', 2985), ('jordanian', 2986), ('jos', 2987), ('joseph', 2988), ('joshimath', 2989), ('joshsjsprco', 2990), ('joss', 2991), ('journalist', 2992), ('journey', 2993), ('joy', 2994), ('jpmorgan', 2995), ('jr', 2996), ('jrsold', 2997), ('jse', 2998), ('jsw', 2999), ('jubil', 3000), ('judg', 3001), ('judgment', 3002), ('judith', 3003), ('juli', 3004), ('julia', 3005), ('juliett', 3006), ('julius', 3007), ('jumpstyl', 3008), ('jun', 3009), ('junaid', 3010), ('june', 3011), ('juneteenth', 3012), ('jungl', 3013), ('juri', 3014), ('jurisdict', 3015), ('juro', 3016), ('juror', 3017), ('juspay', 3018), ('justifi', 3019), ('juvenil', 3020), ('k', 3021), ('kacey', 3022), ('kamsarmax', 3023), ('kane', 3024), ('kang', 3025), ('kano', 3026), ('kate', 3027), ('kathi', 3028), ('kathmandu', 3029), ('kauna', 3030), ('kazakhstan', 3031), ('kbw', 3032), ('kcr', 3033), ('keep', 3034), ('keir', 3035), ('kellogg', 3036), ('kempton', 3037), ('kentucki', 3038), ('kernel', 3039), ('keurig', 3040), ('keurigamazon', 3041), ('kevorkian', 3042), ('kevorkiansold', 3043), ('key', 3044), ('keycorp', 3045), ('kg', 3046), ('kgaa', 3047), ('kgaapublish', 3048), ('khaitan', 3049), ('khan', 3050), ('kharg', 3051), ('khepupara', 3052), ('khouri', 3053), ('kiah', 3054), ('kibbutz', 3055), ('kick', 3056), ('kickoff', 3057), ('kickstart', 3058), ('kidal', 3059), ('kidnap', 3060), ('kill', 3061), ('kilomet', 3062), ('kiloton', 3063), ('kind', 3064), ('king', 3065), ('kingdom', 3066), ('kirya', 3067), ('kiss', 3068), ('kit', 3069), ('kitchen', 3070), ('kitchenaid', 3071), ('kiwi', 3072), ('klockworx', 3073), ('km', 3074), ('kmhr', 3075), ('knobel', 3076), ('knockout', 3077), ('know', 3078), ('knowb', 3079), ('knowledg', 3080), ('knowledgebas', 3081), ('knowledgeshar', 3082), ('kokotajlo', 3083), ('kolkata', 3084), ('kong', 3085), ('kool', 3086), ('korchia', 3087), ('korea', 3088), ('korsia', 3089), ('kovoor', 3090), ('kremlin', 3091), ('ktu', 3092), ('kwara', 3093), ('kyrgyzstan', 3094), ('l', 3095), ('la', 3096), ('lab', 3097), ('labattoir', 3098), ('label', 3099), ('labor', 3100), ('labour', 3101), ('labro', 3102), ('lack', 3103), ('lade', 3104), ('ladi', 3105), ('laganosold', 3106), ('laggard', 3107), ('lago', 3108), ('lainey', 3109), ('lake', 3110), ('lakh', 3111), ('lament', 3112), ('lana', 3113), ('lancast', 3114), ('land', 3115), ('landfal', 3116), ('landscap', 3117), ('lane', 3118), ('languag', 3119), ('lanka', 3120), ('lap', 3121), ('laptop', 3122), ('larg', 3123), ('larger', 3124), ('largescal', 3125), ('largest', 3126), ('larri', 3127), ('las', 3128), ('lash', 3129), ('last', 3130), ('latch', 3131), ('late', 3132), ('latenc', 3133), ('later', 3134), ('latest', 3135), ('latin', 3136), ('latter', 3137), ('laugh', 3138), ('launch', 3139), ('lauren', 3140), ('law', 3141), ('lawless', 3142), ('lawmak', 3143), ('lawsaccord', 3144), ('lawyer', 3145), ('lax', 3146), ('lay', 3147), ('layout', 3148), ('lazard', 3149), ('le', 3150), ('leach', 3151), ('lead', 3152), ('leader', 3153), ('leadership', 3154), ('leagu', 3155), ('leah', 3156), ('leak', 3157), ('lean', 3158), ('learn', 3159), ('leas', 3160), ('least', 3161), ('leav', 3162), ('leave', 3163), ('lebanon', 3164), ('lectur', 3165), ('lecun', 3166), ('leech', 3167), ('leed', 3168), ('leesa', 3169), ('leftw', 3170), ('leg', 3171), ('legal', 3172), ('legend', 3173), ('legisl', 3174), ('legitim', 3175), ('legitimaci', 3176), ('leigh', 3177), ('leisur', 3178), ('len', 3179), ('lend', 3180), ('length', 3181), ('leonidasromano', 3182), ('less', 3183), ('lesse', 3184), ('lessen', 3185), ('lesser', 3186), ('lesson', 3187), ('lessor', 3188), ('let', 3189), ('letter', 3190), ('lettertoamerica', 3191), ('leukemia', 3192), ('level', 3193), ('leveldu', 3194), ('leverag', 3195), ('levi', 3196), ('lex', 3197), ('liabil', 3198), ('liaon', 3199), ('liber', 3200), ('libya', 3201), ('lic', 3202), ('licens', 3203), ('lid', 3204), ('lido', 3205), ('lie', 3206), ('lieberman', 3207), ('lieu', 3208), ('lieutenantgener', 3209), ('life', 3210), ('lifealt', 3211), ('lifelong', 3212), ('lifethreaten', 3213), ('lifetim', 3214), ('lifewhat', 3215), ('lift', 3216), ('liga', 3217), ('light', 3218), ('lightweight', 3219), ('like', 3220), ('lili', 3221), ('limit', 3222), ('linchpin', 3223), ('lincoln', 3224), ('linda', 3225), ('line', 3226), ('linear', 3227), ('linen', 3228), ('lineup', 3229), ('link', 3230), ('linkedin', 3231), ('linktargettak', 3232), ('lionsgat', 3233), ('lip', 3234), ('liquid', 3235), ('list', 3236), ('listen', 3237), ('liter', 3238), ('lithuania', 3239), ('litig', 3240), ('litr', 3241), ('littl', 3242), ('live', 3243), ('livedin', 3244), ('livelihood', 3245), ('livestock', 3246), ('livon', 3247), ('livonia', 3248), ('llc', 3249), ('llckevinscrircom', 3250), ('llcs', 3251), ('load', 3252), ('loan', 3253), ('lobi', 3254), ('local', 3255), ('locat', 3256), ('lock', 3257), ('lockdown', 3258), ('locker', 3259), ('locki', 3260), ('lodg', 3261), ('log', 3262), ('logic', 3263), ('logist', 3264), ('loglin', 3265), ('london', 3266), ('londonnow', 3267), ('londripget', 3268), ('long', 3269), ('longbeak', 3270), ('longer', 3271), ('longerterm', 3272), ('longform', 3273), ('longrang', 3274), ('longterm', 3275), ('longtim', 3276), ('look', 3277), ('loom', 3278), ('loop', 3279), ('loophol', 3280), ('lord', 3281), ('los', 3282), ('lose', 3283), ('loss', 3284), ('lossfor', 3285), ('lot', 3286), ('lotteri', 3287), ('loud', 3288), ('louder', 3289), ('louisdreyfus', 3290), ('love', 3291), ('low', 3292), ('lowdown', 3293), ('lower', 3294), ('lowest', 3295), ('lowincom', 3296), ('loyalti', 3297), ('lp', 3298), ('lps', 3299), ('ltd', 3300), ('ltds', 3301), ('lube', 3302), ('luck', 3303), ('lunch', 3304), ('lung', 3305), ('lurch', 3306), ('luther', 3307), ('lux', 3308), ('luxembourg', 3309), ('luxuri', 3310), ('lynn', 3311), ('machi', 3312), ('machin', 3313), ('machina', 3314), ('maci', 3315), ('mackenzi', 3316), ('macro', 3317), ('macroeconom', 3318), ('macron', 3319), ('madden', 3320), ('madefor', 3321), ('madeth', 3322), ('madri', 3323), ('madrid', 3324), ('maersk', 3325), ('magazin', 3326), ('magic', 3327), ('magnesium', 3328), ('magnific', 3329), ('magnitud', 3330), ('magumbgoau', 3331), ('mahadev', 3332), ('mahajanrrfaorg', 3333), ('mahatma', 3334), ('mahindra', 3335), ('mahmoud', 3336), ('maiden', 3337), ('mail', 3338), ('maillard', 3339), ('main', 3340), ('mainstream', 3341), ('maintain', 3342), ('mainten', 3343), ('mainz', 3344), ('mainzbiomedcominvestor', 3345), ('mainzbiomedmcserviceseu', 3346), ('major', 3347), ('make', 3348), ('maker', 3349), ('makeup', 3350), ('maksym', 3351), ('malfunct', 3352), ('mali', 3353), ('malian', 3354), ('mallikarjun', 3355), ('malnutrit', 3356), ('malon', 3357), ('malwareload', 3358), ('mammal', 3359), ('man', 3360), ('manag', 3361), ('manchest', 3362), ('mandat', 3363), ('mandbudhi', 3364), ('manhattan', 3365), ('mani', 3366), ('manipul', 3367), ('mann', 3368), ('manner', 3369), ('manpow', 3370), ('mantra', 3371), ('manufactur', 3372), ('mapswhil', 3373), ('march', 3374), ('marciano', 3375), ('margin', 3376), ('marico', 3377), ('maritim', 3378), ('mark', 3379), ('markdown', 3380), ('market', 3381), ('marketbeat', 3382), ('marketbeatcom', 3383), ('marketfocus', 3384), ('marketi', 3385), ('marketplac', 3386), ('marketreadi', 3387), ('marketthi', 3388), ('marketvalueweight', 3389), ('martin', 3390), ('martina', 3391), ('maruti', 3392), ('mas', 3393), ('mass', 3394), ('massachusett', 3395), ('massacr', 3396), ('massiv', 3397), ('master', 3398), ('match', 3399), ('matchday', 3400), ('materi', 3401), ('materiallyboth', 3402), ('mathemat', 3403), ('matheson', 3404), ('matrix', 3405), ('matt', 3406), ('matter', 3407), ('mattress', 3408), ('mattressi', 3409), ('matur', 3410), ('max', 3411), ('maximis', 3412), ('maximum', 3413), ('may', 3414), ('maya', 3415), ('mayb', 3416), ('mayor', 3417), ('mayott', 3418), ('mba', 3419), ('mcbride', 3420), ('md', 3421), ('mdas', 3422), ('mdasmusa', 3423), ('mdceo', 3424), ('mds', 3425), ('mean', 3426), ('meantim', 3427), ('meanwhil', 3428), ('measl', 3429), ('measur', 3430), ('meat', 3431), ('mechan', 3432), ('media', 3433), ('mediaglenn', 3434), ('mediat', 3435), ('medic', 3436), ('medicin', 3437), ('medium', 3438), ('meet', 3439), ('megatrend', 3440), ('mehrotrasold', 3441), ('melissa', 3442), ('mellow', 3443), ('meloni', 3444), ('member', 3445), ('membership', 3446), ('memor', 3447), ('memorandum', 3448), ('memori', 3449), ('men', 3450), ('menon', 3451), ('mental', 3452), ('mention', 3453), ('mentorship', 3454), ('menu', 3455), ('mercedesbenz', 3456), ('mercer', 3457), ('merchandis', 3458), ('mere', 3459), ('merg', 3460), ('merger', 3461), ('merit', 3462), ('merlot', 3463), ('messag', 3464), ('meta', 3465), ('meteorolog', 3466), ('meter', 3467), ('methodolog', 3468), ('meticul', 3469), ('metlif', 3470), ('metric', 3471), ('metropolitan', 3472), ('mexican', 3473), ('mexico', 3474), ('meyercordsold', 3475), ('mg', 3476), ('mhl', 3477), ('mi', 3478), ('miami', 3479), ('mich', 3480), ('michael', 3481), ('michell', 3482), ('michigan', 3483), ('micken', 3484), ('mickey', 3485), ('microblog', 3486), ('microcuff', 3487), ('micron', 3488), ('mid', 3489), ('midcap', 3490), ('midday', 3491), ('middl', 3492), ('midmay', 3493), ('midseptemb', 3494), ('midstream', 3495), ('midterm', 3496), ('might', 3497), ('migrant', 3498), ('migrat', 3499), ('mikati', 3500), ('mike', 3501), ('milan', 3502), ('milder', 3503), ('mildew', 3504), ('mile', 3505), ('mileston', 3506), ('milit', 3507), ('militantropo', 3508), ('militari', 3509), ('militia', 3510), ('million', 3511), ('millionworth', 3512), ('miltantroposinvit', 3513), ('milwauke', 3514), ('min', 3515), ('mind', 3516), ('mindless', 3517), ('mindset', 3518), ('mine', 3519), ('miner', 3520), ('minesweep', 3521), ('mini', 3522), ('miniciso', 3523), ('minim', 3524), ('minimum', 3525), ('miniseri', 3526), ('minist', 3527), ('ministerth', 3528), ('ministri', 3529), ('minor', 3530), ('minus', 3531), ('minusma', 3532), ('minut', 3533), ('miseri', 3534), ('misfir', 3535), ('misgiv', 3536), ('misinform', 3537), ('misl', 3538), ('mismanag', 3539), ('miss', 3540), ('missil', 3541), ('mission', 3542), ('mistak', 3543), ('mit', 3544), ('mitch', 3545), ('mitig', 3546), ('mitra', 3547), ('mix', 3548), ('mizo', 3549), ('mizuho', 3550), ('mkt', 3551), ('mm', 3552), ('mobil', 3553), ('model', 3554), ('moder', 3555), ('modern', 3556), ('modi', 3557), ('modifi', 3558), ('modul', 3559), ('mogul', 3560), ('moham', 3561), ('mohan', 3562), ('moistur', 3563), ('molecular', 3564), ('moleculargenet', 3565), ('moment', 3566), ('momentum', 3567), ('monday', 3568), ('mondaynovemb', 3569), ('moneta', 3570), ('monetari', 3571), ('monetis', 3572), ('monetiz', 3573), ('money', 3574), ('monik', 3575), ('monitor', 3576), ('monograph', 3577), ('monotrem', 3578), ('monster', 3579), ('month', 3580), ('montreal', 3581), ('mood', 3582), ('moor', 3583), ('moorealta', 3584), ('moral', 3585), ('moratorium', 3586), ('moreov', 3587), ('moreth', 3588), ('morewayfairup', 3589), ('morfydd', 3590), ('morgan', 3591), ('morissett', 3592), ('morn', 3593), ('morningbaystreetcareport', 3594), ('morningbenzingareport', 3595), ('morocco', 3596), ('mortar', 3597), ('moscow', 3598), ('mosqu', 3599), ('mosscov', 3600), ('most', 3601), ('mother', 3602), ('motion', 3603), ('motiv', 3604), ('motor', 3605), ('motown', 3606), ('moulinsbeaufort', 3607), ('mount', 3608), ('mountain', 3609), ('mousdikoudin', 3610), ('mouth', 3611), ('move', 3612), ('movement', 3613), ('movi', 3614), ('movistar', 3615), ('mozgovyi', 3616), ('mp', 3617), ('mr', 3618), ('mro', 3619), ('ms', 3620), ('msci', 3621), ('mscis', 3622), ('msps', 3623), ('mu', 3624), ('much', 3625), ('mug', 3626), ('muhammad', 3627), ('multicamera', 3628), ('multidimension', 3629), ('multiemploy', 3630), ('multifacet', 3631), ('multifactor', 3632), ('multifamili', 3633), ('multimod', 3634), ('multin', 3635), ('multipack', 3636), ('multipart', 3637), ('multipl', 3638), ('multiplex', 3639), ('multitrack', 3640), ('multitud', 3641), ('multiyear', 3642), ('mumbai', 3643), ('mundi', 3644), ('mundo', 3645), ('mungw', 3646), ('municip', 3647), ('murder', 3648), ('musa', 3649), ('museum', 3650), ('musgrav', 3651), ('music', 3652), ('musician', 3653), ('musk', 3654), ('muskinflam', 3655), ('muslim', 3656), ('mussolini', 3657), ('must', 3658), ('mustb', 3659), ('mutual', 3660), ('muvisit', 3661), ('myecfo', 3662), ('myeloid', 3663), ('myeloma', 3664), ('mynetworktv', 3665), ('mynz', 3666), ('myth', 3667), ('n', 3668), ('nada', 3669), ('naf', 3670), ('naic', 3671), ('nair', 3672), ('naiv', 3673), ('najeeb', 3674), ('najib', 3675), ('nakonechnyi', 3676), ('name', 3677), ('namma', 3678), ('nandini', 3679), ('narendra', 3680), ('narrat', 3681), ('narrow', 3682), ('narrowli', 3683), ('nartd', 3684), ('nasa', 3685), ('nascent', 3686), ('nasdaq', 3687), ('nasdaqaeiget', 3688), ('nasdaqalksfre', 3689), ('nasdaqalksget', 3690), ('nasdaqbidufre', 3691), ('nasdaqbndfre', 3692), ('nasdaqcsgpfre', 3693), ('nasdaqcsgpget', 3694), ('nasdaqextrfre', 3695), ('nasdaqmufre', 3696), ('nasdaqmuget', 3697), ('nasdaqrdifre', 3698), ('nasdaqsptnget', 3699), ('nasdaqstrtget', 3700), ('nasdaqtourfre', 3701), ('nasdaqtourget', 3702), ('nasdaqtouropen', 3703), ('nasdaqwwacfre', 3704), ('nashad', 3705), ('nashvill', 3706), ('nation', 3707), ('nationalist', 3708), ('nationallevel', 3709), ('natixi', 3710), ('nato', 3711), ('natur', 3712), ('natura', 3713), ('naturalist', 3714), ('naturedr', 3715), ('naval', 3716), ('navi', 3717), ('navig', 3718), ('nawaz', 3719), ('nazi', 3720), ('nba', 3721), ('nbc', 3722), ('nbcunivers', 3723), ('ncr', 3724), ('ncs', 3725), ('nd', 3726), ('nda', 3727), ('near', 3728), ('nearbi', 3729), ('necessari', 3730), ('necessarili', 3731), ('nectar', 3732), ('need', 3733), ('negat', 3734), ('negoti', 3735), ('neighbor', 3736), ('neighbour', 3737), ('neither', 3738), ('nemour', 3739), ('nemourss', 3740), ('neom', 3741), ('neonat', 3742), ('neonazi', 3743), ('nepal', 3744), ('nerv', 3745), ('nestl', 3746), ('net', 3747), ('netanyahu', 3748), ('netflix', 3749), ('netherland', 3750), ('network', 3751), ('networkdens', 3752), ('netzero', 3753), ('neumann', 3754), ('neurolog', 3755), ('neurosci', 3756), ('neutral', 3757), ('nevada', 3758), ('never', 3759), ('nevertheless', 3760), ('new', 3761), ('newark', 3762), ('newcastlemax', 3763), ('newer', 3764), ('newli', 3765), ('news', 3766), ('newsfilmmak', 3767), ('newsgovernorship', 3768), ('newspap', 3769), ('newsroomalliancenewscom', 3770), ('newsscott', 3771), ('newsweek', 3772), ('newswir', 3773), ('next', 3774), ('nfc', 3775), ('nichola', 3776), ('nicolaus', 3777), ('nielseniq', 3778), ('nifti', 3779), ('niger', 3780), ('nigeria', 3781), ('nigerian', 3782), ('night', 3783), ('nik', 3784), ('nikkei', 3785), ('nile', 3786), ('nimbl', 3787), ('nine', 3788), ('nineham', 3789), ('nineteen', 3790), ('nineti', 3791), ('nineyear', 3792), ('ninja', 3793), ('nino', 3794), ('ninth', 3795), ('nitrogen', 3796), ('noa', 3797), ('noam', 3798), ('nobodi', 3799), ('nocturn', 3800), ('nois', 3801), ('nomin', 3802), ('non', 3803), ('nonautomot', 3804), ('noncompli', 3805), ('noncov', 3806), ('noncredit', 3807), ('noncsd', 3808), ('nondiscrimin', 3809), ('none', 3810), ('nonhuman', 3811), ('noninvas', 3812), ('nonlif', 3813), ('nonnat', 3814), ('nonpay', 3815), ('nonprofit', 3816), ('nonprolifer', 3817), ('nonvolatil', 3818), ('noodl', 3819), ('norg', 3820), ('norm', 3821), ('normal', 3822), ('north', 3823), ('northeast', 3824), ('northern', 3825), ('northnorthwest', 3826), ('northsouth', 3827), ('northwest', 3828), ('northwestern', 3829), ('nose', 3830), ('nostalgia', 3831), ('notabl', 3832), ('notat', 3833), ('note', 3834), ('noth', 3835), ('notic', 3836), ('notif', 3837), ('notifi', 3838), ('notsosubtl', 3839), ('nou', 3840), ('nov', 3841), ('novel', 3842), ('novemb', 3843), ('nox', 3844), ('np', 3845), ('npfl', 3846), ('nps', 3847), ('nsc', 3848), ('nscdcrelat', 3849), ('nse', 3850), ('ntpc', 3851), ('nuclear', 3852), ('nucleartestban', 3853), ('nude', 3854), ('nuditi', 3855), ('nuditysimul', 3856), ('nukemap', 3857), ('number', 3858), ('numer', 3859), ('nurs', 3860), ('nurtur', 3861), ('nv', 3862), ('nvaf', 3863), ('nvmainz', 3864), ('nw', 3865), ('ny', 3866), ('nyse', 3867), ('nyseaflfre', 3868), ('nyseaflget', 3869), ('nysearca', 3870), ('nysearcaewifre', 3871), ('nysearcakieget', 3872), ('nysearcavdefre', 3873), ('nyseatmuget', 3874), ('nyseavnsget', 3875), ('nyseavnsopen', 3876), ('nysebmyfre', 3877), ('nysebmyget', 3878), ('nysebmyopen', 3879), ('nysebxpfre', 3880), ('nyseddfre', 3881), ('nyseddget', 3882), ('nysedsxget', 3883), ('nysedxcget', 3884), ('nysegefre', 3885), ('nysegeget', 3886), ('nysegffre', 3887), ('nysegsfre', 3888), ('nysegsget', 3889), ('nysegsopen', 3890), ('nyseibmfre', 3891), ('nyseibmget', 3892), ('nyseztsfre', 3893), ('oak', 3894), ('oat', 3895), ('oath', 3896), ('oau', 3897), ('obafemi', 3898), ('obamaera', 3899), ('obc', 3900), ('obiekw', 3901), ('obioma', 3902), ('object', 3903), ('objection', 3904), ('objector', 3905), ('oblig', 3906), ('obrien', 3907), ('observ', 3908), ('obstacl', 3909), ('obtain', 3910), ('obviat', 3911), ('obvious', 3912), ('occas', 3913), ('occupi', 3914), ('occur', 3915), ('occurr', 3916), ('ocean', 3917), ('octob', 3918), ('octoberhi', 3919), ('odd', 3920), ('odeon', 3921), ('odisha', 3922), ('ofalkerm', 3923), ('ofalset', 3924), ('ofapunopen', 3925), ('ofbxpopen', 3926), ('ofdonald', 3927), ('offbook', 3928), ('offend', 3929), ('offens', 3930), ('offer', 3931), ('offhighway', 3932), ('offhir', 3933), ('offic', 3934), ('offici', 3935), ('offramp', 3936), ('offset', 3937), ('offswitch', 3938), ('ofmilitantropo', 3939), ('ofnuclear', 3940), ('ofnys', 3941), ('ofnysearca', 3942), ('often', 3943), ('ofth', 3944), ('oftuniu', 3945), ('ofturbul', 3946), ('ofwwac', 3947), ('ogunmoded', 3948), ('ogunnscdc', 3949), ('ohio', 3950), ('oil', 3951), ('oiv', 3952), ('okonkwo', 3953), ('okp', 3954), ('old', 3955), ('older', 3956), ('olymp', 3957), ('om', 3958), ('oman', 3959), ('omar', 3960), ('omtzigt', 3961), ('onaft', 3962), ('onblueskythreadsmastodonspout', 3963), ('oncamera', 3964), ('oncolog', 3965), ('ondc', 3966), ('ondemand', 3967), ('one', 3968), ('oneday', 3969), ('onehalf', 3970), ('onehour', 3971), ('onestopshop', 3972), ('onethird', 3973), ('ongo', 3974), ('onhighway', 3975), ('onlin', 3976), ('ontario', 3977), ('onto', 3978), ('onward', 3979), ('opd', 3980), ('opdivo', 3981), ('open', 3982), ('openai', 3983), ('opensourc', 3984), ('oper', 3985), ('operation', 3986), ('opinion', 3987), ('opioid', 3988), ('oppenheim', 3989), ('opportun', 3990), ('oppos', 3991), ('opposit', 3992), ('opt', 3993), ('optim', 3994), ('optimis', 3995), ('option', 3996), ('opul', 3997), ('oracl', 3998), ('oral', 3999), ('orban', 4000), ('orbcomm', 4001), ('orclick', 4002), ('order', 4003), ('ordin', 4004), ('ordinari', 4005), ('ore', 4006), ('orencia', 4007), ('organ', 4008), ('organis', 4009), ('organiz', 4010), ('organizationth', 4011), ('orient', 4012), ('origin', 4013), ('orion', 4014), ('orthodox', 4015), ('os', 4016), ('osama', 4017), ('osarenkho', 4018), ('osun', 4019), ('otcmktshkmpyget', 4020), ('other', 4021), ('othersi', 4022), ('othersno', 4023), ('othersyearold', 4024), ('otherwis', 4025), ('otr', 4026), ('ourparachut', 4027), ('ourupcom', 4028), ('outbreak', 4029), ('outburst', 4030), ('outclass', 4031), ('outcom', 4032), ('outcri', 4033), ('outdat', 4034), ('outdoor', 4035), ('outfit', 4036), ('outfox', 4037), ('outgo', 4038), ('outlet', 4039), ('outlook', 4040), ('outofd', 4041), ('outpac', 4042), ('outperform', 4043), ('outpost', 4044), ('output', 4045), ('outrag', 4046), ('outsid', 4047), ('outsidedo', 4048), ('outstand', 4049), ('overal', 4050), ('overcom', 4051), ('overfli', 4052), ('overhaul', 4053), ('overhaulmro', 4054), ('overhead', 4055), ('overland', 4056), ('overlook', 4057), ('overnight', 4058), ('overproduct', 4059), ('overrid', 4060), ('overse', 4061), ('overtake', 4062), ('overtim', 4063), ('overview', 4064), ('overweight', 4065), ('overwhelm', 4066), ('owe', 4067), ('own', 4068), ('owner', 4069), ('ownerelon', 4070), ('ownership', 4071), ('oxford', 4072), ('oxid', 4073), ('oyo', 4074), ('p', 4075), ('pa', 4076), ('pace', 4077), ('pacif', 4078), ('pack', 4079), ('packag', 4080), ('packagingbeverag', 4081), ('packagingris', 4082), ('page', 4083), ('pain', 4084), ('paint', 4085), ('pair', 4086), ('paisa', 4087), ('pakistan', 4088), ('palac', 4089), ('palestin', 4090), ('palestinian', 4091), ('palestinianamerican', 4092), ('pallet', 4093), ('palm', 4094), ('panagora', 4095), ('panamax', 4096), ('panauti', 4097), ('pancalert', 4098), ('pancreat', 4099), ('pandem', 4100), ('panel', 4101), ('paneuropean', 4102), ('panindia', 4103), ('panipat', 4104), ('panjab', 4105), ('paper', 4106), ('paperwork', 4107), ('papua', 4108), ('par', 4109), ('parabol', 4110), ('parachut', 4111), ('parad', 4112), ('paradip', 4113), ('paradox', 4114), ('parallel', 4115), ('paramet', 4116), ('paramount', 4117), ('parent', 4118), ('pari', 4119), ('pariba', 4120), ('parisien', 4121), ('park', 4122), ('parliament', 4123), ('parliamentari', 4124), ('parodi', 4125), ('part', 4126), ('parti', 4127), ('partial', 4128), ('particip', 4129), ('particul', 4130), ('particular', 4131), ('partner', 4132), ('partnership', 4133), ('pas', 4134), ('pass', 4135), ('passag', 4136), ('passiv', 4137), ('passkey', 4138), ('password', 4139), ('passwordless', 4140), ('past', 4141), ('patch', 4142), ('path', 4143), ('pathak', 4144), ('patholog', 4145), ('pathway', 4146), ('patienc', 4147), ('patient', 4148), ('patricia', 4149), ('pattern', 4150), ('patterson', 4151), ('paus', 4152), ('pave', 4153), ('pavement', 4154), ('pay', 4155), ('payabl', 4156), ('payment', 4157), ('payout', 4158), ('pcr', 4159), ('pdf', 4160), ('pe', 4161), ('peac', 4162), ('peacekeep', 4163), ('peak', 4164), ('pediatr', 4165), ('peep', 4166), ('peer', 4167), ('peg', 4168), ('penalti', 4169), ('penc', 4170), ('pend', 4171), ('pendenc', 4172), ('penetr', 4173), ('pennsylvania', 4174), ('pension', 4175), ('pensionretir', 4176), ('pentagon', 4177), ('peopl', 4178), ('pepsico', 4179), ('per', 4180), ('percal', 4181), ('perceiv', 4182), ('percent', 4183), ('percentag', 4184), ('percept', 4185), ('perform', 4186), ('perhap', 4187), ('peril', 4188), ('period', 4189), ('perioddur', 4190), ('perish', 4191), ('perman', 4192), ('permiss', 4193), ('permit', 4194), ('perpetr', 4195), ('perpetu', 4196), ('perri', 4197), ('persist', 4198), ('person', 4199), ('personalis', 4200), ('personnel', 4201), ('perspect', 4202), ('persuad', 4203), ('persuas', 4204), ('pertin', 4205), ('peskov', 4206), ('pet', 4207), ('petersburg', 4208), ('petrol', 4209), ('ph', 4210), ('phantom', 4211), ('pharma', 4212), ('pharmaceut', 4213), ('pharmaci', 4214), ('phase', 4215), ('phenomen', 4216), ('philadelphia', 4217), ('philippin', 4218), ('phillip', 4219), ('phish', 4220), ('phone', 4221), ('phonewhat', 4222), ('photo', 4223), ('photograph', 4224), ('photographi', 4225), ('physic', 4226), ('pick', 4227), ('pickup', 4228), ('pictur', 4229), ('pie', 4230), ('piec', 4231), ('piecem', 4232), ('pier', 4233), ('pieter', 4234), ('pij', 4235), ('pillar', 4236), ('pillow', 4237), ('pillowbest', 4238), ('pilot', 4239), ('pinch', 4240), ('pioneer', 4241), ('pip', 4242), ('pipe', 4243), ('pipelin', 4244), ('piper', 4245), ('pit', 4246), ('pitch', 4247), ('pivot', 4248), ('pixel', 4249), ('pl', 4250), ('pla', 4251), ('place', 4252), ('placement', 4253), ('plain', 4254), ('plan', 4255), ('plane', 4256), ('planet', 4257), ('planetari', 4258), ('plansto', 4259), ('plant', 4260), ('plas', 4261), ('plastic', 4262), ('plateau', 4263), ('platform', 4264), ('play', 4265), ('playbook', 4266), ('player', 4267), ('playlist', 4268), ('plc', 4269), ('plcpublish', 4270), ('plead', 4271), ('pleas', 4272), ('pleasecontactinfomainzbiomedcom', 4273), ('pledg', 4274), ('plenari', 4275), ('plenti', 4276), ('plethora', 4277), ('plix', 4278), ('plot', 4279), ('plus', 4280), ('pm', 4281), ('pmi', 4282), ('pms', 4283), ('pocket', 4284), ('podcast', 4285), ('poet', 4286), ('point', 4287), ('pointless', 4288), ('pois', 4289), ('poison', 4290), ('poland', 4291), ('polandrel', 4292), ('polar', 4293), ('polic', 4294), ('polici', 4295), ('policiesthi', 4296), ('policymak', 4297), ('polit', 4298), ('politicallyconnect', 4299), ('politician', 4300), ('poll', 4301), ('pollsotherwis', 4302), ('pollut', 4303), ('polymeras', 4304), ('pomalystimnovid', 4305), ('pool', 4306), ('poor', 4307), ('poorest', 4308), ('popul', 4309), ('popular', 4310), ('populist', 4311), ('port', 4312), ('porter', 4313), ('portfolio', 4314), ('portion', 4315), ('porto', 4316), ('portrait', 4317), ('portray', 4318), ('portug', 4319), ('pose', 4320), ('posit', 4321), ('possess', 4322), ('possibl', 4323), ('post', 4324), ('postcovid', 4325), ('postdiwali', 4326), ('postearn', 4327), ('posthum', 4328), ('postmatch', 4329), ('postmonsoon', 4330), ('postpanamax', 4331), ('postpon', 4332), ('postproduct', 4333), ('postur', 4334), ('potenti', 4335), ('potentiallyrisk', 4336), ('potteri', 4337), ('poultri', 4338), ('powellsold', 4339), ('power', 4340), ('powerad', 4341), ('powerfulthat', 4342), ('practic', 4343), ('pradesh', 4344), ('prais', 4345), ('pray', 4346), ('preapprov', 4347), ('preced', 4348), ('precious', 4349), ('precis', 4350), ('precovid', 4351), ('predecessor', 4352), ('predict', 4353), ('predomin', 4354), ('preemptiv', 4355), ('prefer', 4356), ('preferenti', 4357), ('prefund', 4358), ('preindustri', 4359), ('preliminari', 4360), ('prematur', 4361), ('premier', 4362), ('premium', 4363), ('premiumis', 4364), ('prepar', 4365), ('prepare', 4366), ('prepay', 4367), ('preposterousand', 4368), ('prescrib', 4369), ('presenc', 4370), ('present', 4371), ('preserv', 4372), ('presid', 4373), ('presidentfran', 4374), ('presidenti', 4375), ('presidentjo', 4376), ('presidentth', 4377), ('presley', 4378), ('press', 4379), ('presseagentur', 4380), ('pressgreenhous', 4381), ('pressur', 4382), ('presum', 4383), ('pretend', 4384), ('pretti', 4385), ('preval', 4386), ('prevent', 4387), ('previous', 4388), ('price', 4389), ('pricemix', 4390), ('pricetoearn', 4391), ('pricetoearningsgrowth', 4392), ('pride', 4393), ('primari', 4394), ('primarili', 4395), ('prime', 4396), ('princip', 4397), ('principl', 4398), ('print', 4399), ('prior', 4400), ('priorit', 4401), ('prioriti', 4402), ('prioritis', 4403), ('prison', 4404), ('privat', 4405), ('privileg', 4406), ('prize', 4407), ('pro', 4408), ('probabl', 4409), ('probe', 4410), ('problem', 4411), ('problemat', 4412), ('problemseconom', 4413), ('problemsolv', 4414), ('procedur', 4415), ('proceed', 4416), ('process', 4417), ('produc', 4418), ('producersagaftra', 4419), ('producersamptp', 4420), ('product', 4421), ('productionsbeast', 4422), ('profess', 4423), ('profession', 4424), ('professor', 4425), ('profici', 4426), ('profil', 4427), ('profit', 4428), ('profound', 4429), ('profund', 4430), ('program', 4431), ('programsth', 4432), ('progress', 4433), ('prohibit', 4434), ('prohibitori', 4435), ('proiranian', 4436), ('project', 4437), ('projectson', 4438), ('promin', 4439), ('promis', 4440), ('promo', 4441), ('promot', 4442), ('promoterfii', 4443), ('prompt', 4444), ('pronazi', 4445), ('prone', 4446), ('propalestinian', 4447), ('propel', 4448), ('proper', 4449), ('properti', 4450), ('propertiess', 4451), ('proport', 4452), ('propos', 4453), ('proposit', 4454), ('proprietari', 4455), ('prorata', 4456), ('pros', 4457), ('prosecut', 4458), ('prosecutor', 4459), ('prospect', 4460), ('prospectus', 4461), ('protagonist', 4462), ('protect', 4463), ('protein', 4464), ('protest', 4465), ('protestant', 4466), ('prototyp', 4467), ('prove', 4468), ('provid', 4469), ('provinc', 4470), ('provis', 4471), ('provoc', 4472), ('provocateur', 4473), ('provok', 4474), ('proxi', 4475), ('proxim', 4476), ('prudenti', 4477), ('psoriat', 4478), ('psu', 4479), ('psychologist', 4480), ('psychosoci', 4481), ('pt', 4482), ('pti', 4483), ('public', 4484), ('publici', 4485), ('publish', 4486), ('pull', 4487), ('puls', 4488), ('pummel', 4489), ('pumpkin', 4490), ('punch', 4491), ('pune', 4492), ('punish', 4493), ('punishedspeak', 4494), ('punit', 4495), ('punjab', 4496), ('purchas', 4497), ('purpos', 4498), ('purs', 4499), ('pursu', 4500), ('pursuant', 4501), ('push', 4502), ('pushback', 4503), ('put', 4504), ('putin', 4505), ('pyramid', 4506), ('q', 4507), ('qa', 4508), ('qatar', 4509), ('qatari', 4510), ('qr', 4511), ('qtr', 4512), ('quak', 4513), ('quaker', 4514), ('qualif', 4515), ('qualifi', 4516), ('qualiti', 4517), ('quantiti', 4518), ('quantitiesmarket', 4519), ('quarri', 4520), ('quarter', 4521), ('quarterfin', 4522), ('quarterhold', 4523), ('quarterholdingschannelreport', 4524), ('qube', 4525), ('quebec', 4526), ('queen', 4527), ('quell', 4528), ('question', 4529), ('quick', 4530), ('quiet', 4531), ('quit', 4532), ('quo', 4533), ('quot', 4534), ('ra', 4535), ('rabbi', 4536), ('rabitz', 4537), ('rabitzbiotechnolog', 4538), ('rabitzh', 4539), ('rabitzin', 4540), ('race', 4541), ('racha', 4542), ('rachel', 4543), ('racism', 4544), ('racist', 4545), ('radar', 4546), ('radha', 4547), ('radiat', 4548), ('radico', 4549), ('radio', 4550), ('radioloc', 4551), ('radius', 4552), ('rafah', 4553), ('rage', 4554), ('ragi', 4555), ('rahul', 4556), ('raid', 4557), ('raider', 4558), ('rail', 4559), ('railway', 4560), ('rain', 4561), ('rainfal', 4562), ('rainforest', 4563), ('rais', 4564), ('raj', 4565), ('rajasthan', 4566), ('rajendran', 4567), ('rajiv', 4568), ('ralli', 4569), ('ramif', 4570), ('ramp', 4571), ('random', 4572), ('ranger', 4573), ('rank', 4574), ('rantisi', 4575), ('rape', 4576), ('rapid', 4577), ('rare', 4578), ('rashida', 4579), ('rassi', 4580), ('rata', 4581), ('rate', 4582), ('rateabl', 4583), ('rather', 4584), ('ratif', 4585), ('ratifi', 4586), ('ratio', 4587), ('rationalis', 4588), ('ratnakarsold', 4589), ('raw', 4590), ('raymond', 4591), ('razorpay', 4592), ('rbredfern', 4593), ('rd', 4594), ('rditrad', 4595), ('reach', 4596), ('reaction', 4597), ('reactionbas', 4598), ('read', 4599), ('reader', 4600), ('readi', 4601), ('readjust', 4602), ('readmor', 4603), ('readytodrink', 4604), ('reaffirm', 4605), ('real', 4606), ('realiti', 4607), ('realiz', 4608), ('realli', 4609), ('realpolitik', 4610), ('realti', 4611), ('realtim', 4612), ('realworld', 4613), ('reap', 4614), ('rearrang', 4615), ('reason', 4616), ('reassur', 4617), ('rebel', 4618), ('rebootnewsjerri', 4619), ('rebound', 4620), ('rebuild', 4621), ('rebuk', 4622), ('recallth', 4623), ('recaptur', 4624), ('receipt', 4625), ('receiv', 4626), ('recent', 4627), ('recess', 4628), ('recipi', 4629), ('reckon', 4630), ('recogn', 4631), ('recognis', 4632), ('recognit', 4633), ('recogniz', 4634), ('recommend', 4635), ('recommmend', 4636), ('record', 4637), ('recordbreak', 4638), ('recount', 4639), ('recov', 4640), ('recoveri', 4641), ('recreat', 4642), ('recruit', 4643), ('rector', 4644), ('recur', 4645), ('recurr', 4646), ('recycl', 4647), ('red', 4648), ('redeem', 4649), ('redefin', 4650), ('redempt', 4651), ('rediscov', 4652), ('reduc', 4653), ('reduct', 4654), ('reefer', 4655), ('reel', 4656), ('reengin', 4657), ('refer', 4658), ('referenc', 4659), ('referendum', 4660), ('refin', 4661), ('reflect', 4662), ('reform', 4663), ('reformul', 4664), ('refrain', 4665), ('refriger', 4666), ('refug', 4667), ('refuge', 4668), ('refund', 4669), ('refus', 4670), ('refut', 4671), ('regain', 4672), ('regard', 4673), ('regardless', 4674), ('regim', 4675), ('region', 4676), ('regist', 4677), ('registr', 4678), ('regret', 4679), ('regroup', 4680), ('regul', 4681), ('regular', 4682), ('regulatori', 4683), ('rehear', 4684), ('reimburs', 4685), ('rein', 4686), ('reinforc', 4687), ('reinin', 4688), ('reit', 4689), ('reiter', 4690), ('reject', 4691), ('rejig', 4692), ('rejuven', 4693), ('relat', 4694), ('relatedaffili', 4695), ('relationship', 4696), ('relax', 4697), ('releas', 4698), ('relentless', 4699), ('relev', 4700), ('reli', 4701), ('reliabl', 4702), ('relianc', 4703), ('relief', 4704), ('religi', 4705), ('religion', 4706), ('reloc', 4707), ('reluct', 4708), ('remain', 4709), ('remaind', 4710), ('remark', 4711), ('remarksdeath', 4712), ('remedi', 4713), ('rememb', 4714), ('remembr', 4715), ('remind', 4716), ('remit', 4717), ('remitt', 4718), ('remo', 4719), ('remot', 4720), ('remov', 4721), ('remuner', 4722), ('renaiss', 4723), ('render', 4724), ('rendezv', 4725), ('renew', 4726), ('renk', 4727), ('renown', 4728), ('rent', 4729), ('rentschler', 4730), ('renu', 4731), ('reorgan', 4732), ('repair', 4733), ('repay', 4734), ('repeat', 4735), ('repercuss', 4736), ('repetit', 4737), ('replac', 4738), ('replenish', 4739), ('repli', 4740), ('replic', 4741), ('replica', 4742), ('report', 4743), ('reportfrom', 4744), ('reporthad', 4745), ('reportin', 4746), ('repres', 4747), ('reproduct', 4748), ('republ', 4749), ('republican', 4750), ('reput', 4751), ('request', 4752), ('requir', 4753), ('requisit', 4754), ('rerun', 4755), ('resal', 4756), ('rescu', 4757), ('research', 4758), ('researchandmarketscomresearchandmarketscom', 4759), ('researcherand', 4760), ('reserv', 4761), ('reshap', 4762), ('resid', 4763), ('residenti', 4764), ('residu', 4765), ('resign', 4766), ('resili', 4767), ('resist', 4768), ('resolut', 4769), ('resolv', 4770), ('resort', 4771), ('resourc', 4772), ('respect', 4773), ('respiratori', 4774), ('respond', 4775), ('respons', 4776), ('rest', 4777), ('restat', 4778), ('restless', 4779), ('restor', 4780), ('restraint', 4781), ('restrict', 4782), ('restructur', 4783), ('result', 4784), ('resumpt', 4785), ('resurg', 4786), ('retail', 4787), ('retailersoth', 4788), ('retain', 4789), ('retak', 4790), ('retali', 4791), ('retaliatori', 4792), ('reteam', 4793), ('retent', 4794), ('retir', 4795), ('retriev', 4796), ('retrmt', 4797), ('return', 4798), ('reunion', 4799), ('reus', 4800), ('reuter', 4801), ('reveal', 4802), ('revenu', 4803), ('revenueshar', 4804), ('revers', 4805), ('review', 4806), ('reviewalso', 4807), ('reviewandparachut', 4808), ('reviewfor', 4809), ('reviewto', 4810), ('revis', 4811), ('revisedcagr', 4812), ('reviv', 4813), ('revivalofseinfeld', 4814), ('revok', 4815), ('revolut', 4816), ('revolution', 4817), ('reward', 4818), ('rework', 4819), ('rewrit', 4820), ('rey', 4821), ('rfa', 4822), ('rhetor', 4823), ('rhode', 4824), ('rhumblin', 4825), ('richard', 4826), ('richardss', 4827), ('ricki', 4828), ('ride', 4829), ('rider', 4830), ('riggierisold', 4831), ('right', 4832), ('rightw', 4833), ('ring', 4834), ('ripe', 4835), ('rise', 4836), ('rishi', 4837), ('risk', 4838), ('riskadjust', 4839), ('riski', 4840), ('riskinform', 4841), ('risksit', 4842), ('risktak', 4843), ('ritchey', 4844), ('rival', 4845), ('river', 4846), ('riverb', 4847), ('riverbedsbut', 4848), ('riyadh', 4849), ('rn', 4850), ('roacheturn', 4851), ('road', 4852), ('roadsid', 4853), ('roam', 4854), ('rob', 4855), ('robber', 4856), ('robberswhat', 4857), ('robert', 4858), ('robin', 4859), ('robot', 4860), ('robust', 4861), ('rocker', 4862), ('rocket', 4863), ('roe', 4864), ('roi', 4865), ('role', 4866), ('roll', 4867), ('romania', 4868), ('ronald', 4869), ('roo', 4870), ('roof', 4871), ('room', 4872), ('root', 4873), ('rope', 4874), ('rosenblatt', 4875), ('rosenfeldgetti', 4876), ('ross', 4877), ('rotat', 4878), ('rough', 4879), ('round', 4880), ('rout', 4881), ('row', 4882), ('rowley', 4883), ('royal', 4884), ('royallik', 4885), ('roychowdhuri', 4886), ('rs', 4887), ('rsi', 4888), ('rtl', 4889), ('ruben', 4890), ('rubenbol', 4891), ('rule', 4892), ('ruler', 4893), ('rumor', 4894), ('rumour', 4895), ('run', 4896), ('runnersup', 4897), ('runsif', 4898), ('runthrough', 4899), ('runtim', 4900), ('rupe', 4901), ('rupprecht', 4902), ('rural', 4903), ('russel', 4904), ('russia', 4905), ('russiai', 4906), ('russian', 4907), ('rutt', 4908), ('ryan', 4909), ('sa', 4910), ('saba', 4911), ('sach', 4912), ('sack', 4913), ('sacr', 4914), ('sacrific', 4915), ('sad', 4916), ('sadiq', 4917), ('safadi', 4918), ('safe', 4919), ('safeguard', 4920), ('safest', 4921), ('safeti', 4922), ('saffola', 4923), ('sag', 4924), ('sagafta', 4925), ('sagaftra', 4926), ('sagaftracov', 4927), ('sagaftraorgcontract', 4928), ('saharasebi', 4929), ('sahel', 4930), ('saidclim', 4931), ('saidloc', 4932), ('saidmichael', 4933), ('saidrahul', 4934), ('saidthes', 4935), ('salalah', 4936), ('salam', 4937), ('salari', 4938), ('sale', 4939), ('sam', 4940), ('samantha', 4941), ('sameh', 4942), ('sampl', 4943), ('samsara', 4944), ('samsung', 4945), ('san', 4946), ('sanction', 4947), ('sandler', 4948), ('sanford', 4949), ('sani', 4950), ('sanit', 4951), ('sanjay', 4952), ('sapient', 4953), ('sarah', 4954), ('sarandosdismiss', 4955), ('sargent', 4956), ('sas', 4957), ('sassoonbankmanfri', 4958), ('satellit', 4959), ('satir', 4960), ('satisfact', 4961), ('satisfi', 4962), ('saturday', 4963), ('saudi', 4964), ('saudil', 4965), ('saugata', 4966), ('save', 4967), ('saviour', 4968), ('saw', 4969), ('sawlanifutur', 4970), ('say', 4971), ('sbi', 4972), ('sbtis', 4973), ('sca', 4974), ('scale', 4975), ('scam', 4976), ('scan', 4977), ('scandal', 4978), ('scarciti', 4979), ('scare', 4980), ('scenario', 4981), ('scene', 4982), ('scep', 4983), ('schedul', 4984), ('scheinman', 4985), ('schengen', 4986), ('schizophrenia', 4987), ('scholarship', 4988), ('school', 4989), ('schwab', 4990), ('scienc', 4991), ('sciencefict', 4992), ('scientif', 4993), ('scientist', 4994), ('scope', 4995), ('score', 4996), ('scorer', 4997), ('scorpion', 4998), ('scottish', 4999), ('scrap', 5000), ('scream', 5001), ('screen', 5002), ('scrip', 5003), ('script', 5004), ('scrutini', 5005), ('sea', 5006), ('seafood', 5007), ('seal', 5008), ('seamless', 5009), ('seaport', 5010), ('search', 5011), ('season', 5012), ('seasonrel', 5013), ('seat', 5014), ('seattl', 5015), ('sebi', 5016), ('sec', 5017), ('second', 5018), ('secondari', 5019), ('secondlargest', 5020), ('secret', 5021), ('secretari', 5022), ('secretarygener', 5023), ('section', 5024), ('sector', 5025), ('secur', 5026), ('see', 5027), ('seed', 5028), ('seedsblack', 5029), ('seek', 5030), ('seeker', 5031), ('seem', 5032), ('segment', 5033), ('segmentglob', 5034), ('seinfeld', 5035), ('seismic', 5036), ('seismolog', 5037), ('seismologist', 5038), ('seiz', 5039), ('seizur', 5040), ('select', 5041), ('self', 5042), ('selfassured', 5043), ('selfconfess', 5044), ('selfdefens', 5045), ('selfdestruct', 5046), ('selfguid', 5047), ('selftap', 5048), ('selftitl', 5049), ('sell', 5050), ('seller', 5051), ('sellsid', 5052), ('sellthru', 5053), ('semiannu', 5054), ('semiconductor', 5055), ('semifin', 5056), ('semisolid', 5057), ('semispun', 5058), ('semisweet', 5059), ('semit', 5060), ('senat', 5061), ('send', 5062), ('senior', 5063), ('sens', 5064), ('sensex', 5065), ('sensit', 5066), ('sensor', 5067), ('senst', 5068), ('sentenc', 5069), ('sentenceif', 5070), ('sentiment', 5071), ('sep', 5072), ('separ', 5073), ('separatelystocknewscomstart', 5074), ('separatist', 5075), ('sept', 5076), ('septemb', 5077), ('sequoia', 5078), ('serena', 5079), ('seri', 5080), ('serious', 5081), ('serotta', 5082), ('serv', 5083), ('server', 5084), ('servic', 5085), ('servicememb', 5086), ('session', 5087), ('sessionmost', 5088), ('set', 5089), ('setback', 5090), ('settl', 5091), ('settlement', 5092), ('settlementabout', 5093), ('settlementin', 5094), ('settlementsshould', 5095), ('seven', 5096), ('seventi', 5097), ('sever', 5098), ('sex', 5099), ('sexual', 5100), ('shake', 5101), ('shaker', 5102), ('shakhtar', 5103), ('shaki', 5104), ('shall', 5105), ('shallow', 5106), ('shame', 5107), ('shamelessmadhya', 5108), ('shandong', 5109), ('shanghai', 5110), ('shape', 5111), ('share', 5112), ('sharehold', 5113), ('shark', 5114), ('sharp', 5115), ('sharper', 5116), ('shaughnessi', 5117), ('sheep', 5118), ('sheet', 5119), ('sheetsstart', 5120), ('sheetswith', 5121), ('sheikh', 5122), ('shelf', 5123), ('shelter', 5124), ('shelv', 5125), ('shi', 5126), ('shield', 5127), ('shift', 5128), ('ship', 5129), ('shipment', 5130), ('shippingbest', 5131), ('shipyard', 5132), ('shivraj', 5133), ('shlesing', 5134), ('shmulik', 5135), ('shock', 5136), ('shockslik', 5137), ('shockwav', 5138), ('shoe', 5139), ('shoot', 5140), ('shop', 5141), ('shopper', 5142), ('shore', 5143), ('short', 5144), ('shortag', 5145), ('shortform', 5146), ('shoukri', 5147), ('shoulder', 5148), ('shout', 5149), ('show', 5150), ('shower', 5151), ('showsseinfeld', 5152), ('shrapnel', 5153), ('shrimp', 5154), ('shriram', 5155), ('shuster', 5156), ('shut', 5157), ('shutterstockcom', 5158), ('shwarzstein', 5159), ('sick', 5160), ('side', 5161), ('sidelett', 5162), ('sieg', 5163), ('sigh', 5164), ('sigma', 5165), ('sign', 5166), ('signag', 5167), ('signal', 5168), ('signatur', 5169), ('signaturefd', 5170), ('signifi', 5171), ('signific', 5172), ('signin', 5173), ('silenc', 5174), ('silent', 5175), ('sim', 5176), ('similar', 5177), ('simon', 5178), ('simpl', 5179), ('simpli', 5180), ('simul', 5181), ('sinc', 5182), ('sing', 5183), ('singapor', 5184), ('singer', 5185), ('singersongwrit', 5186), ('singh', 5187), ('singhania', 5188), ('singhanianawaz', 5189), ('singl', 5190), ('singleserv', 5191), ('singleus', 5192), ('sink', 5193), ('sir', 5194), ('sit', 5195), ('sitcom', 5196), ('site', 5197), ('sitewidedysonsnag', 5198), ('situat', 5199), ('six', 5200), ('size', 5201), ('sizepumpkin', 5202), ('skater', 5203), ('skew', 5204), ('ski', 5205), ('skill', 5206), ('skin', 5207), ('skirmish', 5208), ('skus', 5209), ('sky', 5210), ('skyscrap', 5211), ('slam', 5212), ('slap', 5213), ('slate', 5214), ('sleep', 5215), ('slew', 5216), ('slide', 5217), ('slight', 5218), ('slovakia', 5219), ('slow', 5220), ('sluggish', 5221), ('slush', 5222), ('small', 5223), ('smallcap', 5224), ('smaller', 5225), ('smallest', 5226), ('smart', 5227), ('smarter', 5228), ('smartphon', 5229), ('smash', 5230), ('smith', 5231), ('smooth', 5232), ('smuggler', 5233), ('snack', 5234), ('snap', 5235), ('snapchat', 5236), ('snowman', 5237), ('snp', 5238), ('soar', 5239), ('socal', 5240), ('social', 5241), ('societi', 5242), ('socket', 5243), ('socotra', 5244), ('soft', 5245), ('soften', 5246), ('softer', 5247), ('softwar', 5248), ('softwareasaservic', 5249), ('soil', 5250), ('solar', 5251), ('soldier', 5252), ('sole', 5253), ('solera', 5254), ('solicit', 5255), ('solid', 5256), ('solidar', 5257), ('solidifi', 5258), ('sollfrank', 5259), ('solo', 5260), ('solut', 5261), ('solutiongrow', 5262), ('solv', 5263), ('somehow', 5264), ('someon', 5265), ('someth', 5266), ('sometim', 5267), ('somewhat', 5268), ('son', 5269), ('song', 5270), ('soni', 5271), ('sonyze', 5272), ('soon', 5273), ('sooner', 5274), ('sorri', 5275), ('sort', 5276), ('soul', 5277), ('sound', 5278), ('sourc', 5279), ('south', 5280), ('southeast', 5281), ('southern', 5282), ('southsouthwest', 5283), ('sovereignti', 5284), ('sovietbuilt', 5285), ('soya', 5286), ('sp', 5287), ('space', 5288), ('spacex', 5289), ('spain', 5290), ('span', 5291), ('spanish', 5292), ('spark', 5293), ('sparkl', 5294), ('spartannash', 5295), ('spdr', 5296), ('speak', 5297), ('speaker', 5298), ('spearhead', 5299), ('speci', 5300), ('special', 5301), ('specif', 5302), ('specifi', 5303), ('spectrum', 5304), ('specul', 5305), ('speech', 5306), ('speed', 5307), ('spend', 5308), ('spider', 5309), ('spill', 5310), ('spillan', 5311), ('spinoff', 5312), ('spireon', 5313), ('spirit', 5314), ('splinter', 5315), ('split', 5316), ('spoil', 5317), ('spokesman', 5318), ('spokespeopl', 5319), ('spokesperson', 5320), ('sponsor', 5321), ('sponsorship', 5322), ('sport', 5323), ('spot', 5324), ('spotlight', 5325), ('spotmargin', 5326), ('spread', 5327), ('spreadsheet', 5328), ('spring', 5329), ('springer', 5330), ('sprite', 5331), ('sprycel', 5332), ('sptn', 5333), ('sputter', 5334), ('squad', 5335), ('squar', 5336), ('squaremet', 5337), ('squibb', 5338), ('sri', 5339), ('st', 5340), ('stabil', 5341), ('stack', 5342), ('stadium', 5343), ('staff', 5344), ('stage', 5345), ('stagefour', 5346), ('stagger', 5347), ('stake', 5348), ('stakehold', 5349), ('stakesw', 5350), ('stanburi', 5351), ('stanc', 5352), ('stand', 5353), ('standard', 5354), ('standin', 5355), ('standoff', 5356), ('standup', 5357), ('stanley', 5358), ('star', 5359), ('stark', 5360), ('starmer', 5361), ('starshead', 5362), ('start', 5363), ('starter', 5364), ('startl', 5365), ('startup', 5366), ('starv', 5367), ('state', 5368), ('stateless', 5369), ('statement', 5370), ('statementscertain', 5371), ('statist', 5372), ('status', 5373), ('statusth', 5374), ('stay', 5375), ('steadfast', 5376), ('steadi', 5377), ('steadili', 5378), ('steal', 5379), ('steam', 5380), ('steel', 5381), ('steep', 5382), ('steepest', 5383), ('steer', 5384), ('steiner', 5385), ('stellar', 5386), ('stem', 5387), ('step', 5388), ('stepsist', 5389), ('stevi', 5390), ('steward', 5391), ('stick', 5392), ('stifel', 5393), ('still', 5394), ('stimul', 5395), ('sting', 5396), ('stipend', 5397), ('stock', 5398), ('stockhold', 5399), ('stocknewscomdowngrad', 5400), ('stockopen', 5401), ('stockstocknewscomassum', 5402), ('stockstocknewscombegan', 5403), ('stocktrad', 5404), ('stoltenberg', 5405), ('stomach', 5406), ('stonepeak', 5407), ('stool', 5408), ('stop', 5409), ('storag', 5410), ('store', 5411), ('storesspecialist', 5412), ('stori', 5413), ('storiesbreak', 5414), ('storiesdocumentarypalestinian', 5415), ('storiesnewsseinfeld', 5416), ('storm', 5417), ('storylin', 5418), ('storytel', 5419), ('stoxx', 5420), ('straight', 5421), ('straightforward', 5422), ('strain', 5423), ('strang', 5424), ('stranger', 5425), ('strateg', 5426), ('strategi', 5427), ('strattec', 5428), ('stream', 5429), ('streamer', 5430), ('streamlin', 5431), ('street', 5432), ('strength', 5433), ('strengthen', 5434), ('strenuous', 5435), ('stress', 5436), ('stretch', 5437), ('stride', 5438), ('strike', 5439), ('stringent', 5440), ('strip', 5441), ('strokesystem', 5442), ('strong', 5443), ('strongbuy', 5444), ('stronger', 5445), ('strongest', 5446), ('stronghold', 5447), ('structur', 5448), ('struggl', 5449), ('student', 5450), ('studentsar', 5451), ('studi', 5452), ('studio', 5453), ('stuff', 5454), ('stun', 5455), ('stunt', 5456), ('style', 5457), ('stylist', 5458), ('subbarao', 5459), ('subhiksha', 5460), ('subject', 5461), ('submarin', 5462), ('submarket', 5463), ('submiss', 5464), ('submit', 5465), ('subscrib', 5466), ('subscript', 5467), ('subsequ', 5468), ('subset', 5469), ('subsidi', 5470), ('subsidiari', 5471), ('substant', 5472), ('substanti', 5473), ('substitut', 5474), ('succeed', 5475), ('success', 5476), ('successbas', 5477), ('successor', 5478), ('suction', 5479), ('sud', 5480), ('sudan', 5481), ('sudanes', 5482), ('sudden', 5483), ('suella', 5484), ('suffer', 5485), ('suffic', 5486), ('suffici', 5487), ('sugar', 5488), ('sugarcoat', 5489), ('suggest', 5490), ('suicid', 5491), ('suit', 5492), ('suitabl', 5493), ('sulphat', 5494), ('sulphur', 5495), ('sum', 5496), ('summari', 5497), ('summer', 5498), ('summit', 5499), ('sun', 5500), ('sunak', 5501), ('sunday', 5502), ('sundaywarn', 5503), ('sunil', 5504), ('sunset', 5505), ('supercarri', 5506), ('supermarket', 5507), ('supplement', 5508), ('suppli', 5509), ('supplier', 5510), ('support', 5511), ('suppos', 5512), ('supremacist', 5513), ('supriyo', 5514), ('sure', 5515), ('surfac', 5516), ('surfacetoair', 5517), ('surg', 5518), ('surgeri', 5519), ('surplus', 5520), ('surpris', 5521), ('surreal', 5522), ('surround', 5523), ('survey', 5524), ('surviv', 5525), ('survivor', 5526), ('suscept', 5527), ('suspend', 5528), ('suspens', 5529), ('suspici', 5530), ('susquehanna', 5531), ('sustain', 5532), ('sustainabilityismail', 5533), ('sutaria', 5534), ('sutarialead', 5535), ('svod', 5536), ('svp', 5537), ('svpalbert', 5538), ('svperic', 5539), ('svpraj', 5540), ('swap', 5541), ('sweeten', 5542), ('swift', 5543), ('swiggi', 5544), ('swimmer', 5545), ('swine', 5546), ('swing', 5547), ('switch', 5548), ('switzerland', 5549), ('swivel', 5550), ('swot', 5551), ('sydney', 5552), ('sylvain', 5553), ('sympathet', 5554), ('sync', 5555), ('synerg', 5556), ('synthet', 5557), ('sys', 5558), ('syss', 5559), ('system', 5560), ('systemat', 5561), ('tabard', 5562), ('tabl', 5563), ('tackl', 5564), ('tactic', 5565), ('taejun', 5566), ('tag', 5567), ('tailgat', 5568), ('tailor', 5569), ('tailwind', 5570), ('taiwan', 5571), ('take', 5572), ('takeaway', 5573), ('takeoff', 5574), ('taleblu', 5575), ('talent', 5576), ('talk', 5577), ('tamperevid', 5578), ('tank', 5579), ('tap', 5580), ('tape', 5581), ('taper', 5582), ('target', 5583), ('tariff', 5584), ('task', 5585), ('tax', 5586), ('taxabl', 5587), ('tci', 5588), ('tcs', 5589), ('td', 5590), ('tea', 5591), ('teach', 5592), ('teacher', 5593), ('team', 5594), ('teas', 5595), ('tech', 5596), ('technic', 5597), ('techniqu', 5598), ('technolog', 5599), ('technologiesfor', 5600), ('technologiesth', 5601), ('technologybas', 5602), ('teenag', 5603), ('tehran', 5604), ('tej', 5605), ('tejha', 5606), ('tel', 5607), ('telco', 5608), ('teledyn', 5609), ('telegram', 5610), ('telegraph', 5611), ('telemat', 5612), ('telephon', 5613), ('televis', 5614), ('tell', 5615), ('temperatur', 5616), ('temperevid', 5617), ('temporari', 5618), ('ten', 5619), ('tenant', 5620), ('tend', 5621), ('tennesse', 5622), ('tension', 5623), ('tensor', 5624), ('tentat', 5625), ('term', 5626), ('termin', 5627), ('terrain', 5628), ('terrestri', 5629), ('terri', 5630), ('terribl', 5631), ('territori', 5632), ('terror', 5633), ('terrorist', 5634), ('tesla', 5635), ('tessa', 5636), ('test', 5637), ('testifi', 5638), ('testimoni', 5639), ('teu', 5640), ('texa', 5641), ('text', 5642), ('textain', 5643), ('textur', 5644), ('tgh', 5645), ('th', 5646), ('thank', 5647), ('that', 5648), ('thath', 5649), ('thatsettlementgrowth', 5650), ('thatth', 5651), ('theafm', 5652), ('theamptpon', 5653), ('theanticounterfeit', 5654), ('theatric', 5655), ('thebest', 5656), ('theexpans', 5657), ('theglob', 5658), ('theidfaforum', 5659), ('theme', 5660), ('themno', 5661), ('theori', 5662), ('theoris', 5663), ('there', 5664), ('therefor', 5665), ('therein', 5666), ('thereof', 5667), ('thereto', 5668), ('therewhat', 5669), ('thermal', 5670), ('theseinfeldseri', 5671), ('thesituationon', 5672), ('thestreet', 5673), ('thetrail', 5674), ('theyll', 5675), ('theyr', 5676), ('thing', 5677), ('think', 5678), ('third', 5679), ('thirdparti', 5680), ('thirsti', 5681), ('thirteen', 5682), ('thirti', 5683), ('thiswith', 5684), ('thk', 5685), ('thoma', 5686), ('thorough', 5687), ('thorp', 5688), ('though', 5689), ('thousand', 5690), ('thrash', 5691), ('threat', 5692), ('threaten', 5693), ('threatsfar', 5694), ('three', 5695), ('threeandahalf', 5696), ('threeday', 5697), ('threedot', 5698), ('threeyear', 5699), ('threshold', 5700), ('thriller', 5701), ('thrive', 5702), ('throughout', 5703), ('throughth', 5704), ('throughthi', 5705), ('throw', 5706), ('thrust', 5707), ('thstocknewscomcut', 5708), ('thstocknewscomlow', 5709), ('thstocknewscomstart', 5710), ('thurday', 5711), ('thursday', 5712), ('thus', 5713), ('ticket', 5714), ('tie', 5715), ('tier', 5716), ('tighter', 5717), ('tiktok', 5718), ('tile', 5719), ('tilia', 5720), ('tim', 5721), ('time', 5722), ('timeandsalari', 5723), ('timefram', 5724), ('timelin', 5725), ('timmerman', 5726), ('tini', 5727), ('tip', 5728), ('titan', 5729), ('titl', 5730), ('tlaib', 5731), ('tobacco', 5732), ('tobia', 5733), ('toc', 5734), ('toclim', 5735), ('tocoexist', 5736), ('today', 5737), ('togeth', 5738), ('tohuman', 5739), ('toisrael', 5740), ('toldth', 5741), ('toler', 5742), ('toll', 5743), ('tom', 5744), ('ton', 5745), ('tone', 5746), ('tonight', 5747), ('tool', 5748), ('toolkit', 5749), ('top', 5750), ('topic', 5751), ('toplin', 5752), ('topper', 5753), ('toprat', 5754), ('torch', 5755), ('toresearchandmarketscomsoff', 5756), ('tori', 5757), ('toronto', 5758), ('torrent', 5759), ('toss', 5760), ('tosstheir', 5761), ('total', 5762), ('toturbul', 5763), ('touch', 5764), ('tough', 5765), ('tougher', 5766), ('touma', 5767), ('tour', 5768), ('tourist', 5769), ('tournament', 5770), ('toward', 5771), ('tower', 5772), ('town', 5773), ('toxic', 5774), ('tp', 5775), ('tpp', 5776), ('tpps', 5777), ('track', 5778), ('tracker', 5779), ('trade', 5780), ('tradeincreas', 5781), ('trademark', 5782), ('trader', 5783), ('tradit', 5784), ('trail', 5785), ('trailer', 5786), ('train', 5787), ('trajectori', 5788), ('tran', 5789), ('transact', 5790), ('transatlant', 5791), ('transcaspian', 5792), ('transcend', 5793), ('transcript', 5794), ('transfer', 5795), ('transfi', 5796), ('transform', 5797), ('transit', 5798), ('translat', 5799), ('transmiss', 5800), ('transmit', 5801), ('transpar', 5802), ('transport', 5803), ('transportationrel', 5804), ('trap', 5805), ('trauma', 5806), ('traumat', 5807), ('traumatis', 5808), ('travel', 5809), ('travelrel', 5810), ('trc', 5811), ('treat', 5812), ('treati', 5813), ('treatment', 5814), ('tree', 5815), ('treedwel', 5816), ('treeoflif', 5817), ('trek', 5818), ('tremend', 5819), ('tremor', 5820), ('trend', 5821), ('trendfollow', 5822), ('tri', 5823), ('trial', 5824), ('triangul', 5825), ('tricki', 5826), ('trickl', 5827), ('trifleet', 5828), ('trigger', 5829), ('triguild', 5830), ('trim', 5831), ('trip', 5832), ('triumph', 5833), ('trivant', 5834), ('troop', 5835), ('trophi', 5836), ('tropic', 5837), ('troubl', 5838), ('truce', 5839), ('truck', 5840), ('true', 5841), ('truist', 5842), ('trump', 5843), ('trust', 5844), ('truste', 5845), ('truth', 5846), ('tseapunfre', 5847), ('tsunami', 5848), ('tuareg', 5849), ('tuaregdomin', 5850), ('tube', 5851), ('tuesday', 5852), ('tulkubash', 5853), ('tumbl', 5854), ('tune', 5855), ('tuniu', 5856), ('tunnel', 5857), ('turbin', 5858), ('turbul', 5859), ('turf', 5860), ('turkey', 5861), ('turkmenistan', 5862), ('turmoil', 5863), ('turn', 5864), ('tv', 5865), ('tva', 5866), ('tvs', 5867), ('twang', 5868), ('tweet', 5869), ('twelv', 5870), ('twenti', 5871), ('twentyf', 5872), ('twentytwo', 5873), ('twice', 5874), ('twiceth', 5875), ('twist', 5876), ('twitter', 5877), ('twitterfacebook', 5878), ('two', 5879), ('twobuck', 5880), ('twoday', 5881), ('twohundr', 5882), ('twominut', 5883), ('twomundi', 5884), ('txt', 5885), ('type', 5886), ('typhoid', 5887), ('typic', 5888), ('uae', 5889), ('uav', 5890), ('ub', 5891), ('ucl', 5892), ('uefa', 5893), ('ugli', 5894), ('uk', 5895), ('ukrain', 5896), ('ukrainian', 5897), ('ultim', 5898), ('ultramax', 5899), ('un', 5900), ('unabl', 5901), ('unaccept', 5902), ('unalt', 5903), ('unawar', 5904), ('uncertain', 5905), ('uncertainti', 5906), ('unchang', 5907), ('unchart', 5908), ('uncl', 5909), ('unclaim', 5910), ('uncomfort', 5911), ('uncov', 5912), ('under', 5913), ('undergo', 5914), ('undergon', 5915), ('underground', 5916), ('undergrowth', 5917), ('underinvest', 5918), ('undermin', 5919), ('underperform', 5920), ('underpin', 5921), ('underscor', 5922), ('understand', 5923), ('undertak', 5924), ('underway', 5925), ('undisput', 5926), ('undu', 5927), ('unedit', 5928), ('unexpect', 5929), ('unexplor', 5930), ('unfathom', 5931), ('unfold', 5932), ('unforeseen', 5933), ('unfortun', 5934), ('unfulfil', 5935), ('ungain', 5936), ('unhcr', 5937), ('unicef', 5938), ('uniform', 5939), ('unimagin', 5940), ('union', 5941), ('uniqu', 5942), ('unison', 5943), ('unit', 5944), ('unitaudi', 5945), ('unitedplateau', 5946), ('uniti', 5947), ('unitth', 5948), ('univers', 5949), ('universitymi', 5950), ('unjust', 5951), ('unknow', 5952), ('unknown', 5953), ('unlaw', 5954), ('unleash', 5955), ('unless', 5956), ('unlik', 5957), ('unlimit', 5958), ('unlock', 5959), ('unlucki', 5960), ('unmet', 5961), ('unmistak', 5962), ('unmolest', 5963), ('unparallel', 5964), ('unpreced', 5965), ('unpublish', 5966), ('unreach', 5967), ('unreal', 5968), ('unreleas', 5969), ('unresolv', 5970), ('unrun', 5971), ('unrwa', 5972), ('unsaidit', 5973), ('unsecur', 5974), ('unsettl', 5975), ('unspecifi', 5976), ('unsur', 5977), ('untap', 5978), ('untitl', 5979), ('unusu', 5980), ('unveil', 5981), ('unwav', 5982), ('unwinn', 5983), ('up', 5984), ('upcom', 5985), ('updat', 5986), ('updatesefcc', 5987), ('updatesman', 5988), ('updatesnpfl', 5989), ('updatessen', 5990), ('upfront', 5991), ('upgrad', 5992), ('upi', 5993), ('upload', 5994), ('uploadingdeliveri', 5995), ('upon', 5996), ('upper', 5997), ('upris', 5998), ('upsid', 5999), ('upskil', 6000), ('upsurg', 6001), ('upto', 6002), ('upward', 6003), ('upwhen', 6004), ('urban', 6005), ('urg', 6006), ('urgent', 6007), ('uruguay', 6008), ('us', 6009), ('usag', 6010), ('usat', 6011), ('usbas', 6012), ('usd', 6013), ('usdesign', 6014), ('use', 6015), ('useless', 6016), ('user', 6017), ('usher', 6018), ('usjosh', 6019), ('usl', 6020), ('uss', 6021), ('usual', 6022), ('ut', 6023), ('utc', 6024), ('util', 6025), ('uttar', 6026), ('uttarakhand', 6027), ('v', 6028), ('vaccin', 6029), ('vacuum', 6030), ('vacuumbrooklinen', 6031), ('vagu', 6032), ('valerii', 6033), ('valid', 6034), ('valu', 6035), ('valuabl', 6036), ('valuat', 6037), ('valuedriven', 6038), ('valuefocus', 6039), ('valuesaatvasav', 6040), ('valuesbas', 6041), ('valv', 6042), ('van', 6043), ('vanc', 6044), ('vanguard', 6045), ('vapor', 6046), ('vari', 6047), ('variant', 6048), ('variat', 6049), ('varieti', 6050), ('various', 6051), ('vasool', 6052), ('vast', 6053), ('vault', 6054), ('vde', 6055), ('vdeopen', 6056), ('vdevisit', 6057), ('vega', 6058), ('vehicl', 6059), ('vein', 6060), ('vendor', 6061), ('vengeanc', 6062), ('ventil', 6063), ('ventur', 6064), ('venu', 6065), ('verbal', 6066), ('verg', 6067), ('verif', 6068), ('verifi', 6069), ('verleih', 6070), ('vermont', 6071), ('versatil', 6072), ('version', 6073), ('versus', 6074), ('vertigo', 6075), ('vessel', 6076), ('vestig', 6077), ('vet', 6078), ('veteran', 6079), ('vi', 6080), ('via', 6081), ('vibrant', 6082), ('vice', 6083), ('vicechancellor', 6084), ('victim', 6085), ('victimhood', 6086), ('victori', 6087), ('video', 6088), ('vietnam', 6089), ('view', 6090), ('viewer', 6091), ('vig', 6092), ('vii', 6093), ('viii', 6094), ('viktor', 6095), ('vine', 6096), ('vineyard', 6097), ('vinod', 6098), ('violat', 6099), ('violenc', 6100), ('violent', 6101), ('vip', 6102), ('virginia', 6103), ('virtu', 6104), ('virtual', 6105), ('visa', 6106), ('vise', 6107), ('visibl', 6108), ('vision', 6109), ('visit', 6110), ('visitmainzbiomedcom', 6111), ('visualsound', 6112), ('vital', 6113), ('vitalon', 6114), ('vitalonesold', 6115), ('vitamin', 6116), ('vladimir', 6117), ('vneshtorgbank', 6118), ('voa', 6119), ('vocal', 6120), ('vodka', 6121), ('voic', 6122), ('volatil', 6123), ('volum', 6124), ('vote', 6125), ('voter', 6126), ('vouch', 6127), ('voucher', 6128), ('vow', 6129), ('vp', 6130), ('vs', 6131), ('vtb', 6132), ('vulner', 6133), ('w', 6134), ('wael', 6135), ('wage', 6136), ('wagon', 6137), ('wainwright', 6138), ('wait', 6139), ('waitmani', 6140), ('waiv', 6141), ('waiver', 6142), ('wake', 6143), ('wakeup', 6144), ('walk', 6145), ('wall', 6146), ('wallet', 6147), ('walley', 6148), ('walmartcom', 6149), ('wane', 6150), ('wang', 6151), ('want', 6152), ('war', 6153), ('warandstinga', 6154), ('wardrob', 6155), ('warehous', 6156), ('warfar', 6157), ('wari', 6158), ('warm', 6159), ('warmer', 6160), ('warmest', 6161), ('warmth', 6162), ('warmuphold', 6163), ('warn', 6164), ('warrant', 6165), ('warranti', 6166), ('wartim', 6167), ('wartorn', 6168), ('wasask', 6169), ('wasattack', 6170), ('wasavoid', 6171), ('wasfar', 6172), ('wash', 6173), ('washington', 6174), ('wasnt', 6175), ('wast', 6176), ('watch', 6177), ('watchdog', 6178), ('water', 6179), ('watson', 6180), ('wave', 6181), ('waver', 6182), ('way', 6183), ('wayfair', 6184), ('weak', 6185), ('weaken', 6186), ('weaker', 6187), ('wealth', 6188), ('wealthplan', 6189), ('weapon', 6190), ('wear', 6191), ('weather', 6192), ('weave', 6193), ('web', 6194), ('webb', 6195), ('webinar', 6196), ('websit', 6197), ('wedbush', 6198), ('wednesday', 6199), ('wednesdayh', 6200), ('wednesdaystocknewscomlow', 6201), ('week', 6202), ('weekend', 6203), ('weekh', 6204), ('weeklong', 6205), ('weeklytom', 6206), ('weibo', 6207), ('weigh', 6208), ('weight', 6209), ('weiss', 6210), ('welcom', 6211), ('welfar', 6212), ('well', 6213), ('wellknown', 6214), ('wellround', 6215), ('west', 6216), ('westcentr', 6217), ('western', 6218), ('wet', 6219), ('weve', 6220), ('wework', 6221), ('wfp', 6222), ('wga', 6223), ('wgas', 6224), ('what', 6225), ('whatev', 6226), ('whatsoev', 6227), ('whenhuman', 6228), ('whereftx', 6229), ('whether', 6230), ('whichev', 6231), ('whilst', 6232), ('whip', 6233), ('whistl', 6234), ('white', 6235), ('whitehal', 6236), ('whoever', 6237), ('whole', 6238), ('wholesal', 6239), ('whop', 6240), ('whose', 6241), ('wicket', 6242), ('wide', 6243), ('wider', 6244), ('widespread', 6245), ('wife', 6246), ('wilder', 6247), ('wildfir', 6248), ('will', 6249), ('willa', 6250), ('willett', 6251), ('william', 6252), ('williamsdiedbi', 6253), ('wilson', 6254), ('win', 6255), ('wind', 6256), ('window', 6257), ('wine', 6258), ('winner', 6259), ('winnercoexist', 6260), ('winter', 6261), ('winwin', 6262), ('wipe', 6263), ('wipro', 6264), ('wire', 6265), ('wireless', 6266), ('wisconsin', 6267), ('wise', 6268), ('wisecrack', 6269), ('wish', 6270), ('wit', 6271), ('withdraw', 6272), ('withextra', 6273), ('within', 6274), ('without', 6275), ('withoutther', 6276), ('withto', 6277), ('wittenberg', 6278), ('wolf', 6279), ('woman', 6280), ('women', 6281), ('wonder', 6282), ('wont', 6283), ('wool', 6284), ('word', 6285), ('work', 6286), ('worker', 6287), ('workforc', 6288), ('worklif', 6289), ('workplac', 6290), ('workspac', 6291), ('world', 6292), ('worldlead', 6293), ('worldwid', 6294), ('worri', 6295), ('wors', 6296), ('worst', 6297), ('worth', 6298), ('would', 6299), ('wouldnt', 6300), ('wrap', 6301), ('wreck', 6302), ('write', 6303), ('writer', 6304), ('wrong', 6305), ('wrotethus', 6306), ('wti', 6307), ('wwac', 6308), ('wwacvisit', 6309), ('wyom', 6310), ('x', 6311), ('xavi', 6312), ('xi', 6313), ('xii', 6314), ('xiii', 6315), ('xiv', 6316), ('xix', 6317), ('xs', 6318), ('xv', 6319), ('xvi', 6320), ('xvii', 6321), ('xviii', 6322), ('yaccarino', 6323), ('yamunanagar', 6324), ('yann', 6325), ('yashar', 6326), ('yatri', 6327), ('yeah', 6328), ('year', 6329), ('yearnot', 6330), ('yearold', 6331), ('yearonyear', 6332), ('yearoveryear', 6333), ('yearsrel', 6334), ('yearth', 6335), ('yeartod', 6336), ('yedidia', 6337), ('yehudit', 6338), ('yelizaveta', 6339), ('yemen', 6340), ('yes', 6341), ('yesterday', 6342), ('yet', 6343), ('yeşilgözzegerius', 6344), ('yield', 6345), ('york', 6346), ('youll', 6347), ('young', 6348), ('younger', 6349), ('youngest', 6350), ('your', 6351), ('yousaf', 6352), ('youtub', 6353), ('youv', 6354), ('yoy', 6355), ('yrs', 6356), ('zaglossus', 6357), ('zaki', 6358), ('zaluzhnyi', 6359), ('zaqout', 6360), ('zaqut', 6361), ('zdeněk', 6362), ('zealand', 6363), ('zee', 6364), ('zeel', 6365), ('zehorai', 6366), ('zelda', 6367), ('zeldacritic', 6368), ('zero', 6369), ('ziffer', 6370), ('zinc', 6371), ('zoeti', 6372), ('zoetiss', 6373), ('zomato', 6374), ('zone', 6375), ('zts', 6376), ('ztstrade', 6377), ('ztsvisit', 6378), ('zurich', 6379), ('łódź', 6380)])"
      ]
     },
     "execution_count": 110,
     "metadata": {},
     "output_type": "execute_result"
    }
   ],
   "source": [
    "word2index_dict.items()"
   ]
  },
  {
   "cell_type": "code",
   "execution_count": 111,
   "metadata": {},
   "outputs": [
    {
     "data": {
      "text/plain": [
       "dict_items([(0, 'abandon'), (1, 'abba'), (2, 'abbi'), (3, 'abc'), (4, 'abdel'), (5, 'abduct'), (6, 'abdullah'), (7, 'abdulrahman'), (8, 'abdurahman'), (9, 'aberdeen'), (10, 'abhorr'), (11, 'abi'), (12, 'abil'), (13, 'abl'), (14, 'aboard'), (15, 'aboitiz'), (16, 'aboutit'), (17, 'abouty'), (18, 'absenc'), (19, 'absentia'), (20, 'absolut'), (21, 'abu'), (22, 'abuja'), (23, 'abus'), (24, 'acceler'), (25, 'accept'), (26, 'access'), (27, 'accessori'), (28, 'accident'), (29, 'accommod'), (30, 'accompani'), (31, 'accomplish'), (32, 'accord'), (33, 'account'), (34, 'accru'), (35, 'accur'), (36, 'accus'), (37, 'acg'), (38, 'achiev'), (39, 'acid'), (40, 'acknowledg'), (41, 'acknowledgedhowev'), (42, 'acquir'), (43, 'acquisit'), (44, 'acr'), (45, 'acrei'), (46, 'across'), (47, 'act'), (48, 'action'), (49, 'actiondrama'), (50, 'activ'), (51, 'activist'), (52, 'actor'), (53, 'actual'), (54, 'ad'), (55, 'adam'), (56, 'adani'), (57, 'adaniambani'), (58, 'adapt'), (59, 'add'), (60, 'addedrahul'), (61, 'addingth'), (62, 'addingw'), (63, 'addit'), (64, 'address'), (65, 'addressth'), (66, 'adept'), (67, 'adequ'), (68, 'adhes'), (69, 'aditya'), (70, 'adjac'), (71, 'adjunct'), (72, 'adjust'), (73, 'adl'), (74, 'administ'), (75, 'administr'), (76, 'admit'), (77, 'adopt'), (78, 'adoptionreport'), (79, 'adr'), (80, 'adult'), (81, 'advanc'), (82, 'advantag'), (83, 'advertis'), (84, 'advic'), (85, 'advis'), (86, 'advisor'), (87, 'advisori'), (88, 'advisorshar'), (89, 'advoc'), (90, 'advocaci'), (91, 'aerial'), (92, 'affair'), (93, 'affect'), (94, 'affili'), (95, 'affirm'), (96, 'afflict'), (97, 'afford'), (98, 'afl'), (99, 'aflac'), (100, 'aflvisit'), (101, 'afmbreak'), (102, 'afp'), (103, 'afpth'), (104, 'afraid'), (105, 'africa'), (106, 'african'), (107, 'africathey'), (108, 'africayou'), (109, 'aftermarket'), (110, 'aftermath'), (111, 'afternoon'), (112, 'afterthought'), (113, 'afterward'), (114, 'afterwardaft'), (115, 'aftra'), (116, 'ag'), (117, 'agann'), (118, 'agarw'), (119, 'age'), (120, 'agenc'), (121, 'agencieswatch'), (122, 'agenda'), (123, 'agent'), (124, 'aggreg'), (125, 'aggress'), (126, 'agil'), (127, 'ago'), (128, 'agre'), (129, 'agreement'), (130, 'agricultur'), (131, 'agro'), (132, 'agroinsur'), (133, 'ahead'), (134, 'ahm'), (135, 'ahmedabad'), (136, 'ai'), (137, 'aid'), (138, 'aidriven'), (139, 'aif'), (140, 'aigener'), (141, 'aim'), (142, 'ainot'), (143, 'aiop'), (144, 'air'), (145, 'aircraft'), (146, 'airlin'), (147, 'airlinesrel'), (148, 'airplan'), (149, 'airport'), (150, 'airstrik'), (151, 'airway'), (152, 'aiwer'), (153, 'aka'), (154, 'akpabio'), (155, 'aktiengesellschaft'), (156, 'akwa'), (157, 'al'), (158, 'aladdin'), (159, 'alameda'), (160, 'alan'), (161, 'alani'), (162, 'alaqsa'), (163, 'alarm'), (164, 'alawar'), (165, 'albeit'), (166, 'album'), (167, 'alcohol'), (168, 'aleksand'), (169, 'alert'), (170, 'alex'), (171, 'alexand'), (172, 'alexanderi'), (173, 'alexi'), (174, 'alfakhoura'), (175, 'alghaidah'), (176, 'algier'), (177, 'algorithm'), (178, 'ali'), (179, 'alia'), (180, 'alien'), (181, 'align'), (182, 'alik'), (183, 'alina'), (184, 'aliv'), (185, 'alivehow'), (186, 'aliyev'), (187, 'alk'), (188, 'alkerm'), (189, 'alleg'), (190, 'allevi'), (191, 'alli'), (192, 'allianc'), (193, 'alliancebernstein'), (194, 'allmodern'), (195, 'alloc'), (196, 'allow'), (197, 'allplead'), (198, 'allpow'), (199, 'allround'), (200, 'allspr'), (201, 'allwomen'), (202, 'almost'), (203, 'almughanni'), (204, 'alnasr'), (205, 'alon'), (206, 'along'), (207, 'alongsid'), (208, 'alphacentr'), (209, 'alreadi'), (210, 'alset'), (211, 'alshifa'), (212, 'also'), (213, 'alt'), (214, 'alta'), (215, 'alter'), (216, 'altern'), (217, 'altg'), (218, 'although'), (219, 'altman'), (220, 'alukwu'), (221, 'alway'), (222, 'alzagh'), (223, 'amazon'), (224, 'amazoncentr'), (225, 'amazonup'), (226, 'ambassador'), (227, 'amber'), (228, 'ambit'), (229, 'ambiti'), (230, 'ambl'), (231, 'amend'), (232, 'america'), (233, 'american'), (234, 'ameripris'), (235, 'amerita'), (236, 'amid'), (237, 'amidst'), (238, 'amino'), (239, 'ammunit'), (240, 'among'), (241, 'amongst'), (242, 'amount'), (243, 'ampl'), (244, 'amplifi'), (245, 'amptp'), (246, 'amptpon'), (247, 'ana'), (248, 'analys'), (249, 'analysi'), (250, 'analyst'), (251, 'analyt'), (252, 'analyz'), (253, 'anant'), (254, 'anat'), (255, 'ancient'), (256, 'andbest'), (257, 'andexpand'), (258, 'andfacebookandinstagram'), (259, 'andi'), (260, 'andintern'), (261, 'andor'), (262, 'andorpost'), (263, 'andrea'), (264, 'andrew'), (265, 'android'), (266, 'anew'), (267, 'angel'), (268, 'angl'), (269, 'angri'), (270, 'anim'), (271, 'ann'), (272, 'anniversari'), (273, 'announc'), (274, 'annual'), (275, 'annualis'), (276, 'anomali'), (277, 'anoth'), (278, 'answer'), (279, 'antdron'), (280, 'anthrop'), (281, 'anti'), (282, 'antiaircraft'), (283, 'antiallergen'), (284, 'antiasian'), (285, 'anticanc'), (286, 'anticip'), (287, 'anticorrupt'), (288, 'anticounterfeit'), (289, 'antidefam'), (290, 'antigovern'), (291, 'antiharass'), (292, 'antiislam'), (293, 'antin'), (294, 'antioxid'), (295, 'antisemit'), (296, 'antitank'), (297, 'antiterror'), (298, 'antiwhit'), (299, 'antoni'), (300, 'antwerp'), (301, 'anumita'), (302, 'anuĺˇauska'), (303, 'anxieti'), (304, 'anyon'), (305, 'anyth'), (306, 'anyway'), (307, 'anywher'), (308, 'ap'), (309, 'apac'), (310, 'apart'), (311, 'apc'), (312, 'apec'), (313, 'apg'), (314, 'api'), (315, 'apollon'), (316, 'apothet'), (317, 'app'), (318, 'appar'), (319, 'appeal'), (320, 'appear'), (321, 'appendix'), (322, 'appl'), (323, 'appli'), (324, 'applianc'), (325, 'applic'), (326, 'appoint'), (327, 'apprais'), (328, 'appreci'), (329, 'approach'), (330, 'appropri'), (331, 'approv'), (332, 'approxim'), (333, 'apr'), (334, 'april'), (335, 'apt'), (336, 'apun'), (337, 'aquarius'), (338, 'arab'), (339, 'arabia'), (340, 'arabian'), (341, 'arbitr'), (342, 'arbitrag'), (343, 'archaeologist'), (344, 'architectur'), (345, 'arduous'), (346, 'area'), (347, 'areasth'), (348, 'arena'), (349, 'arent'), (350, 'aresearch'), (351, 'argentina'), (352, 'argu'), (353, 'argument'), (354, 'argus'), (355, 'arhaus'), (356, 'aris'), (357, 'arm'), (358, 'armenia'), (359, 'armenian'), (360, 'armi'), (361, 'armistic'), (362, 'armor'), (363, 'armyannouncedon'), (364, 'arnzen'), (365, 'arora'), (366, 'around'), (367, 'aroundsuperintellig'), (368, 'arrang'), (369, 'arrest'), (370, 'arrestedapart'), (371, 'arrestedwel'), (372, 'arriv'), (373, 'art'), (374, 'artd'), (375, 'arthriti'), (376, 'articl'), (377, 'artifici'), (378, 'artist'), (379, 'arvyda'), (380, 'ascent'), (381, 'ascertain'), (382, 'aseinfeldreunion'), (383, 'asia'), (384, 'ask'), (385, 'askew'), (386, 'asleep'), (387, 'asnetflixst'), (388, 'aspect'), (389, 'asphalt'), (390, 'aspir'), (391, 'ass'), (392, 'assam'), (393, 'assassin'), (394, 'assault'), (395, 'assembl'), (396, 'assert'), (397, 'assess'), (398, 'asset'), (399, 'assetback'), (400, 'assign'), (401, 'assignmenth'), (402, 'assimi'), (403, 'assist'), (404, 'associ'), (405, 'assum'), (406, 'assumpt'), (407, 'assur'), (408, 'astararasht'), (409, 'asylum'), (410, 'asylumseek'), (411, 'atletico'), (412, 'atmospher'), (413, 'atmus'), (414, 'atria'), (415, 'atroc'), (416, 'attach'), (417, 'attack'), (418, 'attain'), (419, 'attempt'), (420, 'attenborough'), (421, 'attenboroughi'), (422, 'attend'), (423, 'attent'), (424, 'atth'), (425, 'atthi'), (426, 'attir'), (427, 'attitud'), (428, 'attorney'), (429, 'attract'), (430, 'attribut'), (431, 'audi'), (432, 'audienc'), (433, 'audit'), (434, 'auditionsinterviewstest'), (435, 'auditorium'), (436, 'augment'), (437, 'august'), (438, 'austin'), (439, 'australia'), (440, 'authent'), (441, 'author'), (442, 'autofil'), (443, 'autom'), (444, 'automat'), (445, 'automationth'), (446, 'automot'), (447, 'avail'), (448, 'avano'), (449, 'averag'), (450, 'avert'), (451, 'aviv'), (452, 'aviva'), (453, 'avn'), (454, 'avod'), (455, 'avoid'), (456, 'await'), (457, 'awar'), (458, 'award'), (459, 'awardit'), (460, 'awardspunch'), (461, 'away'), (462, 'awayfrom'), (463, 'awolowo'), (464, 'axel'), (465, 'axi'), (466, 'ayman'), (467, 'ayodhya'), (468, 'azawad'), (469, 'azerbaijan'), (470, 'b'), (471, 'babi'), (472, 'bachelor'), (473, 'back'), (474, 'background'), (475, 'backoffic'), (476, 'backtoback'), (477, 'bad'), (478, 'baer'), (479, 'bag'), (480, 'baghel'), (481, 'bahama'), (482, 'baidu'), (483, 'baird'), (484, 'bajaj'), (485, 'bakeri'), (486, 'balanc'), (487, 'ballard'), (488, 'bamako'), (489, 'ban'), (490, 'bancorp'), (491, 'band'), (492, 'bang'), (493, 'bangalor'), (494, 'bangladesh'), (495, 'bangladeshin'), (496, 'bank'), (497, 'banker'), (498, 'bankmanfri'), (499, 'bankmanfriedquest'), (500, 'bankmanfriedto'), (501, 'bankshar'), (502, 'bar'), (503, 'barca'), (504, 'barcelona'), (505, 'barclay'), (506, 'bardella'), (507, 'bare'), (508, 'barefoot'), (509, 'bargain'), (510, 'barn'), (511, 'barrel'), (512, 'barrett'), (513, 'barrier'), (514, 'barron'), (515, 'bartl'), (516, 'base'), (517, 'baseless'), (518, 'basi'), (519, 'basic'), (520, 'basket'), (521, 'basler'), (522, 'basu'), (523, 'bat'), (524, 'bata'), (525, 'batch'), (526, 'bate'), (527, 'bath'), (528, 'batter'), (529, 'battl'), (530, 'battlefield'), (531, 'bavuma'), (532, 'bay'), (533, 'bayelsa'), (534, 'bbc'), (535, 'bds'), (536, 'beach'), (537, 'beacon'), (538, 'bear'), (539, 'beardo'), (540, 'bearish'), (541, 'beat'), (542, 'beauti'), (543, 'becam'), (544, 'becom'), (545, 'bed'), (546, 'bedbathandbeyondcom'), (547, 'bedroom'), (548, 'bee'), (549, 'beencriticalof'), (550, 'beer'), (551, 'beeri'), (552, 'beforesagaftramemb'), (553, 'begin'), (554, 'behalf'), (555, 'behavior'), (556, 'behemoth'), (557, 'behind'), (558, 'behnam'), (559, 'beij'), (560, 'beijingbas'), (561, 'beirut'), (562, 'belief'), (563, 'believ'), (564, 'belittl'), (565, 'bell'), (566, 'belli'), (567, 'belong'), (568, 'belt'), (569, 'ben'), (570, 'benchmark'), (571, 'benefici'), (572, 'benefit'), (573, 'bengal'), (574, 'benito'), (575, 'benjamin'), (576, 'ber'), (577, 'berat'), (578, 'bergmann'), (579, 'berkeley'), (580, 'berlin'), (581, 'bermuda'), (582, 'bernard'), (583, 'bernstein'), (584, 'berth'), (585, 'besid'), (586, 'besieg'), (587, 'best'), (588, 'bestcyb'), (589, 'bet'), (590, 'beta'), (591, 'better'), (592, 'beverag'), (593, 'beyond'), (594, 'bfi'), (595, 'bhupesh'), (596, 'bias'), (597, 'bid'), (598, 'biden'), (599, 'bidenwould'), (600, 'bidu'), (601, 'biduopen'), (602, 'biduvisit'), (603, 'big'), (604, 'bigger'), (605, 'biggest'), (606, 'biggi'), (607, 'bihar'), (608, 'bilater'), (609, 'bild'), (610, 'bill'), (611, 'billboard'), (612, 'billion'), (613, 'billionair'), (614, 'bin'), (615, 'bind'), (616, 'biodivers'), (617, 'biograph'), (618, 'biohealth'), (619, 'biolog'), (620, 'biologist'), (621, 'biom'), (622, 'biomark'), (623, 'biometr'), (624, 'biopharmaceut'), (625, 'biotechnolog'), (626, 'bipartisan'), (627, 'bipolar'), (628, 'birch'), (629, 'bird'), (630, 'biren'), (631, 'birthday'), (632, 'biscuit'), (633, 'bishop'), (634, 'biso'), (635, 'bissel'), (636, 'bite'), (637, 'bitter'), (638, 'bjp'), (639, 'black'), (640, 'blackrock'), (641, 'blaha'), (642, 'blair'), (643, 'blame'), (644, 'blast'), (645, 'blaugrana'), (646, 'blend'), (647, 'bless'), (648, 'bletchley'), (649, 'blind'), (650, 'blinken'), (651, 'blitz'), (652, 'blminspir'), (653, 'bloc'), (654, 'block'), (655, 'blockad'), (656, 'blogger'), (657, 'blood'), (658, 'bloodi'), (659, 'blooper'), (660, 'blow'), (661, 'blue'), (662, 'bmi'), (663, 'bmo'), (664, 'bmw'), (665, 'bmyvisit'), (666, 'bnd'), (667, 'bndopen'), (668, 'bndvisit'), (669, 'bnp'), (670, 'bo'), (671, 'board'), (672, 'boast'), (673, 'bodi'), (674, 'bofa'), (675, 'bogus'), (676, 'bold'), (677, 'boll'), (678, 'bolster'), (679, 'bomb'), (680, 'bombard'), (681, 'bona'), (682, 'bonafid'), (683, 'bond'), (684, 'bonni'), (685, 'bonus'), (686, 'boogi'), (687, 'book'), (688, 'bookon'), (689, 'boom'), (690, 'boon'), (691, 'boost'), (692, 'border'), (693, 'borrow'), (694, 'boston'), (695, 'bottl'), (696, 'bottom'), (697, 'bounc'), (698, 'boundari'), (699, 'bounti'), (700, 'bowerssold'), (701, 'bowl'), (702, 'bowler'), (703, 'box'), (704, 'boy'), (705, 'bps'), (706, 'brace'), (707, 'bracelet'), (708, 'brad'), (709, 'bradley'), (710, 'brainstorm'), (711, 'branch'), (712, 'brand'), (713, 'brandish'), (714, 'braverman'), (715, 'bravo'), (716, 'brazil'), (717, 'breach'), (718, 'breachfight'), (719, 'bread'), (720, 'breadth'), (721, 'break'), (722, 'breakdown'), (723, 'breakfast'), (724, 'breakthrough'), (725, 'breath'), (726, 'breathabl'), (727, 'brent'), (728, 'brevill'), (729, 'brian'), (730, 'briberi'), (731, 'bridg'), (732, 'briefingcomreport'), (733, 'brig'), (734, 'brighter'), (735, 'bring'), (736, 'brinkmanshipand'), (737, 'bristolmy'), (738, 'brit'), (739, 'britain'), (740, 'british'), (741, 'broad'), (742, 'broadcast'), (743, 'broaden'), (744, 'broader'), (745, 'broker'), (746, 'brother'), (747, 'brotherhood'), (748, 'brounsteincorpor'), (749, 'brown'), (750, 'brows'), (751, 'bruis'), (752, 'brussel'), (753, 'brutal'), (754, 'bryan'), (755, 'brzezińska'), (756, 'bse'), (757, 'bubbl'), (758, 'buddhism'), (759, 'budget'), (760, 'budgetari'), (761, 'budszus'), (762, 'bug'), (763, 'buginform'), (764, 'bugthat'), (765, 'build'), (766, 'bulgaria'), (767, 'bulgarian'), (768, 'bulk'), (769, 'bullet'), (770, 'bulletin'), (771, 'bullish'), (772, 'bundl'), (773, 'buoy'), (774, 'burgeon'), (775, 'burger'), (776, 'burgess'), (777, 'buri'), (778, 'burkina'), (779, 'burn'), (780, 'burrow'), (781, 'burst'), (782, 'bus'), (783, 'bush'), (784, 'busi'), (785, 'businessman'), (786, 'businesss'), (787, 'businesstobusi'), (788, 'buy'), (789, 'buyer'), (790, 'buzzword'), (791, 'bxp'), (792, 'bypubl'), (793, 'bystand'), (794, 'byted'), (795, 'byurban'), (796, 'c'), (797, 'cabinet'), (798, 'cagr'), (799, 'calamp'), (800, 'calcul'), (801, 'calendar'), (802, 'calif'), (803, 'california'), (804, 'call'), (805, 'callan'), (806, 'calm'), (807, 'cambridg'), (808, 'camera'), (809, 'camp'), (810, 'campaign'), (811, 'can'), (812, 'canada'), (813, 'canadian'), (814, 'cancel'), (815, 'cancelo'), (816, 'cancer'), (817, 'candid'), (818, 'candl'), (819, 'candriam'), (820, 'cannot'), (821, 'canon'), (822, 'canown'), (823, 'cant'), (824, 'cantor'), (825, 'cap'), (826, 'capabl'), (827, 'capac'), (828, 'capex'), (829, 'capit'), (830, 'captain'), (831, 'captiv'), (832, 'captur'), (833, 'car'), (834, 'carbon'), (835, 'card'), (836, 'cardiovascular'), (837, 'care'), (838, 'career'), (839, 'caregiv'), (840, 'caretak'), (841, 'cargo'), (842, 'carmak'), (843, 'carnegi'), (844, 'carolin'), (845, 'carpent'), (846, 'carri'), (847, 'carrier'), (848, 'carsten'), (849, 'cascad'), (850, 'case'), (851, 'casert'), (852, 'cash'), (853, 'cast'), (854, 'castleri'), (855, 'casualti'), (856, 'cat'), (857, 'catalan'), (858, 'catalyst'), (859, 'catapult'), (860, 'catastroph'), (861, 'catch'), (862, 'categor'), (863, 'categori'), (864, 'categoris'), (865, 'cater'), (866, 'cathol'), (867, 'catobar'), (868, 'cattl'), (869, 'caus'), (870, 'caution'), (871, 'cautionari'), (872, 'cautious'), (873, 'cave'), (874, 'caveat'), (875, 'cb'), (876, 'cba'), (877, 'cbs'), (878, 'ccep'), (879, 'cea'), (880, 'ceasefir'), (881, 'ceil'), (882, 'celebr'), (883, 'cell'), (884, 'cellular'), (885, 'celsius'), (886, 'cemeteri'), (887, 'cenotaph'), (888, 'cent'), (889, 'center'), (890, 'centerleft'), (891, 'centr'), (892, 'central'), (893, 'centrist'), (894, 'centurion'), (895, 'ceo'), (896, 'ceoedward'), (897, 'ceosanjay'), (898, 'ceremoni'), (899, 'certain'), (900, 'certif'), (901, 'certifi'), (902, 'cessat'), (903, 'cfo'), (904, 'chaarat'), (905, 'chad'), (906, 'chain'), (907, 'chair'), (908, 'chairman'), (909, 'challeng'), (910, 'chambal'), (911, 'chamber'), (912, 'champion'), (913, 'championship'), (914, 'chan'), (915, 'chanc'), (916, 'chancellor'), (917, 'chandigarh'), (918, 'chang'), (919, 'changethrough'), (920, 'channel'), (921, 'channelcomreport'), (922, 'channelreport'), (923, 'chao'), (924, 'chapter'), (925, 'charact'), (926, 'character'), (927, 'characteris'), (928, 'characterist'), (929, 'chardonnay'), (930, 'charg'), (931, 'charger'), (932, 'charl'), (933, 'charli'), (934, 'chart'), (935, 'charter'), (936, 'chase'), (937, 'chasebut'), (938, 'chaseworld'), (939, 'chatbot'), (940, 'chatgpt'), (941, 'cheap'), (942, 'check'), (943, 'chemic'), (944, 'chemseddin'), (945, 'chen'), (946, 'cherish'), (947, 'chhattisgarh'), (948, 'chief'), (949, 'child'), (950, 'childlaborcoordin'), (951, 'children'), (952, 'chile'), (953, 'chilean'), (954, 'chin'), (955, 'china'), (956, 'chip'), (957, 'chittagong'), (958, 'choic'), (959, 'cholera'), (960, 'choos'), (961, 'choose'), (962, 'choreographi'), (963, 'chouhan'), (964, 'chris'), (965, 'christian'), (966, 'christma'), (967, 'chrome'), (968, 'chromosomeposit'), (969, 'chronic'), (970, 'chuck'), (971, 'chukwuemeka'), (972, 'church'), (973, 'cibc'), (974, 'cinema'), (975, 'cinemat'), (976, 'circl'), (977, 'circuit'), (978, 'circul'), (979, 'circumst'), (980, 'circumv'), (981, 'cis'), (982, 'cisa'), (983, 'cisco'), (984, 'ciso'), (985, 'cite'), (986, 'citi'), (987, 'citigroup'), (988, 'citizen'), (989, 'civil'), (990, 'civilian'), (991, 'civilright'), (992, 'claim'), (993, 'claimsth'), (994, 'clarif'), (995, 'clarifi'), (996, 'clariti'), (997, 'clarkstarv'), (998, 'clash'), (999, 'clashsen'), (1000, 'class'), (1001, 'classif'), (1002, 'classifi'), (1003, 'classroom'), (1004, 'clauderevamp'), (1005, 'claudius'), (1006, 'claus'), (1007, 'clean'), (1008, 'cleaneranthropologieup'), (1009, 'cleanview'), (1010, 'clear'), (1011, 'clearanc'), (1012, 'clearer'), (1013, 'clearwhil'), (1014, 'click'), (1015, 'client'), (1016, 'climat'), (1017, 'climax'), (1018, 'climb'), (1019, 'clinic'), (1020, 'clip'), (1021, 'clone'), (1022, 'close'), (1023, 'closedend'), (1024, 'closer'), (1025, 'closest'), (1026, 'cloud'), (1027, 'clouddriven'), (1028, 'clout'), (1029, 'club'), (1030, 'clue'), (1031, 'cma'), (1032, 'cmacontrol'), (1033, 'co'), (1034, 'coach'), (1035, 'coal'), (1036, 'coalbas'), (1037, 'coalit'), (1038, 'coast'), (1039, 'coastal'), (1040, 'coastlin'), (1041, 'cobbl'), (1042, 'coca'), (1043, 'cocacola'), (1044, 'coconspir'), (1045, 'cocreat'), (1046, 'code'), (1047, 'codifi'), (1048, 'coffer'), (1049, 'cofinanc'), (1050, 'cofound'), (1051, 'cog'), (1052, 'cogniz'), (1053, 'cohen'), (1054, 'cohes'), (1055, 'cohort'), (1056, 'coil'), (1057, 'coke'), (1058, 'cola'), (1059, 'collabor'), (1060, 'collaborationsuppli'), (1061, 'collaps'), (1062, 'colleagu'), (1063, 'collect'), (1064, 'collecv'), (1065, 'colleg'), (1066, 'collett'), (1067, 'coloalert'), (1068, 'coloalerti'), (1069, 'color'), (1070, 'colorect'), (1071, 'columbia'), (1072, 'column'), (1073, 'combat'), (1074, 'combatingclim'), (1075, 'combin'), (1076, 'comcast'), (1077, 'come'), (1078, 'comeback'), (1079, 'comedi'), (1080, 'comedian'), (1081, 'comedienn'), (1082, 'comfort'), (1083, 'comic'), (1084, 'command'), (1085, 'commanderinchief'), (1086, 'commando'), (1087, 'commemor'), (1088, 'commenc'), (1089, 'comment'), (1090, 'commentari'), (1091, 'commerc'), (1092, 'commerci'), (1093, 'commiss'), (1094, 'commission'), (1095, 'commissionlearn'), (1096, 'commit'), (1097, 'committe'), (1098, 'commod'), (1099, 'common'), (1100, 'commonrentschl'), (1101, 'commonwealth'), (1102, 'communic'), (1103, 'communicationscorporatecommsstonepeakcom'), (1104, 'communiti'), (1105, 'comp'), (1106, 'compact'), (1107, 'compani'), (1108, 'companion'), (1109, 'companywid'), (1110, 'compar'), (1111, 'comparison'), (1112, 'compass'), (1113, 'compassion'), (1114, 'compatriot'), (1115, 'compel'), (1116, 'compens'), (1117, 'compet'), (1118, 'competit'), (1119, 'competitor'), (1120, 'compil'), (1121, 'complac'), (1122, 'complain'), (1123, 'complaint'), (1124, 'complementari'), (1125, 'complet'), (1126, 'complex'), (1127, 'compli'), (1128, 'complianc'), (1129, 'compliant'), (1130, 'complic'), (1131, 'compon'), (1132, 'composit'), (1133, 'compound'), (1134, 'comprehend'), (1135, 'comprehens'), (1136, 'compris'), (1137, 'compromis'), (1138, 'compulsori'), (1139, 'comput'), (1140, 'computerintegr'), (1141, 'con'), (1142, 'conceiv'), (1143, 'concentr'), (1144, 'conceptu'), (1145, 'concern'), (1146, 'concili'), (1147, 'conclus'), (1148, 'concours'), (1149, 'concret'), (1150, 'concurr'), (1151, 'condemn'), (1152, 'condit'), (1153, 'conduct'), (1154, 'confer'), (1155, 'confid'), (1156, 'confidenti'), (1157, 'configur'), (1158, 'confin'), (1159, 'confirm'), (1160, 'conflict'), (1161, 'conform'), (1162, 'confront'), (1163, 'confus'), (1164, 'conglomer'), (1165, 'congratul'), (1166, 'congress'), (1167, 'congresslead'), (1168, 'congressth'), (1169, 'congresswoman'), (1170, 'conjunct'), (1171, 'connect'), (1172, 'connecticut'), (1173, 'connectus'), (1174, 'conon'), (1175, 'conroy'), (1176, 'consecut'), (1177, 'consensus'), (1178, 'consent'), (1179, 'consequ'), (1180, 'consequencespeskov'), (1181, 'conserv'), (1182, 'consid'), (1183, 'consider'), (1184, 'consist'), (1185, 'consistori'), (1186, 'consol'), (1187, 'consolid'), (1188, 'consortium'), (1189, 'conspicu'), (1190, 'conspiraci'), (1191, 'constant'), (1192, 'constitu'), (1193, 'constitut'), (1194, 'constitutionwith'), (1195, 'construct'), (1196, 'consult'), (1197, 'consum'), (1198, 'consumercentr'), (1199, 'consumm'), (1200, 'consumpt'), (1201, 'contact'), (1202, 'contagion'), (1203, 'contain'), (1204, 'contemporari'), (1205, 'content'), (1206, 'contest'), (1207, 'contestantsin'), (1208, 'context'), (1209, 'continent'), (1210, 'continu'), (1211, 'contract'), (1212, 'contractor'), (1213, 'contractu'), (1214, 'contradict'), (1215, 'contrari'), (1216, 'contrast'), (1217, 'contravent'), (1218, 'contribut'), (1219, 'control'), (1220, 'controversi'), (1221, 'controversysom'), (1222, 'conundrum'), (1223, 'conveni'), (1224, 'convent'), (1225, 'converg'), (1226, 'convers'), (1227, 'convert'), (1228, 'convey'), (1229, 'convict'), (1230, 'convinc'), (1231, 'convoy'), (1232, 'cook'), (1233, 'coolant'), (1234, 'cooler'), (1235, 'cooper'), (1236, 'coordin'), (1237, 'copernicus'), (1238, 'copi'), (1239, 'coppel'), (1240, 'copper'), (1241, 'coproduct'), (1242, 'copyright'), (1243, 'coral'), (1244, 'cordless'), (1245, 'core'), (1246, 'coreaffirm'), (1247, 'cornerston'), (1248, 'cornerstoneha'), (1249, 'corp'), (1250, 'corpak'), (1251, 'corpor'), (1252, 'correct'), (1253, 'correspond'), (1254, 'corridor'), (1255, 'corrupt'), (1256, 'corun'), (1257, 'cos'), (1258, 'cosmet'), (1259, 'cosmo'), (1260, 'cost'), (1261, 'costanza'), (1262, 'costar'), (1263, 'costeffect'), (1264, 'costofliv'), (1265, 'costsav'), (1266, 'costum'), (1267, 'cotton'), (1268, 'could'), (1269, 'couldnt'), (1270, 'council'), (1271, 'count'), (1272, 'counter'), (1273, 'counteract'), (1274, 'counterfeit'), (1275, 'countermeasur'), (1276, 'counterpart'), (1277, 'counterproduct'), (1278, 'counti'), (1279, 'countless'), (1280, 'countri'), (1281, 'coup'), (1282, 'coupl'), (1283, 'coupon'), (1284, 'courag'), (1285, 'cours'), (1286, 'court'), (1287, 'courtroom'), (1288, 'courtyard'), (1289, 'cover'), (1290, 'coverag'), (1291, 'coverup'), (1292, 'covestor'), (1293, 'covid'), (1294, 'cowen'), (1295, 'cowritten'), (1296, 'cozi'), (1297, 'cp'), (1298, 'cpcb'), (1299, 'cpi'), (1300, 'cpibas'), (1301, 'cr'), (1302, 'crabtreeireland'), (1303, 'crack'), (1304, 'craft'), (1305, 'crane'), (1306, 'crankcas'), (1307, 'crate'), (1308, 'cratebarrel'), (1309, 'creat'), (1310, 'creation'), (1311, 'creativ'), (1312, 'creator'), (1313, 'creatur'), (1314, 'credibl'), (1315, 'credit'), (1316, 'crew'), (1317, 'cri'), (1318, 'cricket'), (1319, 'crime'), (1320, 'crimin'), (1321, 'criminalsth'), (1322, 'crippl'), (1323, 'crise'), (1324, 'crisi'), (1325, 'criteria'), (1326, 'critic'), (1327, 'critica'), (1328, 'criticis'), (1329, 'cro'), (1330, 'crojoseph'), (1331, 'crop'), (1332, 'crore'), (1333, 'cross'), (1334, 'crossbench'), (1335, 'crossbord'), (1336, 'crosscountri'), (1337, 'crosscultur'), (1338, 'crossroad'), (1339, 'crowd'), (1340, 'crown'), (1341, 'crucial'), (1342, 'crude'), (1343, 'cruelti'), (1344, 'crux'), (1345, 'crypto'), (1346, 'cryptocurr'), (1347, 'cs'), (1348, 'csatf'), (1349, 'csba'), (1350, 'csd'), (1351, 'csds'), (1352, 'cse'), (1353, 'csgp'), (1354, 'csgpvisit'), (1355, 'csnri'), (1356, 'csuit'), (1357, 'ct'), (1358, 'ctbt'), (1359, 'cts'), (1360, 'cttee'), (1361, 'cuban'), (1362, 'cullen'), (1363, 'cultiv'), (1364, 'cultur'), (1365, 'cummin'), (1366, 'cumul'), (1367, 'cup'), (1368, 'cupertino'), (1369, 'curb'), (1370, 'curios'), (1371, 'curious'), (1372, 'currenc'), (1373, 'current'), (1374, 'curv'), (1375, 'custom'), (1376, 'customari'), (1377, 'customiz'), (1378, 'customizationth'), (1379, 'cut'), (1380, 'cuttingedg'), (1381, 'cw'), (1382, 'cyber'), (1383, 'cyberattack'), (1384, 'cybercrimesen'), (1385, 'cybersecur'), (1386, 'cycl'), (1387, 'cyclon'), (1388, 'cyclop'), (1389, 'dadri'), (1390, 'daili'), (1391, 'dairi'), (1392, 'dakota'), (1393, 'damag'), (1394, 'damagedwhat'), (1395, 'damian'), (1396, 'danc'), (1397, 'dancer'), (1398, 'danger'), (1399, 'daniel'), (1400, 'daniell'), (1401, 'dare'), (1402, 'darfur'), (1403, 'dark'), (1404, 'das'), (1405, 'dashboard'), (1406, 'data'), (1407, 'databas'), (1408, 'datafilt'), (1409, 'dataleverag'), (1410, 'dataset'), (1411, 'date'), (1412, 'datelinkedinx'), (1413, 'daughter'), (1414, 'daunt'), (1415, 'david'), (1416, 'davranoglou'), (1417, 'day'), (1418, 'daystocov'), (1419, 'daytoday'), (1420, 'dc'), (1421, 'dd'), (1422, 'ddvisit'), (1423, 'de'), (1424, 'dead'), (1425, 'deadlin'), (1426, 'deal'), (1427, 'dealersdistributor'), (1428, 'dealership'), (1429, 'dealsamazonup'), (1430, 'dean'), (1431, 'dear'), (1432, 'death'), (1433, 'debat'), (1434, 'debt'), (1435, 'debttoequ'), (1436, 'debut'), (1437, 'decad'), (1438, 'decapit'), (1439, 'deceas'), (1440, 'deceit'), (1441, 'deceler'), (1442, 'decemb'), (1443, 'decent'), (1444, 'decept'), (1445, 'decid'), (1446, 'decim'), (1447, 'decis'), (1448, 'decisionmak'), (1449, 'deck'), (1450, 'deckelman'), (1451, 'declar'), (1452, 'declin'), (1453, 'decreas'), (1454, 'decri'), (1455, 'dedic'), (1456, 'deem'), (1457, 'deep'), (1458, 'deepen'), (1459, 'deeper'), (1460, 'deepfak'), (1461, 'deepli'), (1462, 'defam'), (1463, 'default'), (1464, 'defeat'), (1465, 'defect'), (1466, 'defenc'), (1467, 'defend'), (1468, 'defens'), (1469, 'deficit'), (1470, 'defin'), (1471, 'definit'), (1472, 'deflat'), (1473, 'deforest'), (1474, 'defraud'), (1475, 'defunct'), (1476, 'degrad'), (1477, 'degre'), (1478, 'deislam'), (1479, 'del'), (1480, 'delawar'), (1481, 'deleg'), (1482, 'delegitimis'), (1483, 'delet'), (1484, 'delgrosso'), (1485, 'delhi'), (1486, 'delhincr'), (1487, 'deliber'), (1488, 'delicatessen'), (1489, 'delist'), (1490, 'deliv'), (1491, 'deliveri'), (1492, 'delv'), (1493, 'demand'), (1494, 'demandstheir'), (1495, 'demis'), (1496, 'democraci'), (1497, 'democracyth'), (1498, 'democrat'), (1499, 'demograph'), (1500, 'demolish'), (1501, 'demonstr'), (1502, 'deni'), (1503, 'denni'), (1504, 'dental'), (1505, 'depart'), (1506, 'depend'), (1507, 'depict'), (1508, 'deploy'), (1509, 'deportivo'), (1510, 'deposit'), (1511, 'depot'), (1512, 'depreci'), (1513, 'depress'), (1514, 'depth'), (1515, 'deputi'), (1516, 'der'), (1517, 'derrin'), (1518, 'describ'), (1519, 'descript'), (1520, 'design'), (1521, 'desir'), (1522, 'desjardin'), (1523, 'despair'), (1524, 'desper'), (1525, 'despit'), (1526, 'destabil'), (1527, 'destin'), (1528, 'destini'), (1529, 'destroy'), (1530, 'destruct'), (1531, 'detail'), (1532, 'detain'), (1533, 'detaine'), (1534, 'detect'), (1535, 'detent'), (1536, 'deterior'), (1537, 'determin'), (1538, 'deton'), (1539, 'deutsch'), (1540, 'devast'), (1541, 'develop'), (1542, 'devic'), (1543, 'dga'), (1544, 'dgr'), (1545, 'diagnost'), (1546, 'dialog'), (1547, 'dialogu'), (1548, 'diana'), (1549, 'dictat'), (1550, 'didnt'), (1551, 'die'), (1552, 'diem'), (1553, 'differ'), (1554, 'differencew'), (1555, 'difficult'), (1556, 'difficulti'), (1557, 'digest'), (1558, 'digha'), (1559, 'digit'), (1560, 'digitalfirst'), (1561, 'digitallycr'), (1562, 'dilan'), (1563, 'dilemma'), (1564, 'dine'), (1565, 'dinner'), (1566, 'dioxid'), (1567, 'dip'), (1568, 'diploma'), (1569, 'diplomaci'), (1570, 'diplomat'), (1571, 'direct'), (1572, 'director'), (1573, 'directorgener'), (1574, 'directorwilliam'), (1575, 'directtoconsum'), (1576, 'disabl'), (1577, 'disagr'), (1578, 'disagre'), (1579, 'disappear'), (1580, 'disast'), (1581, 'disastr'), (1582, 'disclaim'), (1583, 'disclos'), (1584, 'disclosur'), (1585, 'discomfort'), (1586, 'discount'), (1587, 'discov'), (1588, 'discoveri'), (1589, 'discretionari'), (1590, 'discrimin'), (1591, 'discuss'), (1592, 'diseas'), (1593, 'disengag'), (1594, 'disgrac'), (1595, 'disguis'), (1596, 'dish'), (1597, 'disinform'), (1598, 'dismember'), (1599, 'disney'), (1600, 'disord'), (1601, 'dispar'), (1602, 'dispatch'), (1603, 'dispel'), (1604, 'displac'), (1605, 'display'), (1606, 'dispos'), (1607, 'disproportion'), (1608, 'disput'), (1609, 'disregard'), (1610, 'disrespect'), (1611, 'disrupt'), (1612, 'dissappoint'), (1613, 'distant'), (1614, 'distinct'), (1615, 'distinguish'), (1616, 'distribut'), (1617, 'distributor'), (1618, 'district'), (1619, 'disturb'), (1620, 'divers'), (1621, 'diversif'), (1622, 'diversifi'), (1623, 'divert'), (1624, 'divestitur'), (1625, 'divid'), (1626, 'dividend'), (1627, 'divis'), (1628, 'divorc'), (1629, 'dixon'), (1630, 'dma'), (1631, 'dmitri'), (1632, 'do'), (1633, 'doclab'), (1634, 'doctor'), (1635, 'docudrama'), (1636, 'document'), (1637, 'documentari'), (1638, 'doesnt'), (1639, 'dog'), (1640, 'doha'), (1641, 'dollar'), (1642, 'dollardenomin'), (1643, 'domain'), (1644, 'domest'), (1645, 'domesticallybuilt'), (1646, 'domicil'), (1647, 'domin'), (1648, 'donat'), (1649, 'donetsk'), (1650, 'dont'), (1651, 'doom'), (1652, 'door'), (1653, 'dorn'), (1654, 'dosag'), (1655, 'dottedlin'), (1656, 'doubl'), (1657, 'doubledigit'), (1658, 'doubt'), (1659, 'dour'), (1660, 'dowhat'), (1661, 'downgrad'), (1662, 'download'), (1663, 'downsid'), (1664, 'downstair'), (1665, 'downstream'), (1666, 'downtown'), (1667, 'downturn'), (1668, 'dozen'), (1669, 'dpr'), (1670, 'dr'), (1671, 'drag'), (1672, 'drain'), (1673, 'dramat'), (1674, 'draw'), (1675, 'drawnout'), (1676, 'drescherand'), (1677, 'dress'), (1678, 'dresser'), (1679, 'dri'), (1680, 'drill'), (1681, 'drink'), (1682, 'drive'), (1683, 'driver'), (1684, 'drivesuit'), (1685, 'drone'), (1686, 'drop'), (1687, 'droppedsagaftra'), (1688, 'droppickup'), (1689, 'drought'), (1690, 'drum'), (1691, 'drummer'), (1692, 'dualus'), (1693, 'dub'), (1694, 'dubai'), (1695, 'dublin'), (1696, 'due'), (1697, 'duet'), (1698, 'duffi'), (1699, 'duncan'), (1700, 'duo'), (1701, 'dupe'), (1702, 'dupont'), (1703, 'durat'), (1704, 'dussen'), (1705, 'dutch'), (1706, 'dutchelect'), (1707, 'duti'), (1708, 'duvvuri'), (1709, 'dvtpe'), (1710, 'dwindl'), (1711, 'dxc'), (1712, 'dynam'), (1713, 'dyson'), (1714, 'décor'), (1715, 'düsseldorf'), (1716, 'e'), (1717, 'eager'), (1718, 'ear'), (1719, 'earli'), (1720, 'earlier'), (1721, 'earlierth'), (1722, 'earlydetect'), (1723, 'earlystag'), (1724, 'earn'), (1725, 'earth'), (1726, 'earthmov'), (1727, 'earthquak'), (1728, 'eas'), (1729, 'easi'), (1730, 'easier'), (1731, 'east'), (1732, 'eastern'), (1733, 'easytous'), (1734, 'eaton'), (1735, 'ebitda'), (1736, 'echidna'), (1737, 'eclect'), (1738, 'ecofriend'), (1739, 'ecolog'), (1740, 'ecommerc'), (1741, 'econom'), (1742, 'economist'), (1743, 'ecosystem'), (1744, 'ecosystemwid'), (1745, 'ecrahul'), (1746, 'ed'), (1747, 'edg'), (1748, 'edibl'), (1749, 'edit'), (1750, 'editionreport'), (1751, 'editor'), (1752, 'editori'), (1753, 'educ'), (1754, 'edward'), (1755, 'efcc'), (1756, 'efcci'), (1757, 'effect'), (1758, 'effici'), (1759, 'effort'), (1760, 'eg'), (1761, 'egglay'), (1762, 'egypt'), (1763, 'egyptian'), (1764, 'eight'), (1765, 'eightbeat'), (1766, 'eightyf'), (1767, 'eintracht'), (1768, 'either'), (1769, 'el'), (1770, 'elain'), (1771, 'elder'), (1772, 'elect'), (1773, 'elector'), (1774, 'electr'), (1775, 'electrocut'), (1776, 'electromagnet'), (1777, 'electron'), (1778, 'element'), (1779, 'eleph'), (1780, 'elev'), (1781, 'eleven'), (1782, 'eli'), (1783, 'eliassi'), (1784, 'elicit'), (1785, 'elig'), (1786, 'elimin'), (1787, 'eliqui'), (1788, 'elit'), (1789, 'ellison'), (1790, 'ellwood'), (1791, 'elm'), (1792, 'elon'), (1793, 'els'), (1794, 'elsewher'), (1795, 'elsheikh'), (1796, 'elsisi'), (1797, 'elud'), (1798, 'elus'), (1799, 'elvi'), (1800, 'elyse'), (1801, 'email'), (1802, 'emal'), (1803, 'emancip'), (1804, 'embark'), (1805, 'embassi'), (1806, 'embed'), (1807, 'embezzl'), (1808, 'embodi'), (1809, 'embol'), (1810, 'embrac'), (1811, 'emerg'), (1812, 'emili'), (1813, 'emir'), (1814, 'emiss'), (1815, 'emit'), (1816, 'emma'), (1817, 'emmanuel'), (1818, 'emot'), (1819, 'empath'), (1820, 'emphas'), (1821, 'emphasis'), (1822, 'empl'), (1823, 'employ'), (1824, 'employe'), (1825, 'employmentbas'), (1826, 'empow'), (1827, 'empti'), (1828, 'en'), (1829, 'enabl'), (1830, 'enact'), (1831, 'enclav'), (1832, 'encompass'), (1833, 'encount'), (1834, 'encourag'), (1835, 'end'), (1836, 'endeavor'), (1837, 'endoclear'), (1838, 'endors'), (1839, 'endow'), (1840, 'endur'), (1841, 'endus'), (1842, 'enduserappl'), (1843, 'enemi'), (1844, 'energi'), (1845, 'engag'), (1846, 'engin'), (1847, 'engineeringhowev'), (1848, 'england'), (1849, 'english'), (1850, 'enhanc'), (1851, 'enjoin'), (1852, 'enjoy'), (1853, 'enorm'), (1854, 'enough'), (1855, 'enquir'), (1856, 'enquiriessalesfuturemarketinsightscomwebsit'), (1857, 'enrol'), (1858, 'ensur'), (1859, 'entail'), (1860, 'enter'), (1861, 'enterpris'), (1862, 'entertain'), (1863, 'enthusiastssport'), (1864, 'entir'), (1865, 'entireti'), (1866, 'entiti'), (1867, 'entitl'), (1868, 'entomologist'), (1869, 'entorno'), (1870, 'entranc'), (1871, 'entrant'), (1872, 'entri'), (1873, 'envestnet'), (1874, 'environ'), (1875, 'environment'), (1876, 'envotech'), (1877, 'enyimbawhi'), (1878, 'ep'), (1879, 'epap'), (1880, 'epicentr'), (1881, 'episod'), (1882, 'equal'), (1883, 'equip'), (1884, 'equipmentglennmoorealtgcom'), (1885, 'equit'), (1886, 'equiti'), (1887, 'equival'), (1888, 'equivocalwhen'), (1889, 'ergotel'), (1890, 'eric'), (1891, 'errant'), (1892, 'error'), (1893, 'erupt'), (1894, 'escal'), (1895, 'escalatori'), (1896, 'escap'), (1897, 'esomar'), (1898, 'especi'), (1899, 'espous'), (1900, 'essenti'), (1901, 'establish'), (1902, 'estat'), (1903, 'estim'), (1904, 'estrang'), (1905, 'et'), (1906, 'etail'), (1907, 'etc'), (1908, 'etf'), (1909, 'ethic'), (1910, 'ethiopia'), (1911, 'ethnic'), (1912, 'etmarket'), (1913, 'etmarketscom'), (1914, 'etprim'), (1915, 'eu'), (1916, 'euler'), (1917, 'eur'), (1918, 'euro'), (1919, 'europ'), (1920, 'europa'), (1921, 'europacif'), (1922, 'european'), (1923, 'europemc'), (1924, 'eurosaround'), (1925, 'eus'), (1926, 'ev'), (1927, 'evacu'), (1928, 'evacue'), (1929, 'evalu'), (1930, 'evangelist'), (1931, 'evas'), (1932, 'even'), (1933, 'event'), (1934, 'eventu'), (1935, 'ever'), (1936, 'everchang'), (1937, 'evercor'), (1938, 'everevolv'), (1939, 'everi'), (1940, 'everyon'), (1941, 'everyth'), (1942, 'everywher'), (1943, 'evid'), (1944, 'evil'), (1945, 'evok'), (1946, 'evolut'), (1947, 'evolv'), (1948, 'evp'), (1949, 'evpann'), (1950, 'evproxann'), (1951, 'evpwilliam'), (1952, 'ewitrad'), (1953, 'exacerb'), (1954, 'exact'), (1955, 'examin'), (1956, 'exampl'), (1957, 'exceed'), (1958, 'excel'), (1959, 'except'), (1960, 'exchang'), (1961, 'exchangetrad'), (1962, 'excit'), (1963, 'exclud'), (1964, 'exclus'), (1965, 'exdividend'), (1966, 'exec'), (1967, 'execut'), (1968, 'exercis'), (1969, 'exert'), (1970, 'exhibit'), (1971, 'exist'), (1972, 'existenti'), (1973, 'exit'), (1974, 'exodus'), (1975, 'exoduspoint'), (1976, 'expand'), (1977, 'expans'), (1978, 'expansionin'), (1979, 'expect'), (1980, 'expedit'), (1981, 'expenditur'), (1982, 'expens'), (1983, 'experi'), (1984, 'experienc'), (1985, 'experiment'), (1986, 'expert'), (1987, 'expertis'), (1988, 'expir'), (1989, 'explain'), (1990, 'explan'), (1991, 'explicit'), (1992, 'explod'), (1993, 'exploit'), (1994, 'explor'), (1995, 'explos'), (1996, 'expo'), (1997, 'export'), (1998, 'expos'), (1999, 'exposur'), (2000, 'express'), (2001, 'extend'), (2002, 'extens'), (2003, 'extent'), (2004, 'extern'), (2005, 'extinct'), (2006, 'extr'), (2007, 'extra'), (2008, 'extrareportsogunmoded'), (2009, 'extravag'), (2010, 'extrem'), (2011, 'exyugoslavia'), (2012, 'eye'), (2013, 'eyebrow'), (2014, 'f'), (2015, 'fabric'), (2016, 'facad'), (2017, 'face'), (2018, 'facebook'), (2019, 'facet'), (2020, 'facetofac'), (2021, 'facial'), (2022, 'facil'), (2023, 'facilit'), (2024, 'facilitysystem'), (2025, 'facsimil'), (2026, 'fact'), (2027, 'facto'), (2028, 'factor'), (2029, 'faculti'), (2030, 'fail'), (2031, 'failur'), (2032, 'fair'), (2033, 'fairfield'), (2034, 'faith'), (2035, 'fall'), (2036, 'fals'), (2037, 'falter'), (2038, 'fama'), (2039, 'fame'), (2040, 'famili'), (2041, 'familiar'), (2042, 'fan'), (2043, 'fansabout'), (2044, 'fanta'), (2045, 'fantast'), (2046, 'faq'), (2047, 'far'), (2048, 'fare'), (2049, 'farflung'), (2050, 'fargo'), (2051, 'farley'), (2052, 'farm'), (2053, 'farmer'), (2054, 'farright'), (2055, 'farto'), (2056, 'farwhat'), (2057, 'fas'), (2058, 'fascist'), (2059, 'fashion'), (2060, 'faso'), (2061, 'fast'), (2062, 'faster'), (2063, 'fastest'), (2064, 'fastgrow'), (2065, 'fastpac'), (2066, 'fatal'), (2067, 'fate'), (2068, 'father'), (2069, 'fattah'), (2070, 'fatteh'), (2071, 'favor'), (2072, 'favorit'), (2073, 'favour'), (2074, 'favourit'), (2075, 'fc'), (2076, 'fda'), (2077, 'fear'), (2078, 'featur'), (2079, 'featureincreas'), (2080, 'februari'), (2081, 'feder'), (2082, 'fee'), (2083, 'feel'), (2084, 'felix'), (2085, 'fell'), (2086, 'fellow'), (2087, 'felt'), (2088, 'femal'), (2089, 'ferguson'), (2090, 'fertilis'), (2091, 'festiv'), (2092, 'fete'), (2093, 'fewer'), (2094, 'fewmilitantroposi'), (2095, 'fgd'), (2096, 'fgds'), (2097, 'fi'), (2098, 'fibrot'), (2099, 'fiction'), (2100, 'fide'), (2101, 'fidel'), (2102, 'fiduciari'), (2103, 'field'), (2104, 'fierc'), (2105, 'fifteen'), (2106, 'fifth'), (2107, 'fifti'), (2108, 'fiftyseven'), (2109, 'fiftytwo'), (2110, 'figaro'), (2111, 'fight'), (2112, 'fighter'), (2113, 'figur'), (2114, 'fii'), (2115, 'file'), (2116, 'filipino'), (2117, 'fill'), (2118, 'film'), (2119, 'filmcoexist'), (2120, 'filmdocumentaryhow'), (2121, 'filmmak'), (2122, 'filter'), (2123, 'filtrat'), (2124, 'fin'), (2125, 'final'), (2126, 'finalis'), (2127, 'finallystocknewscomassum'), (2128, 'finallystocknewscombegan'), (2129, 'finalyear'), (2130, 'financ'), (2131, 'financi'), (2132, 'find'), (2133, 'fine'), (2134, 'finish'), (2135, 'finneran'), (2136, 'fintech'), (2137, 'fire'), (2138, 'firebal'), (2139, 'firebrand'), (2140, 'firefight'), (2141, 'firm'), (2142, 'firn'), (2143, 'first'), (2144, 'fiscal'), (2145, 'fish'), (2146, 'fisher'), (2147, 'fit'), (2148, 'fitzgerald'), (2149, 'five'), (2150, 'fiveyear'), (2151, 'fix'), (2152, 'fixedincom'), (2153, 'fixedterm'), (2154, 'flag'), (2155, 'flagship'), (2156, 'flash'), (2157, 'flat'), (2158, 'flatten'), (2159, 'flavor'), (2160, 'flavour'), (2161, 'flee'), (2162, 'fleet'), (2163, 'fleetguard'), (2164, 'flexibl'), (2165, 'fli'), (2166, 'flood'), (2167, 'floodplainsauthor'), (2168, 'floodprotect'), (2169, 'floor'), (2170, 'floral'), (2171, 'florian'), (2172, 'florida'), (2173, 'flourish'), (2174, 'flow'), (2175, 'floyd'), (2176, 'fluctuat'), (2177, 'fly'), (2178, 'fmcg'), (2179, 'fmi'), (2180, 'focal'), (2181, 'focus'), (2182, 'folashad'), (2183, 'folk'), (2184, 'folklor'), (2185, 'follow'), (2186, 'followup'), (2187, 'food'), (2188, 'foot'), (2189, 'footag'), (2190, 'footbal'), (2191, 'footprint'), (2192, 'forb'), (2193, 'forc'), (2194, 'forecast'), (2195, 'forego'), (2196, 'foreign'), (2197, 'foremost'), (2198, 'forest'), (2199, 'forestal'), (2200, 'foretel'), (2201, 'forev'), (2202, 'forevera'), (2203, 'foreveralkerm'), (2204, 'foreveralset'), (2205, 'forevercheck'), (2206, 'foreverfre'), (2207, 'forevergener'), (2208, 'foreverget'), (2209, 'forevernasdaq'), (2210, 'forevernysedxcopen'), (2211, 'foreverseparatelystocknewscombegan'), (2212, 'foreversever'), (2213, 'forevershar'), (2214, 'foreverth'), (2215, 'foreverthi'), (2216, 'foreverview'), (2217, 'forg'), (2218, 'forget'), (2219, 'forgiv'), (2220, 'form'), (2221, 'formal'), (2222, 'format'), (2223, 'former'), (2224, 'formula'), (2225, 'forrest'), (2226, 'forster'), (2227, 'forth'), (2228, 'forthcom'), (2229, 'forti'), (2230, 'fortun'), (2231, 'forum'), (2232, 'forward'), (2233, 'forwardlook'), (2234, 'forwardthink'), (2235, 'foster'), (2236, 'foundat'), (2237, 'founder'), (2238, 'foundher'), (2239, 'four'), (2240, 'fourpaisa'), (2241, 'fourteen'), (2242, 'fourth'), (2243, 'fourweek'), (2244, 'fox'), (2245, 'fragil'), (2246, 'fragnoli'), (2247, 'frame'), (2248, 'framework'), (2249, 'fran'), (2250, 'franc'), (2251, 'francepress'), (2252, 'franchis'), (2253, 'francisco'), (2254, 'frank'), (2255, 'frankensteinian'), (2256, 'frankfurt'), (2257, 'franzia'), (2258, 'fraudul'), (2259, 'fraught'), (2260, 'free'), (2261, 'freedom'), (2262, 'freez'), (2263, 'freeze'), (2264, 'freight'), (2265, 'french'), (2266, 'frequent'), (2267, 'fresh'), (2268, 'friday'), (2269, 'fridayth'), (2270, 'fridman'), (2271, 'friend'), (2272, 'friendship'), (2273, 'front'), (2274, 'frontend'), (2275, 'frontgat'), (2276, 'frontier'), (2277, 'frost'), (2278, 'frp'), (2279, 'fruit'), (2280, 'fruiti'), (2281, 'frustrat'), (2282, 'ft'), (2283, 'ftx'), (2284, 'fuel'), (2285, 'fuell'), (2286, 'fujian'), (2287, 'fulfil'), (2288, 'full'), (2289, 'fulli'), (2290, 'fullsiz'), (2291, 'fullyear'), (2292, 'fullyfinanc'), (2293, 'fun'), (2294, 'function'), (2295, 'functionari'), (2296, 'fund'), (2297, 'fundament'), (2298, 'funni'), (2299, 'fur'), (2300, 'furi'), (2301, 'furnish'), (2302, 'furnitur'), (2303, 'furniturebalsam'), (2304, 'furniturewayfairup'), (2305, 'furthermor'), (2306, 'furthest'), (2307, 'futur'), (2308, 'fuze'), (2309, 'fx'), (2310, 'fy'), (2311, 'fyfe'), (2312, 'g'), (2313, 'gabelli'), (2314, 'gadget'), (2315, 'gaggar'), (2316, 'gai'), (2317, 'gain'), (2318, 'galapago'), (2319, 'galaxi'), (2320, 'galleri'), (2321, 'gallo'), (2322, 'gallon'), (2323, 'gambl'), (2324, 'gamco'), (2325, 'game'), (2326, 'gammel'), (2327, 'gandhi'), (2328, 'gang'), (2329, 'ganget'), (2330, 'gap'), (2331, 'gari'), (2332, 'garner'), (2333, 'gas'), (2334, 'gase'), (2335, 'gate'), (2336, 'gateway'), (2337, 'gather'), (2338, 'gaug'), (2339, 'gautam'), (2340, 'gaza'), (2341, 'gazabas'), (2342, 'gazan'), (2343, 'gb'), (2344, 'gbs'), (2345, 'gbx'), (2346, 'gcc'), (2347, 'gccs'), (2348, 'gdp'), (2349, 'ge'), (2350, 'geek'), (2351, 'geert'), (2352, 'gen'), (2353, 'gender'), (2354, 'genderbas'), (2355, 'gene'), (2356, 'general'), (2357, 'generat'), (2358, 'generic'), (2359, 'generous'), (2360, 'genet'), (2361, 'geneva'), (2362, 'geni'), (2363, 'genocid'), (2364, 'genuin'), (2365, 'geod'), (2366, 'geograph'), (2367, 'geojit'), (2368, 'geopolit'), (2369, 'georg'), (2370, 'geotre'), (2371, 'german'), (2372, 'germani'), (2373, 'get'), (2374, 'getti'), (2375, 'gettogeth'), (2376, 'gevisit'), (2377, 'gf'), (2378, 'gfvisit'), (2379, 'ghaidah'), (2380, 'ghanchi'), (2381, 'ghost'), (2382, 'gi'), (2383, 'giant'), (2384, 'gic'), (2385, 'gift'), (2386, 'gigsthat'), (2387, 'gii'), (2388, 'gild'), (2389, 'giorgia'), (2390, 'giorgio'), (2391, 'girona'), (2392, 'give'), (2393, 'gladius'), (2394, 'glanc'), (2395, 'glenn'), (2396, 'glide'), (2397, 'global'), (2398, 'globe'), (2399, 'gloom'), (2400, 'gmail'), (2401, 'gmbh'), (2402, 'gmch'), (2403, 'go'), (2404, 'goal'), (2405, 'god'), (2406, 'godwhat'), (2407, 'goe'), (2408, 'goenka'), (2409, 'goita'), (2410, 'goitawroteon'), (2411, 'gold'), (2412, 'goldman'), (2413, 'good'), (2414, 'googl'), (2415, 'gorlova'), (2416, 'goshop'), (2417, 'govern'), (2418, 'governor'), (2419, 'govt'), (2420, 'grab'), (2421, 'graceland'), (2422, 'grade'), (2423, 'gradual'), (2424, 'graduat'), (2425, 'grain'), (2426, 'grammat'), (2427, 'grammi'), (2428, 'grand'), (2429, 'grandfath'), (2430, 'grant'), (2431, 'grape'), (2432, 'graphic'), (2433, 'grappl'), (2434, 'grate'), (2435, 'gratitud'), (2436, 'graviti'), (2437, 'great'), (2438, 'greater'), (2439, 'greed'), (2440, 'green'), (2441, 'greenblatt'), (2442, 'greenhous'), (2443, 'greet'), (2444, 'grid'), (2445, 'grievanc'), (2446, 'grill'), (2447, 'grind'), (2448, 'groceri'), (2449, 'gross'), (2450, 'groundbreak'), (2451, 'group'), (2452, 'grow'), (2453, 'growth'), (2454, 'gruel'), (2455, 'gs'), (2456, 'gsb'), (2457, 'gst'), (2458, 'guarante'), (2459, 'guard'), (2460, 'guardian'), (2461, 'guardrail'), (2462, 'guardvip'), (2463, 'guess'), (2464, 'guest'), (2465, 'guid'), (2466, 'guidanc'), (2467, 'guidelin'), (2468, 'guild'), (2469, 'guillaum'), (2470, 'guilti'), (2471, 'gujarat'), (2472, 'gun'), (2473, 'gunshot'), (2474, 'gupta'), (2475, 'guru'), (2476, 'gust'), (2477, 'gw'), (2478, 'gwk'), (2479, 'h'), (2480, 'habeck'), (2481, 'hadnt'), (2482, 'hafiz'), (2483, 'hagari'), (2484, 'hagu'), (2485, 'hail'), (2486, 'haim'), (2487, 'hair'), (2488, 'half'), (2489, 'halfhour'), (2490, 'halfmil'), (2491, 'halt'), (2492, 'halv'), (2493, 'hama'), (2494, 'hamasrun'), (2495, 'hamass'), (2496, 'hamidwhat'), (2497, 'hamilton'), (2498, 'hammer'), (2499, 'hamoon'), (2500, 'hampshir'), (2501, 'hand'), (2502, 'handl'), (2503, 'hang'), (2504, 'hangzhou'), (2505, 'hank'), (2506, 'hannah'), (2507, 'haokan'), (2508, 'hapaglloyd'), (2509, 'happen'), (2510, 'happenedon'), (2511, 'happenedwer'), (2512, 'happi'), (2513, 'har'), (2514, 'harass'), (2515, 'harbor'), (2516, 'hard'), (2517, 'hardasset'), (2518, 'hardright'), (2519, 'hardship'), (2520, 'harduaganj'), (2521, 'hardwar'), (2522, 'harel'), (2523, 'hargobind'), (2524, 'haridwar'), (2525, 'harm'), (2526, 'harmoni'), (2527, 'harriman'), (2528, 'harsh'), (2529, 'harvansh'), (2530, 'harvest'), (2531, 'harvestman'), (2532, 'haryana'), (2533, 'hasalway'), (2534, 'hashtag'), (2535, 'hasnt'), (2536, 'hast'), (2537, 'hate'), (2538, 'hatr'), (2539, 'hattrick'), (2540, 'haveal'), (2541, 'havel'), (2542, 'hazard'), (2543, 'haze'), (2544, 'hb'), (2545, 'hbo'), (2546, 'hc'), (2547, 'hdfc'), (2548, 'head'), (2549, 'headlin'), (2550, 'headquart'), (2551, 'headwind'), (2552, 'health'), (2553, 'healthcar'), (2554, 'healthi'), (2555, 'heap'), (2556, 'hear'), (2557, 'heart'), (2558, 'heartland'), (2559, 'heat'), (2560, 'heatwav'), (2561, 'heavi'), (2562, 'heavili'), (2563, 'hedg'), (2564, 'heidi'), (2565, 'height'), (2566, 'helicopt'), (2567, 'hell'), (2568, 'help'), (2569, 'hematolog'), (2570, 'henc'), (2571, 'henkel'), (2572, 'henneckecarolin'), (2573, 'herb'), (2574, 'here'), (2575, 'hereaft'), (2576, 'herebi'), (2577, 'herein'), (2578, 'hernandez'), (2579, 'hero'), (2580, 'heroic'), (2581, 'herzog'), (2582, 'hes'), (2583, 'hezbollah'), (2584, 'hgc'), (2585, 'hiatus'), (2586, 'hide'), (2587, 'high'), (2588, 'higher'), (2589, 'highest'), (2590, 'highgrowth'), (2591, 'highhazard'), (2592, 'highimpact'), (2593, 'highincom'), (2594, 'highlevel'), (2595, 'highlight'), (2596, 'highqual'), (2597, 'highreadi'), (2598, 'highspe'), (2599, 'hightech'), (2600, 'hii'), (2601, 'hijack'), (2602, 'hike'), (2603, 'hikma'), (2604, 'hikvis'), (2605, 'hillsav'), (2606, 'himach'), (2607, 'himalaya'), (2608, 'himalayan'), (2609, 'himselfherself'), (2610, 'hinder'), (2611, 'hindumuslim'), (2612, 'hing'), (2613, 'hint'), (2614, 'hire'), (2615, 'hiroshima'), (2616, 'histor'), (2617, 'histori'), (2618, 'hit'), (2619, 'hivetoday'), (2620, 'hoganhow'), (2621, 'hold'), (2622, 'holder'), (2623, 'holdingschannelcomto'), (2624, 'hole'), (2625, 'holiday'), (2626, 'holidaytrunc'), (2627, 'holist'), (2628, 'hollywood'), (2629, 'home'), (2630, 'homegrown'), (2631, 'honey'), (2632, 'honeyeat'), (2633, 'hong'), (2634, 'honor'), (2635, 'honour'), (2636, 'hope'), (2637, 'horrend'), (2638, 'horror'), (2639, 'horrorstarv'), (2640, 'hors'), (2641, 'hospit'), (2642, 'host'), (2643, 'hostag'), (2644, 'hostel'), (2645, 'hostil'), (2646, 'hot'), (2647, 'hotel'), (2648, 'hotseat'), (2649, 'hotspot'), (2650, 'hottest'), (2651, 'hour'), (2652, 'hous'), (2653, 'household'), (2654, 'houston'), (2655, 'houthi'), (2656, 'howel'), (2657, 'howev'), (2658, 'hr'), (2659, 'hrvi'), (2660, 'hsbc'), (2661, 'hsjid'), (2662, 'hub'), (2663, 'huge'), (2664, 'human'), (2665, 'humancaus'), (2666, 'humanitarian'), (2667, 'humanityopenai'), (2668, 'humanrel'), (2669, 'humid'), (2670, 'humor'), (2671, 'humza'), (2672, 'hundr'), (2673, 'hungari'), (2674, 'hungarian'), (2675, 'hunger'), (2676, 'hunt'), (2677, 'hur'), (2678, 'husband'), (2679, 'hybrid'), (2680, 'hydrat'), (2681, 'hydraul'), (2682, 'hygien'), (2683, 'hyperlink'), (2684, 'hypermarket'), (2685, 'hypermarketsconveni'), (2686, 'iacf'), (2687, 'iats'), (2688, 'ibadan'), (2689, 'ibadanrel'), (2690, 'iberia'), (2691, 'ibm'), (2692, 'ibmopen'), (2693, 'ice'), (2694, 'icema'), (2695, 'icici'), (2696, 'icon'), (2697, 'icra'), (2698, 'idea'), (2699, 'ident'), (2700, 'identif'), (2701, 'identifi'), (2702, 'ideolog'), (2703, 'idf'), (2704, 'idfa'), (2705, 'idiosyncrasi'), (2706, 'idl'), (2707, 'idyl'), (2708, 'ie'), (2709, 'ife'), (2710, 'ignit'), (2711, 'ignor'), (2712, 'ii'), (2713, 'iii'), (2714, 'iimeduc'), (2715, 'iip'), (2716, 'iiser'), (2717, 'il'), (2718, 'ile'), (2719, 'illeg'), (2720, 'illiber'), (2721, 'illinoi'), (2722, 'illus'), (2723, 'illustr'), (2724, 'im'), (2725, 'imad'), (2726, 'imag'), (2727, 'imageri'), (2728, 'imbu'), (2729, 'imd'), (2730, 'imdb'), (2731, 'immedi'), (2732, 'immens'), (2733, 'immun'), (2734, 'immunolog'), (2735, 'impact'), (2736, 'impart'), (2737, 'implement'), (2738, 'impli'), (2739, 'implic'), (2740, 'import'), (2741, 'impos'), (2742, 'imposs'), (2743, 'impregn'), (2744, 'impress'), (2745, 'improv'), (2746, 'impun'), (2747, 'inabl'), (2748, 'inappropri'), (2749, 'inaud'), (2750, 'inc'), (2751, 'incalta'), (2752, 'incchristiana'), (2753, 'incent'), (2754, 'inchandigarh'), (2755, 'incid'), (2756, 'includ'), (2757, 'inclus'), (2758, 'incom'), (2759, 'incomplet'), (2760, 'incorpor'), (2761, 'increas'), (2762, 'incred'), (2763, 'incumb'), (2764, 'incur'), (2765, 'indascr'), (2766, 'inde'), (2767, 'indefinit'), (2768, 'independ'), (2769, 'indepth'), (2770, 'index'), (2771, 'india'), (2772, 'indian'), (2773, 'indiana'), (2774, 'indic'), (2775, 'indiffer'), (2776, 'indigen'), (2777, 'indigo'), (2778, 'indira'), (2779, 'indisput'), (2780, 'individu'), (2781, 'indonesia'), (2782, 'indonesian'), (2783, 'indoor'), (2784, 'indulg'), (2785, 'indusgangeticbrahmaputra'), (2786, 'indusind'), (2787, 'industri'), (2788, 'industrialist'), (2789, 'industrylead'), (2790, 'industryprotect'), (2791, 'industrywid'), (2792, 'ined'), (2793, 'inevit'), (2794, 'inferior'), (2795, 'inferno'), (2796, 'inflat'), (2797, 'inflict'), (2798, 'infloodzon'), (2799, 'influenc'), (2800, 'influenti'), (2801, 'info'), (2802, 'inform'), (2803, 'infosi'), (2804, 'infotitanpartnersgrpcom'), (2805, 'infrastructur'), (2806, 'infrastructurecritica'), (2807, 'infus'), (2808, 'inhabit'), (2809, 'inhi'), (2810, 'inhibitor'), (2811, 'initi'), (2812, 'inject'), (2813, 'injur'), (2814, 'injustic'), (2815, 'ink'), (2816, 'inlaw'), (2817, 'inlicens'), (2818, 'inlin'), (2819, 'innat'), (2820, 'innaturewarnseast'), (2821, 'inner'), (2822, 'innoc'), (2823, 'innov'), (2824, 'inperson'), (2825, 'input'), (2826, 'inquiri'), (2827, 'inscrib'), (2828, 'insecur'), (2829, 'insert'), (2830, 'insid'), (2831, 'insight'), (2832, 'insist'), (2833, 'inson'), (2834, 'inspect'), (2835, 'inspector'), (2836, 'inspir'), (2837, 'instagram'), (2838, 'instal'), (2839, 'instanc'), (2840, 'instc'), (2841, 'instead'), (2842, 'instil'), (2843, 'instinct'), (2844, 'institut'), (2845, 'instor'), (2846, 'instruct'), (2847, 'instrument'), (2848, 'insuffici'), (2849, 'insur'), (2850, 'insurg'), (2851, 'integr'), (2852, 'integrationth'), (2853, 'intellig'), (2854, 'intend'), (2855, 'intens'), (2856, 'intensifi'), (2857, 'intent'), (2858, 'interact'), (2859, 'intercept'), (2860, 'interconnect'), (2861, 'interest'), (2862, 'interfer'), (2863, 'interim'), (2864, 'interior'), (2865, 'intermedi'), (2866, 'intermod'), (2867, 'intern'), (2868, 'internet'), (2869, 'interplay'), (2870, 'interrog'), (2871, 'intersect'), (2872, 'interven'), (2873, 'interview'), (2874, 'intim'), (2875, 'intimaci'), (2876, 'intric'), (2877, 'introduc'), (2878, 'introduct'), (2879, 'intrus'), (2880, 'invad'), (2881, 'invalu'), (2882, 'invas'), (2883, 'inventori'), (2884, 'invest'), (2885, 'investig'), (2886, 'investmentgrad'), (2887, 'investor'), (2888, 'investorskevin'), (2889, 'invit'), (2890, 'inviteon'), (2891, 'involv'), (2892, 'io'), (2893, 'iot'), (2894, 'ipad'), (2895, 'ipcc'), (2896, 'ipg'), (2897, 'iphon'), (2898, 'iqiyi'), (2899, 'ir'), (2900, 'iran'), (2901, 'iranback'), (2902, 'iranian'), (2903, 'iranianback'), (2904, 'ireland'), (2905, 'iron'), (2906, 'irtextainercom'), (2907, 'isaac'), (2908, 'isb'), (2909, 'ishar'), (2910, 'isi'), (2911, 'islam'), (2912, 'islamist'), (2913, 'island'), (2914, 'ismail'), (2915, 'isnt'), (2916, 'isol'), (2917, 'ison'), (2918, 'isra'), (2919, 'israel'), (2920, 'israelgaza'), (2921, 'israelhama'), (2922, 'israelipalestinian'), (2923, 'israelit'), (2924, 'issu'), (2925, 'issuanc'), (2926, 'issueth'), (2927, 'ist'), (2928, 'itai'), (2929, 'itali'), (2930, 'italian'), (2931, 'item'), (2932, 'itemsarticleup'), (2933, 'itrel'), (2934, 'itscrisp'), (2935, 'itseco'), (2936, 'itslinen'), (2937, 'iv'), (2938, 'ive'), (2939, 'ix'), (2940, 'izh'), (2941, 'j'), (2942, 'jabalia'), (2943, 'jack'), (2944, 'jacket'), (2945, 'jail'), (2946, 'jaipur'), (2947, 'jam'), (2948, 'jamal'), (2949, 'jame'), (2950, 'jammu'), (2951, 'jane'), (2952, 'januari'), (2953, 'japan'), (2954, 'jason'), (2955, 'jazeera'), (2956, 'jeddah'), (2957, 'jefferi'), (2958, 'jen'), (2959, 'jerri'), (2960, 'jerusalem'), (2961, 'jess'), (2962, 'jessica'), (2963, 'jew'), (2964, 'jewish'), (2965, 'jhangiani'), (2966, 'jiangnan'), (2967, 'jibe'), (2968, 'jihad'), (2969, 'jihadist'), (2970, 'jimni'), (2971, 'jinp'), (2972, 'joao'), (2973, 'job'), (2974, 'joe'), (2975, 'johannesburg'), (2976, 'john'), (2977, 'johnni'), (2978, 'johnson'), (2979, 'join'), (2980, 'joint'), (2981, 'joke'), (2982, 'jolt'), (2983, 'jonathan'), (2984, 'jone'), (2985, 'jordan'), (2986, 'jordanian'), (2987, 'jos'), (2988, 'joseph'), (2989, 'joshimath'), (2990, 'joshsjsprco'), (2991, 'joss'), (2992, 'journalist'), (2993, 'journey'), (2994, 'joy'), (2995, 'jpmorgan'), (2996, 'jr'), (2997, 'jrsold'), (2998, 'jse'), (2999, 'jsw'), (3000, 'jubil'), (3001, 'judg'), (3002, 'judgment'), (3003, 'judith'), (3004, 'juli'), (3005, 'julia'), (3006, 'juliett'), (3007, 'julius'), (3008, 'jumpstyl'), (3009, 'jun'), (3010, 'junaid'), (3011, 'june'), (3012, 'juneteenth'), (3013, 'jungl'), (3014, 'juri'), (3015, 'jurisdict'), (3016, 'juro'), (3017, 'juror'), (3018, 'juspay'), (3019, 'justifi'), (3020, 'juvenil'), (3021, 'k'), (3022, 'kacey'), (3023, 'kamsarmax'), (3024, 'kane'), (3025, 'kang'), (3026, 'kano'), (3027, 'kate'), (3028, 'kathi'), (3029, 'kathmandu'), (3030, 'kauna'), (3031, 'kazakhstan'), (3032, 'kbw'), (3033, 'kcr'), (3034, 'keep'), (3035, 'keir'), (3036, 'kellogg'), (3037, 'kempton'), (3038, 'kentucki'), (3039, 'kernel'), (3040, 'keurig'), (3041, 'keurigamazon'), (3042, 'kevorkian'), (3043, 'kevorkiansold'), (3044, 'key'), (3045, 'keycorp'), (3046, 'kg'), (3047, 'kgaa'), (3048, 'kgaapublish'), (3049, 'khaitan'), (3050, 'khan'), (3051, 'kharg'), (3052, 'khepupara'), (3053, 'khouri'), (3054, 'kiah'), (3055, 'kibbutz'), (3056, 'kick'), (3057, 'kickoff'), (3058, 'kickstart'), (3059, 'kidal'), (3060, 'kidnap'), (3061, 'kill'), (3062, 'kilomet'), (3063, 'kiloton'), (3064, 'kind'), (3065, 'king'), (3066, 'kingdom'), (3067, 'kirya'), (3068, 'kiss'), (3069, 'kit'), (3070, 'kitchen'), (3071, 'kitchenaid'), (3072, 'kiwi'), (3073, 'klockworx'), (3074, 'km'), (3075, 'kmhr'), (3076, 'knobel'), (3077, 'knockout'), (3078, 'know'), (3079, 'knowb'), (3080, 'knowledg'), (3081, 'knowledgebas'), (3082, 'knowledgeshar'), (3083, 'kokotajlo'), (3084, 'kolkata'), (3085, 'kong'), (3086, 'kool'), (3087, 'korchia'), (3088, 'korea'), (3089, 'korsia'), (3090, 'kovoor'), (3091, 'kremlin'), (3092, 'ktu'), (3093, 'kwara'), (3094, 'kyrgyzstan'), (3095, 'l'), (3096, 'la'), (3097, 'lab'), (3098, 'labattoir'), (3099, 'label'), (3100, 'labor'), (3101, 'labour'), (3102, 'labro'), (3103, 'lack'), (3104, 'lade'), (3105, 'ladi'), (3106, 'laganosold'), (3107, 'laggard'), (3108, 'lago'), (3109, 'lainey'), (3110, 'lake'), (3111, 'lakh'), (3112, 'lament'), (3113, 'lana'), (3114, 'lancast'), (3115, 'land'), (3116, 'landfal'), (3117, 'landscap'), (3118, 'lane'), (3119, 'languag'), (3120, 'lanka'), (3121, 'lap'), (3122, 'laptop'), (3123, 'larg'), (3124, 'larger'), (3125, 'largescal'), (3126, 'largest'), (3127, 'larri'), (3128, 'las'), (3129, 'lash'), (3130, 'last'), (3131, 'latch'), (3132, 'late'), (3133, 'latenc'), (3134, 'later'), (3135, 'latest'), (3136, 'latin'), (3137, 'latter'), (3138, 'laugh'), (3139, 'launch'), (3140, 'lauren'), (3141, 'law'), (3142, 'lawless'), (3143, 'lawmak'), (3144, 'lawsaccord'), (3145, 'lawyer'), (3146, 'lax'), (3147, 'lay'), (3148, 'layout'), (3149, 'lazard'), (3150, 'le'), (3151, 'leach'), (3152, 'lead'), (3153, 'leader'), (3154, 'leadership'), (3155, 'leagu'), (3156, 'leah'), (3157, 'leak'), (3158, 'lean'), (3159, 'learn'), (3160, 'leas'), (3161, 'least'), (3162, 'leav'), (3163, 'leave'), (3164, 'lebanon'), (3165, 'lectur'), (3166, 'lecun'), (3167, 'leech'), (3168, 'leed'), (3169, 'leesa'), (3170, 'leftw'), (3171, 'leg'), (3172, 'legal'), (3173, 'legend'), (3174, 'legisl'), (3175, 'legitim'), (3176, 'legitimaci'), (3177, 'leigh'), (3178, 'leisur'), (3179, 'len'), (3180, 'lend'), (3181, 'length'), (3182, 'leonidasromano'), (3183, 'less'), (3184, 'lesse'), (3185, 'lessen'), (3186, 'lesser'), (3187, 'lesson'), (3188, 'lessor'), (3189, 'let'), (3190, 'letter'), (3191, 'lettertoamerica'), (3192, 'leukemia'), (3193, 'level'), (3194, 'leveldu'), (3195, 'leverag'), (3196, 'levi'), (3197, 'lex'), (3198, 'liabil'), (3199, 'liaon'), (3200, 'liber'), (3201, 'libya'), (3202, 'lic'), (3203, 'licens'), (3204, 'lid'), (3205, 'lido'), (3206, 'lie'), (3207, 'lieberman'), (3208, 'lieu'), (3209, 'lieutenantgener'), (3210, 'life'), (3211, 'lifealt'), (3212, 'lifelong'), (3213, 'lifethreaten'), (3214, 'lifetim'), (3215, 'lifewhat'), (3216, 'lift'), (3217, 'liga'), (3218, 'light'), (3219, 'lightweight'), (3220, 'like'), (3221, 'lili'), (3222, 'limit'), (3223, 'linchpin'), (3224, 'lincoln'), (3225, 'linda'), (3226, 'line'), (3227, 'linear'), (3228, 'linen'), (3229, 'lineup'), (3230, 'link'), (3231, 'linkedin'), (3232, 'linktargettak'), (3233, 'lionsgat'), (3234, 'lip'), (3235, 'liquid'), (3236, 'list'), (3237, 'listen'), (3238, 'liter'), (3239, 'lithuania'), (3240, 'litig'), (3241, 'litr'), (3242, 'littl'), (3243, 'live'), (3244, 'livedin'), (3245, 'livelihood'), (3246, 'livestock'), (3247, 'livon'), (3248, 'livonia'), (3249, 'llc'), (3250, 'llckevinscrircom'), (3251, 'llcs'), (3252, 'load'), (3253, 'loan'), (3254, 'lobi'), (3255, 'local'), (3256, 'locat'), (3257, 'lock'), (3258, 'lockdown'), (3259, 'locker'), (3260, 'locki'), (3261, 'lodg'), (3262, 'log'), (3263, 'logic'), (3264, 'logist'), (3265, 'loglin'), (3266, 'london'), (3267, 'londonnow'), (3268, 'londripget'), (3269, 'long'), (3270, 'longbeak'), (3271, 'longer'), (3272, 'longerterm'), (3273, 'longform'), (3274, 'longrang'), (3275, 'longterm'), (3276, 'longtim'), (3277, 'look'), (3278, 'loom'), (3279, 'loop'), (3280, 'loophol'), (3281, 'lord'), (3282, 'los'), (3283, 'lose'), (3284, 'loss'), (3285, 'lossfor'), (3286, 'lot'), (3287, 'lotteri'), (3288, 'loud'), (3289, 'louder'), (3290, 'louisdreyfus'), (3291, 'love'), (3292, 'low'), (3293, 'lowdown'), (3294, 'lower'), (3295, 'lowest'), (3296, 'lowincom'), (3297, 'loyalti'), (3298, 'lp'), (3299, 'lps'), (3300, 'ltd'), (3301, 'ltds'), (3302, 'lube'), (3303, 'luck'), (3304, 'lunch'), (3305, 'lung'), (3306, 'lurch'), (3307, 'luther'), (3308, 'lux'), (3309, 'luxembourg'), (3310, 'luxuri'), (3311, 'lynn'), (3312, 'machi'), (3313, 'machin'), (3314, 'machina'), (3315, 'maci'), (3316, 'mackenzi'), (3317, 'macro'), (3318, 'macroeconom'), (3319, 'macron'), (3320, 'madden'), (3321, 'madefor'), (3322, 'madeth'), (3323, 'madri'), (3324, 'madrid'), (3325, 'maersk'), (3326, 'magazin'), (3327, 'magic'), (3328, 'magnesium'), (3329, 'magnific'), (3330, 'magnitud'), (3331, 'magumbgoau'), (3332, 'mahadev'), (3333, 'mahajanrrfaorg'), (3334, 'mahatma'), (3335, 'mahindra'), (3336, 'mahmoud'), (3337, 'maiden'), (3338, 'mail'), (3339, 'maillard'), (3340, 'main'), (3341, 'mainstream'), (3342, 'maintain'), (3343, 'mainten'), (3344, 'mainz'), (3345, 'mainzbiomedcominvestor'), (3346, 'mainzbiomedmcserviceseu'), (3347, 'major'), (3348, 'make'), (3349, 'maker'), (3350, 'makeup'), (3351, 'maksym'), (3352, 'malfunct'), (3353, 'mali'), (3354, 'malian'), (3355, 'mallikarjun'), (3356, 'malnutrit'), (3357, 'malon'), (3358, 'malwareload'), (3359, 'mammal'), (3360, 'man'), (3361, 'manag'), (3362, 'manchest'), (3363, 'mandat'), (3364, 'mandbudhi'), (3365, 'manhattan'), (3366, 'mani'), (3367, 'manipul'), (3368, 'mann'), (3369, 'manner'), (3370, 'manpow'), (3371, 'mantra'), (3372, 'manufactur'), (3373, 'mapswhil'), (3374, 'march'), (3375, 'marciano'), (3376, 'margin'), (3377, 'marico'), (3378, 'maritim'), (3379, 'mark'), (3380, 'markdown'), (3381, 'market'), (3382, 'marketbeat'), (3383, 'marketbeatcom'), (3384, 'marketfocus'), (3385, 'marketi'), (3386, 'marketplac'), (3387, 'marketreadi'), (3388, 'marketthi'), (3389, 'marketvalueweight'), (3390, 'martin'), (3391, 'martina'), (3392, 'maruti'), (3393, 'mas'), (3394, 'mass'), (3395, 'massachusett'), (3396, 'massacr'), (3397, 'massiv'), (3398, 'master'), (3399, 'match'), (3400, 'matchday'), (3401, 'materi'), (3402, 'materiallyboth'), (3403, 'mathemat'), (3404, 'matheson'), (3405, 'matrix'), (3406, 'matt'), (3407, 'matter'), (3408, 'mattress'), (3409, 'mattressi'), (3410, 'matur'), (3411, 'max'), (3412, 'maximis'), (3413, 'maximum'), (3414, 'may'), (3415, 'maya'), (3416, 'mayb'), (3417, 'mayor'), (3418, 'mayott'), (3419, 'mba'), (3420, 'mcbride'), (3421, 'md'), (3422, 'mdas'), (3423, 'mdasmusa'), (3424, 'mdceo'), (3425, 'mds'), (3426, 'mean'), (3427, 'meantim'), (3428, 'meanwhil'), (3429, 'measl'), (3430, 'measur'), (3431, 'meat'), (3432, 'mechan'), (3433, 'media'), (3434, 'mediaglenn'), (3435, 'mediat'), (3436, 'medic'), (3437, 'medicin'), (3438, 'medium'), (3439, 'meet'), (3440, 'megatrend'), (3441, 'mehrotrasold'), (3442, 'melissa'), (3443, 'mellow'), (3444, 'meloni'), (3445, 'member'), (3446, 'membership'), (3447, 'memor'), (3448, 'memorandum'), (3449, 'memori'), (3450, 'men'), (3451, 'menon'), (3452, 'mental'), (3453, 'mention'), (3454, 'mentorship'), (3455, 'menu'), (3456, 'mercedesbenz'), (3457, 'mercer'), (3458, 'merchandis'), (3459, 'mere'), (3460, 'merg'), (3461, 'merger'), (3462, 'merit'), (3463, 'merlot'), (3464, 'messag'), (3465, 'meta'), (3466, 'meteorolog'), (3467, 'meter'), (3468, 'methodolog'), (3469, 'meticul'), (3470, 'metlif'), (3471, 'metric'), (3472, 'metropolitan'), (3473, 'mexican'), (3474, 'mexico'), (3475, 'meyercordsold'), (3476, 'mg'), (3477, 'mhl'), (3478, 'mi'), (3479, 'miami'), (3480, 'mich'), (3481, 'michael'), (3482, 'michell'), (3483, 'michigan'), (3484, 'micken'), (3485, 'mickey'), (3486, 'microblog'), (3487, 'microcuff'), (3488, 'micron'), (3489, 'mid'), (3490, 'midcap'), (3491, 'midday'), (3492, 'middl'), (3493, 'midmay'), (3494, 'midseptemb'), (3495, 'midstream'), (3496, 'midterm'), (3497, 'might'), (3498, 'migrant'), (3499, 'migrat'), (3500, 'mikati'), (3501, 'mike'), (3502, 'milan'), (3503, 'milder'), (3504, 'mildew'), (3505, 'mile'), (3506, 'mileston'), (3507, 'milit'), (3508, 'militantropo'), (3509, 'militari'), (3510, 'militia'), (3511, 'million'), (3512, 'millionworth'), (3513, 'miltantroposinvit'), (3514, 'milwauke'), (3515, 'min'), (3516, 'mind'), (3517, 'mindless'), (3518, 'mindset'), (3519, 'mine'), (3520, 'miner'), (3521, 'minesweep'), (3522, 'mini'), (3523, 'miniciso'), (3524, 'minim'), (3525, 'minimum'), (3526, 'miniseri'), (3527, 'minist'), (3528, 'ministerth'), (3529, 'ministri'), (3530, 'minor'), (3531, 'minus'), (3532, 'minusma'), (3533, 'minut'), (3534, 'miseri'), (3535, 'misfir'), (3536, 'misgiv'), (3537, 'misinform'), (3538, 'misl'), (3539, 'mismanag'), (3540, 'miss'), (3541, 'missil'), (3542, 'mission'), (3543, 'mistak'), (3544, 'mit'), (3545, 'mitch'), (3546, 'mitig'), (3547, 'mitra'), (3548, 'mix'), (3549, 'mizo'), (3550, 'mizuho'), (3551, 'mkt'), (3552, 'mm'), (3553, 'mobil'), (3554, 'model'), (3555, 'moder'), (3556, 'modern'), (3557, 'modi'), (3558, 'modifi'), (3559, 'modul'), (3560, 'mogul'), (3561, 'moham'), (3562, 'mohan'), (3563, 'moistur'), (3564, 'molecular'), (3565, 'moleculargenet'), (3566, 'moment'), (3567, 'momentum'), (3568, 'monday'), (3569, 'mondaynovemb'), (3570, 'moneta'), (3571, 'monetari'), (3572, 'monetis'), (3573, 'monetiz'), (3574, 'money'), (3575, 'monik'), (3576, 'monitor'), (3577, 'monograph'), (3578, 'monotrem'), (3579, 'monster'), (3580, 'month'), (3581, 'montreal'), (3582, 'mood'), (3583, 'moor'), (3584, 'moorealta'), (3585, 'moral'), (3586, 'moratorium'), (3587, 'moreov'), (3588, 'moreth'), (3589, 'morewayfairup'), (3590, 'morfydd'), (3591, 'morgan'), (3592, 'morissett'), (3593, 'morn'), (3594, 'morningbaystreetcareport'), (3595, 'morningbenzingareport'), (3596, 'morocco'), (3597, 'mortar'), (3598, 'moscow'), (3599, 'mosqu'), (3600, 'mosscov'), (3601, 'most'), (3602, 'mother'), (3603, 'motion'), (3604, 'motiv'), (3605, 'motor'), (3606, 'motown'), (3607, 'moulinsbeaufort'), (3608, 'mount'), (3609, 'mountain'), (3610, 'mousdikoudin'), (3611, 'mouth'), (3612, 'move'), (3613, 'movement'), (3614, 'movi'), (3615, 'movistar'), (3616, 'mozgovyi'), (3617, 'mp'), (3618, 'mr'), (3619, 'mro'), (3620, 'ms'), (3621, 'msci'), (3622, 'mscis'), (3623, 'msps'), (3624, 'mu'), (3625, 'much'), (3626, 'mug'), (3627, 'muhammad'), (3628, 'multicamera'), (3629, 'multidimension'), (3630, 'multiemploy'), (3631, 'multifacet'), (3632, 'multifactor'), (3633, 'multifamili'), (3634, 'multimod'), (3635, 'multin'), (3636, 'multipack'), (3637, 'multipart'), (3638, 'multipl'), (3639, 'multiplex'), (3640, 'multitrack'), (3641, 'multitud'), (3642, 'multiyear'), (3643, 'mumbai'), (3644, 'mundi'), (3645, 'mundo'), (3646, 'mungw'), (3647, 'municip'), (3648, 'murder'), (3649, 'musa'), (3650, 'museum'), (3651, 'musgrav'), (3652, 'music'), (3653, 'musician'), (3654, 'musk'), (3655, 'muskinflam'), (3656, 'muslim'), (3657, 'mussolini'), (3658, 'must'), (3659, 'mustb'), (3660, 'mutual'), (3661, 'muvisit'), (3662, 'myecfo'), (3663, 'myeloid'), (3664, 'myeloma'), (3665, 'mynetworktv'), (3666, 'mynz'), (3667, 'myth'), (3668, 'n'), (3669, 'nada'), (3670, 'naf'), (3671, 'naic'), (3672, 'nair'), (3673, 'naiv'), (3674, 'najeeb'), (3675, 'najib'), (3676, 'nakonechnyi'), (3677, 'name'), (3678, 'namma'), (3679, 'nandini'), (3680, 'narendra'), (3681, 'narrat'), (3682, 'narrow'), (3683, 'narrowli'), (3684, 'nartd'), (3685, 'nasa'), (3686, 'nascent'), (3687, 'nasdaq'), (3688, 'nasdaqaeiget'), (3689, 'nasdaqalksfre'), (3690, 'nasdaqalksget'), (3691, 'nasdaqbidufre'), (3692, 'nasdaqbndfre'), (3693, 'nasdaqcsgpfre'), (3694, 'nasdaqcsgpget'), (3695, 'nasdaqextrfre'), (3696, 'nasdaqmufre'), (3697, 'nasdaqmuget'), (3698, 'nasdaqrdifre'), (3699, 'nasdaqsptnget'), (3700, 'nasdaqstrtget'), (3701, 'nasdaqtourfre'), (3702, 'nasdaqtourget'), (3703, 'nasdaqtouropen'), (3704, 'nasdaqwwacfre'), (3705, 'nashad'), (3706, 'nashvill'), (3707, 'nation'), (3708, 'nationalist'), (3709, 'nationallevel'), (3710, 'natixi'), (3711, 'nato'), (3712, 'natur'), (3713, 'natura'), (3714, 'naturalist'), (3715, 'naturedr'), (3716, 'naval'), (3717, 'navi'), (3718, 'navig'), (3719, 'nawaz'), (3720, 'nazi'), (3721, 'nba'), (3722, 'nbc'), (3723, 'nbcunivers'), (3724, 'ncr'), (3725, 'ncs'), (3726, 'nd'), (3727, 'nda'), (3728, 'near'), (3729, 'nearbi'), (3730, 'necessari'), (3731, 'necessarili'), (3732, 'nectar'), (3733, 'need'), (3734, 'negat'), (3735, 'negoti'), (3736, 'neighbor'), (3737, 'neighbour'), (3738, 'neither'), (3739, 'nemour'), (3740, 'nemourss'), (3741, 'neom'), (3742, 'neonat'), (3743, 'neonazi'), (3744, 'nepal'), (3745, 'nerv'), (3746, 'nestl'), (3747, 'net'), (3748, 'netanyahu'), (3749, 'netflix'), (3750, 'netherland'), (3751, 'network'), (3752, 'networkdens'), (3753, 'netzero'), (3754, 'neumann'), (3755, 'neurolog'), (3756, 'neurosci'), (3757, 'neutral'), (3758, 'nevada'), (3759, 'never'), (3760, 'nevertheless'), (3761, 'new'), (3762, 'newark'), (3763, 'newcastlemax'), (3764, 'newer'), (3765, 'newli'), (3766, 'news'), (3767, 'newsfilmmak'), (3768, 'newsgovernorship'), (3769, 'newspap'), (3770, 'newsroomalliancenewscom'), (3771, 'newsscott'), (3772, 'newsweek'), (3773, 'newswir'), (3774, 'next'), (3775, 'nfc'), (3776, 'nichola'), (3777, 'nicolaus'), (3778, 'nielseniq'), (3779, 'nifti'), (3780, 'niger'), (3781, 'nigeria'), (3782, 'nigerian'), (3783, 'night'), (3784, 'nik'), (3785, 'nikkei'), (3786, 'nile'), (3787, 'nimbl'), (3788, 'nine'), (3789, 'nineham'), (3790, 'nineteen'), (3791, 'nineti'), (3792, 'nineyear'), (3793, 'ninja'), (3794, 'nino'), (3795, 'ninth'), (3796, 'nitrogen'), (3797, 'noa'), (3798, 'noam'), (3799, 'nobodi'), (3800, 'nocturn'), (3801, 'nois'), (3802, 'nomin'), (3803, 'non'), (3804, 'nonautomot'), (3805, 'noncompli'), (3806, 'noncov'), (3807, 'noncredit'), (3808, 'noncsd'), (3809, 'nondiscrimin'), (3810, 'none'), (3811, 'nonhuman'), (3812, 'noninvas'), (3813, 'nonlif'), (3814, 'nonnat'), (3815, 'nonpay'), (3816, 'nonprofit'), (3817, 'nonprolifer'), (3818, 'nonvolatil'), (3819, 'noodl'), (3820, 'norg'), (3821, 'norm'), (3822, 'normal'), (3823, 'north'), (3824, 'northeast'), (3825, 'northern'), (3826, 'northnorthwest'), (3827, 'northsouth'), (3828, 'northwest'), (3829, 'northwestern'), (3830, 'nose'), (3831, 'nostalgia'), (3832, 'notabl'), (3833, 'notat'), (3834, 'note'), (3835, 'noth'), (3836, 'notic'), (3837, 'notif'), (3838, 'notifi'), (3839, 'notsosubtl'), (3840, 'nou'), (3841, 'nov'), (3842, 'novel'), (3843, 'novemb'), (3844, 'nox'), (3845, 'np'), (3846, 'npfl'), (3847, 'nps'), (3848, 'nsc'), (3849, 'nscdcrelat'), (3850, 'nse'), (3851, 'ntpc'), (3852, 'nuclear'), (3853, 'nucleartestban'), (3854, 'nude'), (3855, 'nuditi'), (3856, 'nuditysimul'), (3857, 'nukemap'), (3858, 'number'), (3859, 'numer'), (3860, 'nurs'), (3861, 'nurtur'), (3862, 'nv'), (3863, 'nvaf'), (3864, 'nvmainz'), (3865, 'nw'), (3866, 'ny'), (3867, 'nyse'), (3868, 'nyseaflfre'), (3869, 'nyseaflget'), (3870, 'nysearca'), (3871, 'nysearcaewifre'), (3872, 'nysearcakieget'), (3873, 'nysearcavdefre'), (3874, 'nyseatmuget'), (3875, 'nyseavnsget'), (3876, 'nyseavnsopen'), (3877, 'nysebmyfre'), (3878, 'nysebmyget'), (3879, 'nysebmyopen'), (3880, 'nysebxpfre'), (3881, 'nyseddfre'), (3882, 'nyseddget'), (3883, 'nysedsxget'), (3884, 'nysedxcget'), (3885, 'nysegefre'), (3886, 'nysegeget'), (3887, 'nysegffre'), (3888, 'nysegsfre'), (3889, 'nysegsget'), (3890, 'nysegsopen'), (3891, 'nyseibmfre'), (3892, 'nyseibmget'), (3893, 'nyseztsfre'), (3894, 'oak'), (3895, 'oat'), (3896, 'oath'), (3897, 'oau'), (3898, 'obafemi'), (3899, 'obamaera'), (3900, 'obc'), (3901, 'obiekw'), (3902, 'obioma'), (3903, 'object'), (3904, 'objection'), (3905, 'objector'), (3906, 'oblig'), (3907, 'obrien'), (3908, 'observ'), (3909, 'obstacl'), (3910, 'obtain'), (3911, 'obviat'), (3912, 'obvious'), (3913, 'occas'), (3914, 'occupi'), (3915, 'occur'), (3916, 'occurr'), (3917, 'ocean'), (3918, 'octob'), (3919, 'octoberhi'), (3920, 'odd'), (3921, 'odeon'), (3922, 'odisha'), (3923, 'ofalkerm'), (3924, 'ofalset'), (3925, 'ofapunopen'), (3926, 'ofbxpopen'), (3927, 'ofdonald'), (3928, 'offbook'), (3929, 'offend'), (3930, 'offens'), (3931, 'offer'), (3932, 'offhighway'), (3933, 'offhir'), (3934, 'offic'), (3935, 'offici'), (3936, 'offramp'), (3937, 'offset'), (3938, 'offswitch'), (3939, 'ofmilitantropo'), (3940, 'ofnuclear'), (3941, 'ofnys'), (3942, 'ofnysearca'), (3943, 'often'), (3944, 'ofth'), (3945, 'oftuniu'), (3946, 'ofturbul'), (3947, 'ofwwac'), (3948, 'ogunmoded'), (3949, 'ogunnscdc'), (3950, 'ohio'), (3951, 'oil'), (3952, 'oiv'), (3953, 'okonkwo'), (3954, 'okp'), (3955, 'old'), (3956, 'older'), (3957, 'olymp'), (3958, 'om'), (3959, 'oman'), (3960, 'omar'), (3961, 'omtzigt'), (3962, 'onaft'), (3963, 'onblueskythreadsmastodonspout'), (3964, 'oncamera'), (3965, 'oncolog'), (3966, 'ondc'), (3967, 'ondemand'), (3968, 'one'), (3969, 'oneday'), (3970, 'onehalf'), (3971, 'onehour'), (3972, 'onestopshop'), (3973, 'onethird'), (3974, 'ongo'), (3975, 'onhighway'), (3976, 'onlin'), (3977, 'ontario'), (3978, 'onto'), (3979, 'onward'), (3980, 'opd'), (3981, 'opdivo'), (3982, 'open'), (3983, 'openai'), (3984, 'opensourc'), (3985, 'oper'), (3986, 'operation'), (3987, 'opinion'), (3988, 'opioid'), (3989, 'oppenheim'), (3990, 'opportun'), (3991, 'oppos'), (3992, 'opposit'), (3993, 'opt'), (3994, 'optim'), (3995, 'optimis'), (3996, 'option'), (3997, 'opul'), (3998, 'oracl'), (3999, 'oral'), (4000, 'orban'), (4001, 'orbcomm'), (4002, 'orclick'), (4003, 'order'), (4004, 'ordin'), (4005, 'ordinari'), (4006, 'ore'), (4007, 'orencia'), (4008, 'organ'), (4009, 'organis'), (4010, 'organiz'), (4011, 'organizationth'), (4012, 'orient'), (4013, 'origin'), (4014, 'orion'), (4015, 'orthodox'), (4016, 'os'), (4017, 'osama'), (4018, 'osarenkho'), (4019, 'osun'), (4020, 'otcmktshkmpyget'), (4021, 'other'), (4022, 'othersi'), (4023, 'othersno'), (4024, 'othersyearold'), (4025, 'otherwis'), (4026, 'otr'), (4027, 'ourparachut'), (4028, 'ourupcom'), (4029, 'outbreak'), (4030, 'outburst'), (4031, 'outclass'), (4032, 'outcom'), (4033, 'outcri'), (4034, 'outdat'), (4035, 'outdoor'), (4036, 'outfit'), (4037, 'outfox'), (4038, 'outgo'), (4039, 'outlet'), (4040, 'outlook'), (4041, 'outofd'), (4042, 'outpac'), (4043, 'outperform'), (4044, 'outpost'), (4045, 'output'), (4046, 'outrag'), (4047, 'outsid'), (4048, 'outsidedo'), (4049, 'outstand'), (4050, 'overal'), (4051, 'overcom'), (4052, 'overfli'), (4053, 'overhaul'), (4054, 'overhaulmro'), (4055, 'overhead'), (4056, 'overland'), (4057, 'overlook'), (4058, 'overnight'), (4059, 'overproduct'), (4060, 'overrid'), (4061, 'overse'), (4062, 'overtake'), (4063, 'overtim'), (4064, 'overview'), (4065, 'overweight'), (4066, 'overwhelm'), (4067, 'owe'), (4068, 'own'), (4069, 'owner'), (4070, 'ownerelon'), (4071, 'ownership'), (4072, 'oxford'), (4073, 'oxid'), (4074, 'oyo'), (4075, 'p'), (4076, 'pa'), (4077, 'pace'), (4078, 'pacif'), (4079, 'pack'), (4080, 'packag'), (4081, 'packagingbeverag'), (4082, 'packagingris'), (4083, 'page'), (4084, 'pain'), (4085, 'paint'), (4086, 'pair'), (4087, 'paisa'), (4088, 'pakistan'), (4089, 'palac'), (4090, 'palestin'), (4091, 'palestinian'), (4092, 'palestinianamerican'), (4093, 'pallet'), (4094, 'palm'), (4095, 'panagora'), (4096, 'panamax'), (4097, 'panauti'), (4098, 'pancalert'), (4099, 'pancreat'), (4100, 'pandem'), (4101, 'panel'), (4102, 'paneuropean'), (4103, 'panindia'), (4104, 'panipat'), (4105, 'panjab'), (4106, 'paper'), (4107, 'paperwork'), (4108, 'papua'), (4109, 'par'), (4110, 'parabol'), (4111, 'parachut'), (4112, 'parad'), (4113, 'paradip'), (4114, 'paradox'), (4115, 'parallel'), (4116, 'paramet'), (4117, 'paramount'), (4118, 'parent'), (4119, 'pari'), (4120, 'pariba'), (4121, 'parisien'), (4122, 'park'), (4123, 'parliament'), (4124, 'parliamentari'), (4125, 'parodi'), (4126, 'part'), (4127, 'parti'), (4128, 'partial'), (4129, 'particip'), (4130, 'particul'), (4131, 'particular'), (4132, 'partner'), (4133, 'partnership'), (4134, 'pas'), (4135, 'pass'), (4136, 'passag'), (4137, 'passiv'), (4138, 'passkey'), (4139, 'password'), (4140, 'passwordless'), (4141, 'past'), (4142, 'patch'), (4143, 'path'), (4144, 'pathak'), (4145, 'patholog'), (4146, 'pathway'), (4147, 'patienc'), (4148, 'patient'), (4149, 'patricia'), (4150, 'pattern'), (4151, 'patterson'), (4152, 'paus'), (4153, 'pave'), (4154, 'pavement'), (4155, 'pay'), (4156, 'payabl'), (4157, 'payment'), (4158, 'payout'), (4159, 'pcr'), (4160, 'pdf'), (4161, 'pe'), (4162, 'peac'), (4163, 'peacekeep'), (4164, 'peak'), (4165, 'pediatr'), (4166, 'peep'), (4167, 'peer'), (4168, 'peg'), (4169, 'penalti'), (4170, 'penc'), (4171, 'pend'), (4172, 'pendenc'), (4173, 'penetr'), (4174, 'pennsylvania'), (4175, 'pension'), (4176, 'pensionretir'), (4177, 'pentagon'), (4178, 'peopl'), (4179, 'pepsico'), (4180, 'per'), (4181, 'percal'), (4182, 'perceiv'), (4183, 'percent'), (4184, 'percentag'), (4185, 'percept'), (4186, 'perform'), (4187, 'perhap'), (4188, 'peril'), (4189, 'period'), (4190, 'perioddur'), (4191, 'perish'), (4192, 'perman'), (4193, 'permiss'), (4194, 'permit'), (4195, 'perpetr'), (4196, 'perpetu'), (4197, 'perri'), (4198, 'persist'), (4199, 'person'), (4200, 'personalis'), (4201, 'personnel'), (4202, 'perspect'), (4203, 'persuad'), (4204, 'persuas'), (4205, 'pertin'), (4206, 'peskov'), (4207, 'pet'), (4208, 'petersburg'), (4209, 'petrol'), (4210, 'ph'), (4211, 'phantom'), (4212, 'pharma'), (4213, 'pharmaceut'), (4214, 'pharmaci'), (4215, 'phase'), (4216, 'phenomen'), (4217, 'philadelphia'), (4218, 'philippin'), (4219, 'phillip'), (4220, 'phish'), (4221, 'phone'), (4222, 'phonewhat'), (4223, 'photo'), (4224, 'photograph'), (4225, 'photographi'), (4226, 'physic'), (4227, 'pick'), (4228, 'pickup'), (4229, 'pictur'), (4230, 'pie'), (4231, 'piec'), (4232, 'piecem'), (4233, 'pier'), (4234, 'pieter'), (4235, 'pij'), (4236, 'pillar'), (4237, 'pillow'), (4238, 'pillowbest'), (4239, 'pilot'), (4240, 'pinch'), (4241, 'pioneer'), (4242, 'pip'), (4243, 'pipe'), (4244, 'pipelin'), (4245, 'piper'), (4246, 'pit'), (4247, 'pitch'), (4248, 'pivot'), (4249, 'pixel'), (4250, 'pl'), (4251, 'pla'), (4252, 'place'), (4253, 'placement'), (4254, 'plain'), (4255, 'plan'), (4256, 'plane'), (4257, 'planet'), (4258, 'planetari'), (4259, 'plansto'), (4260, 'plant'), (4261, 'plas'), (4262, 'plastic'), (4263, 'plateau'), (4264, 'platform'), (4265, 'play'), (4266, 'playbook'), (4267, 'player'), (4268, 'playlist'), (4269, 'plc'), (4270, 'plcpublish'), (4271, 'plead'), (4272, 'pleas'), (4273, 'pleasecontactinfomainzbiomedcom'), (4274, 'pledg'), (4275, 'plenari'), (4276, 'plenti'), (4277, 'plethora'), (4278, 'plix'), (4279, 'plot'), (4280, 'plus'), (4281, 'pm'), (4282, 'pmi'), (4283, 'pms'), (4284, 'pocket'), (4285, 'podcast'), (4286, 'poet'), (4287, 'point'), (4288, 'pointless'), (4289, 'pois'), (4290, 'poison'), (4291, 'poland'), (4292, 'polandrel'), (4293, 'polar'), (4294, 'polic'), (4295, 'polici'), (4296, 'policiesthi'), (4297, 'policymak'), (4298, 'polit'), (4299, 'politicallyconnect'), (4300, 'politician'), (4301, 'poll'), (4302, 'pollsotherwis'), (4303, 'pollut'), (4304, 'polymeras'), (4305, 'pomalystimnovid'), (4306, 'pool'), (4307, 'poor'), (4308, 'poorest'), (4309, 'popul'), (4310, 'popular'), (4311, 'populist'), (4312, 'port'), (4313, 'porter'), (4314, 'portfolio'), (4315, 'portion'), (4316, 'porto'), (4317, 'portrait'), (4318, 'portray'), (4319, 'portug'), (4320, 'pose'), (4321, 'posit'), (4322, 'possess'), (4323, 'possibl'), (4324, 'post'), (4325, 'postcovid'), (4326, 'postdiwali'), (4327, 'postearn'), (4328, 'posthum'), (4329, 'postmatch'), (4330, 'postmonsoon'), (4331, 'postpanamax'), (4332, 'postpon'), (4333, 'postproduct'), (4334, 'postur'), (4335, 'potenti'), (4336, 'potentiallyrisk'), (4337, 'potteri'), (4338, 'poultri'), (4339, 'powellsold'), (4340, 'power'), (4341, 'powerad'), (4342, 'powerfulthat'), (4343, 'practic'), (4344, 'pradesh'), (4345, 'prais'), (4346, 'pray'), (4347, 'preapprov'), (4348, 'preced'), (4349, 'precious'), (4350, 'precis'), (4351, 'precovid'), (4352, 'predecessor'), (4353, 'predict'), (4354, 'predomin'), (4355, 'preemptiv'), (4356, 'prefer'), (4357, 'preferenti'), (4358, 'prefund'), (4359, 'preindustri'), (4360, 'preliminari'), (4361, 'prematur'), (4362, 'premier'), (4363, 'premium'), (4364, 'premiumis'), (4365, 'prepar'), (4366, 'prepare'), (4367, 'prepay'), (4368, 'preposterousand'), (4369, 'prescrib'), (4370, 'presenc'), (4371, 'present'), (4372, 'preserv'), (4373, 'presid'), (4374, 'presidentfran'), (4375, 'presidenti'), (4376, 'presidentjo'), (4377, 'presidentth'), (4378, 'presley'), (4379, 'press'), (4380, 'presseagentur'), (4381, 'pressgreenhous'), (4382, 'pressur'), (4383, 'presum'), (4384, 'pretend'), (4385, 'pretti'), (4386, 'preval'), (4387, 'prevent'), (4388, 'previous'), (4389, 'price'), (4390, 'pricemix'), (4391, 'pricetoearn'), (4392, 'pricetoearningsgrowth'), (4393, 'pride'), (4394, 'primari'), (4395, 'primarili'), (4396, 'prime'), (4397, 'princip'), (4398, 'principl'), (4399, 'print'), (4400, 'prior'), (4401, 'priorit'), (4402, 'prioriti'), (4403, 'prioritis'), (4404, 'prison'), (4405, 'privat'), (4406, 'privileg'), (4407, 'prize'), (4408, 'pro'), (4409, 'probabl'), (4410, 'probe'), (4411, 'problem'), (4412, 'problemat'), (4413, 'problemseconom'), (4414, 'problemsolv'), (4415, 'procedur'), (4416, 'proceed'), (4417, 'process'), (4418, 'produc'), (4419, 'producersagaftra'), (4420, 'producersamptp'), (4421, 'product'), (4422, 'productionsbeast'), (4423, 'profess'), (4424, 'profession'), (4425, 'professor'), (4426, 'profici'), (4427, 'profil'), (4428, 'profit'), (4429, 'profound'), (4430, 'profund'), (4431, 'program'), (4432, 'programsth'), (4433, 'progress'), (4434, 'prohibit'), (4435, 'prohibitori'), (4436, 'proiranian'), (4437, 'project'), (4438, 'projectson'), (4439, 'promin'), (4440, 'promis'), (4441, 'promo'), (4442, 'promot'), (4443, 'promoterfii'), (4444, 'prompt'), (4445, 'pronazi'), (4446, 'prone'), (4447, 'propalestinian'), (4448, 'propel'), (4449, 'proper'), (4450, 'properti'), (4451, 'propertiess'), (4452, 'proport'), (4453, 'propos'), (4454, 'proposit'), (4455, 'proprietari'), (4456, 'prorata'), (4457, 'pros'), (4458, 'prosecut'), (4459, 'prosecutor'), (4460, 'prospect'), (4461, 'prospectus'), (4462, 'protagonist'), (4463, 'protect'), (4464, 'protein'), (4465, 'protest'), (4466, 'protestant'), (4467, 'prototyp'), (4468, 'prove'), (4469, 'provid'), (4470, 'provinc'), (4471, 'provis'), (4472, 'provoc'), (4473, 'provocateur'), (4474, 'provok'), (4475, 'proxi'), (4476, 'proxim'), (4477, 'prudenti'), (4478, 'psoriat'), (4479, 'psu'), (4480, 'psychologist'), (4481, 'psychosoci'), (4482, 'pt'), (4483, 'pti'), (4484, 'public'), (4485, 'publici'), (4486, 'publish'), (4487, 'pull'), (4488, 'puls'), (4489, 'pummel'), (4490, 'pumpkin'), (4491, 'punch'), (4492, 'pune'), (4493, 'punish'), (4494, 'punishedspeak'), (4495, 'punit'), (4496, 'punjab'), (4497, 'purchas'), (4498, 'purpos'), (4499, 'purs'), (4500, 'pursu'), (4501, 'pursuant'), (4502, 'push'), (4503, 'pushback'), (4504, 'put'), (4505, 'putin'), (4506, 'pyramid'), (4507, 'q'), (4508, 'qa'), (4509, 'qatar'), (4510, 'qatari'), (4511, 'qr'), (4512, 'qtr'), (4513, 'quak'), (4514, 'quaker'), (4515, 'qualif'), (4516, 'qualifi'), (4517, 'qualiti'), (4518, 'quantiti'), (4519, 'quantitiesmarket'), (4520, 'quarri'), (4521, 'quarter'), (4522, 'quarterfin'), (4523, 'quarterhold'), (4524, 'quarterholdingschannelreport'), (4525, 'qube'), (4526, 'quebec'), (4527, 'queen'), (4528, 'quell'), (4529, 'question'), (4530, 'quick'), (4531, 'quiet'), (4532, 'quit'), (4533, 'quo'), (4534, 'quot'), (4535, 'ra'), (4536, 'rabbi'), (4537, 'rabitz'), (4538, 'rabitzbiotechnolog'), (4539, 'rabitzh'), (4540, 'rabitzin'), (4541, 'race'), (4542, 'racha'), (4543, 'rachel'), (4544, 'racism'), (4545, 'racist'), (4546, 'radar'), (4547, 'radha'), (4548, 'radiat'), (4549, 'radico'), (4550, 'radio'), (4551, 'radioloc'), (4552, 'radius'), (4553, 'rafah'), (4554, 'rage'), (4555, 'ragi'), (4556, 'rahul'), (4557, 'raid'), (4558, 'raider'), (4559, 'rail'), (4560, 'railway'), (4561, 'rain'), (4562, 'rainfal'), (4563, 'rainforest'), (4564, 'rais'), (4565, 'raj'), (4566, 'rajasthan'), (4567, 'rajendran'), (4568, 'rajiv'), (4569, 'ralli'), (4570, 'ramif'), (4571, 'ramp'), (4572, 'random'), (4573, 'ranger'), (4574, 'rank'), (4575, 'rantisi'), (4576, 'rape'), (4577, 'rapid'), (4578, 'rare'), (4579, 'rashida'), (4580, 'rassi'), (4581, 'rata'), (4582, 'rate'), (4583, 'rateabl'), (4584, 'rather'), (4585, 'ratif'), (4586, 'ratifi'), (4587, 'ratio'), (4588, 'rationalis'), (4589, 'ratnakarsold'), (4590, 'raw'), (4591, 'raymond'), (4592, 'razorpay'), (4593, 'rbredfern'), (4594, 'rd'), (4595, 'rditrad'), (4596, 'reach'), (4597, 'reaction'), (4598, 'reactionbas'), (4599, 'read'), (4600, 'reader'), (4601, 'readi'), (4602, 'readjust'), (4603, 'readmor'), (4604, 'readytodrink'), (4605, 'reaffirm'), (4606, 'real'), (4607, 'realiti'), (4608, 'realiz'), (4609, 'realli'), (4610, 'realpolitik'), (4611, 'realti'), (4612, 'realtim'), (4613, 'realworld'), (4614, 'reap'), (4615, 'rearrang'), (4616, 'reason'), (4617, 'reassur'), (4618, 'rebel'), (4619, 'rebootnewsjerri'), (4620, 'rebound'), (4621, 'rebuild'), (4622, 'rebuk'), (4623, 'recallth'), (4624, 'recaptur'), (4625, 'receipt'), (4626, 'receiv'), (4627, 'recent'), (4628, 'recess'), (4629, 'recipi'), (4630, 'reckon'), (4631, 'recogn'), (4632, 'recognis'), (4633, 'recognit'), (4634, 'recogniz'), (4635, 'recommend'), (4636, 'recommmend'), (4637, 'record'), (4638, 'recordbreak'), (4639, 'recount'), (4640, 'recov'), (4641, 'recoveri'), (4642, 'recreat'), (4643, 'recruit'), (4644, 'rector'), (4645, 'recur'), (4646, 'recurr'), (4647, 'recycl'), (4648, 'red'), (4649, 'redeem'), (4650, 'redefin'), (4651, 'redempt'), (4652, 'rediscov'), (4653, 'reduc'), (4654, 'reduct'), (4655, 'reefer'), (4656, 'reel'), (4657, 'reengin'), (4658, 'refer'), (4659, 'referenc'), (4660, 'referendum'), (4661, 'refin'), (4662, 'reflect'), (4663, 'reform'), (4664, 'reformul'), (4665, 'refrain'), (4666, 'refriger'), (4667, 'refug'), (4668, 'refuge'), (4669, 'refund'), (4670, 'refus'), (4671, 'refut'), (4672, 'regain'), (4673, 'regard'), (4674, 'regardless'), (4675, 'regim'), (4676, 'region'), (4677, 'regist'), (4678, 'registr'), (4679, 'regret'), (4680, 'regroup'), (4681, 'regul'), (4682, 'regular'), (4683, 'regulatori'), (4684, 'rehear'), (4685, 'reimburs'), (4686, 'rein'), (4687, 'reinforc'), (4688, 'reinin'), (4689, 'reit'), (4690, 'reiter'), (4691, 'reject'), (4692, 'rejig'), (4693, 'rejuven'), (4694, 'relat'), (4695, 'relatedaffili'), (4696, 'relationship'), (4697, 'relax'), (4698, 'releas'), (4699, 'relentless'), (4700, 'relev'), (4701, 'reli'), (4702, 'reliabl'), (4703, 'relianc'), (4704, 'relief'), (4705, 'religi'), (4706, 'religion'), (4707, 'reloc'), (4708, 'reluct'), (4709, 'remain'), (4710, 'remaind'), (4711, 'remark'), (4712, 'remarksdeath'), (4713, 'remedi'), (4714, 'rememb'), (4715, 'remembr'), (4716, 'remind'), (4717, 'remit'), (4718, 'remitt'), (4719, 'remo'), (4720, 'remot'), (4721, 'remov'), (4722, 'remuner'), (4723, 'renaiss'), (4724, 'render'), (4725, 'rendezv'), (4726, 'renew'), (4727, 'renk'), (4728, 'renown'), (4729, 'rent'), (4730, 'rentschler'), (4731, 'renu'), (4732, 'reorgan'), (4733, 'repair'), (4734, 'repay'), (4735, 'repeat'), (4736, 'repercuss'), (4737, 'repetit'), (4738, 'replac'), (4739, 'replenish'), (4740, 'repli'), (4741, 'replic'), (4742, 'replica'), (4743, 'report'), (4744, 'reportfrom'), (4745, 'reporthad'), (4746, 'reportin'), (4747, 'repres'), (4748, 'reproduct'), (4749, 'republ'), (4750, 'republican'), (4751, 'reput'), (4752, 'request'), (4753, 'requir'), (4754, 'requisit'), (4755, 'rerun'), (4756, 'resal'), (4757, 'rescu'), (4758, 'research'), (4759, 'researchandmarketscomresearchandmarketscom'), (4760, 'researcherand'), (4761, 'reserv'), (4762, 'reshap'), (4763, 'resid'), (4764, 'residenti'), (4765, 'residu'), (4766, 'resign'), (4767, 'resili'), (4768, 'resist'), (4769, 'resolut'), (4770, 'resolv'), (4771, 'resort'), (4772, 'resourc'), (4773, 'respect'), (4774, 'respiratori'), (4775, 'respond'), (4776, 'respons'), (4777, 'rest'), (4778, 'restat'), (4779, 'restless'), (4780, 'restor'), (4781, 'restraint'), (4782, 'restrict'), (4783, 'restructur'), (4784, 'result'), (4785, 'resumpt'), (4786, 'resurg'), (4787, 'retail'), (4788, 'retailersoth'), (4789, 'retain'), (4790, 'retak'), (4791, 'retali'), (4792, 'retaliatori'), (4793, 'reteam'), (4794, 'retent'), (4795, 'retir'), (4796, 'retriev'), (4797, 'retrmt'), (4798, 'return'), (4799, 'reunion'), (4800, 'reus'), (4801, 'reuter'), (4802, 'reveal'), (4803, 'revenu'), (4804, 'revenueshar'), (4805, 'revers'), (4806, 'review'), (4807, 'reviewalso'), (4808, 'reviewandparachut'), (4809, 'reviewfor'), (4810, 'reviewto'), (4811, 'revis'), (4812, 'revisedcagr'), (4813, 'reviv'), (4814, 'revivalofseinfeld'), (4815, 'revok'), (4816, 'revolut'), (4817, 'revolution'), (4818, 'reward'), (4819, 'rework'), (4820, 'rewrit'), (4821, 'rey'), (4822, 'rfa'), (4823, 'rhetor'), (4824, 'rhode'), (4825, 'rhumblin'), (4826, 'richard'), (4827, 'richardss'), (4828, 'ricki'), (4829, 'ride'), (4830, 'rider'), (4831, 'riggierisold'), (4832, 'right'), (4833, 'rightw'), (4834, 'ring'), (4835, 'ripe'), (4836, 'rise'), (4837, 'rishi'), (4838, 'risk'), (4839, 'riskadjust'), (4840, 'riski'), (4841, 'riskinform'), (4842, 'risksit'), (4843, 'risktak'), (4844, 'ritchey'), (4845, 'rival'), (4846, 'river'), (4847, 'riverb'), (4848, 'riverbedsbut'), (4849, 'riyadh'), (4850, 'rn'), (4851, 'roacheturn'), (4852, 'road'), (4853, 'roadsid'), (4854, 'roam'), (4855, 'rob'), (4856, 'robber'), (4857, 'robberswhat'), (4858, 'robert'), (4859, 'robin'), (4860, 'robot'), (4861, 'robust'), (4862, 'rocker'), (4863, 'rocket'), (4864, 'roe'), (4865, 'roi'), (4866, 'role'), (4867, 'roll'), (4868, 'romania'), (4869, 'ronald'), (4870, 'roo'), (4871, 'roof'), (4872, 'room'), (4873, 'root'), (4874, 'rope'), (4875, 'rosenblatt'), (4876, 'rosenfeldgetti'), (4877, 'ross'), (4878, 'rotat'), (4879, 'rough'), (4880, 'round'), (4881, 'rout'), (4882, 'row'), (4883, 'rowley'), (4884, 'royal'), (4885, 'royallik'), (4886, 'roychowdhuri'), (4887, 'rs'), (4888, 'rsi'), (4889, 'rtl'), (4890, 'ruben'), (4891, 'rubenbol'), (4892, 'rule'), (4893, 'ruler'), (4894, 'rumor'), (4895, 'rumour'), (4896, 'run'), (4897, 'runnersup'), (4898, 'runsif'), (4899, 'runthrough'), (4900, 'runtim'), (4901, 'rupe'), (4902, 'rupprecht'), (4903, 'rural'), (4904, 'russel'), (4905, 'russia'), (4906, 'russiai'), (4907, 'russian'), (4908, 'rutt'), (4909, 'ryan'), (4910, 'sa'), (4911, 'saba'), (4912, 'sach'), (4913, 'sack'), (4914, 'sacr'), (4915, 'sacrific'), (4916, 'sad'), (4917, 'sadiq'), (4918, 'safadi'), (4919, 'safe'), (4920, 'safeguard'), (4921, 'safest'), (4922, 'safeti'), (4923, 'saffola'), (4924, 'sag'), (4925, 'sagafta'), (4926, 'sagaftra'), (4927, 'sagaftracov'), (4928, 'sagaftraorgcontract'), (4929, 'saharasebi'), (4930, 'sahel'), (4931, 'saidclim'), (4932, 'saidloc'), (4933, 'saidmichael'), (4934, 'saidrahul'), (4935, 'saidthes'), (4936, 'salalah'), (4937, 'salam'), (4938, 'salari'), (4939, 'sale'), (4940, 'sam'), (4941, 'samantha'), (4942, 'sameh'), (4943, 'sampl'), (4944, 'samsara'), (4945, 'samsung'), (4946, 'san'), (4947, 'sanction'), (4948, 'sandler'), (4949, 'sanford'), (4950, 'sani'), (4951, 'sanit'), (4952, 'sanjay'), (4953, 'sapient'), (4954, 'sarah'), (4955, 'sarandosdismiss'), (4956, 'sargent'), (4957, 'sas'), (4958, 'sassoonbankmanfri'), (4959, 'satellit'), (4960, 'satir'), (4961, 'satisfact'), (4962, 'satisfi'), (4963, 'saturday'), (4964, 'saudi'), (4965, 'saudil'), (4966, 'saugata'), (4967, 'save'), (4968, 'saviour'), (4969, 'saw'), (4970, 'sawlanifutur'), (4971, 'say'), (4972, 'sbi'), (4973, 'sbtis'), (4974, 'sca'), (4975, 'scale'), (4976, 'scam'), (4977, 'scan'), (4978, 'scandal'), (4979, 'scarciti'), (4980, 'scare'), (4981, 'scenario'), (4982, 'scene'), (4983, 'scep'), (4984, 'schedul'), (4985, 'scheinman'), (4986, 'schengen'), (4987, 'schizophrenia'), (4988, 'scholarship'), (4989, 'school'), (4990, 'schwab'), (4991, 'scienc'), (4992, 'sciencefict'), (4993, 'scientif'), (4994, 'scientist'), (4995, 'scope'), (4996, 'score'), (4997, 'scorer'), (4998, 'scorpion'), (4999, 'scottish'), (5000, 'scrap'), (5001, 'scream'), (5002, 'screen'), (5003, 'scrip'), (5004, 'script'), (5005, 'scrutini'), (5006, 'sea'), (5007, 'seafood'), (5008, 'seal'), (5009, 'seamless'), (5010, 'seaport'), (5011, 'search'), (5012, 'season'), (5013, 'seasonrel'), (5014, 'seat'), (5015, 'seattl'), (5016, 'sebi'), (5017, 'sec'), (5018, 'second'), (5019, 'secondari'), (5020, 'secondlargest'), (5021, 'secret'), (5022, 'secretari'), (5023, 'secretarygener'), (5024, 'section'), (5025, 'sector'), (5026, 'secur'), (5027, 'see'), (5028, 'seed'), (5029, 'seedsblack'), (5030, 'seek'), (5031, 'seeker'), (5032, 'seem'), (5033, 'segment'), (5034, 'segmentglob'), (5035, 'seinfeld'), (5036, 'seismic'), (5037, 'seismolog'), (5038, 'seismologist'), (5039, 'seiz'), (5040, 'seizur'), (5041, 'select'), (5042, 'self'), (5043, 'selfassured'), (5044, 'selfconfess'), (5045, 'selfdefens'), (5046, 'selfdestruct'), (5047, 'selfguid'), (5048, 'selftap'), (5049, 'selftitl'), (5050, 'sell'), (5051, 'seller'), (5052, 'sellsid'), (5053, 'sellthru'), (5054, 'semiannu'), (5055, 'semiconductor'), (5056, 'semifin'), (5057, 'semisolid'), (5058, 'semispun'), (5059, 'semisweet'), (5060, 'semit'), (5061, 'senat'), (5062, 'send'), (5063, 'senior'), (5064, 'sens'), (5065, 'sensex'), (5066, 'sensit'), (5067, 'sensor'), (5068, 'senst'), (5069, 'sentenc'), (5070, 'sentenceif'), (5071, 'sentiment'), (5072, 'sep'), (5073, 'separ'), (5074, 'separatelystocknewscomstart'), (5075, 'separatist'), (5076, 'sept'), (5077, 'septemb'), (5078, 'sequoia'), (5079, 'serena'), (5080, 'seri'), (5081, 'serious'), (5082, 'serotta'), (5083, 'serv'), (5084, 'server'), (5085, 'servic'), (5086, 'servicememb'), (5087, 'session'), (5088, 'sessionmost'), (5089, 'set'), (5090, 'setback'), (5091, 'settl'), (5092, 'settlement'), (5093, 'settlementabout'), (5094, 'settlementin'), (5095, 'settlementsshould'), (5096, 'seven'), (5097, 'seventi'), (5098, 'sever'), (5099, 'sex'), (5100, 'sexual'), (5101, 'shake'), (5102, 'shaker'), (5103, 'shakhtar'), (5104, 'shaki'), (5105, 'shall'), (5106, 'shallow'), (5107, 'shame'), (5108, 'shamelessmadhya'), (5109, 'shandong'), (5110, 'shanghai'), (5111, 'shape'), (5112, 'share'), (5113, 'sharehold'), (5114, 'shark'), (5115, 'sharp'), (5116, 'sharper'), (5117, 'shaughnessi'), (5118, 'sheep'), (5119, 'sheet'), (5120, 'sheetsstart'), (5121, 'sheetswith'), (5122, 'sheikh'), (5123, 'shelf'), (5124, 'shelter'), (5125, 'shelv'), (5126, 'shi'), (5127, 'shield'), (5128, 'shift'), (5129, 'ship'), (5130, 'shipment'), (5131, 'shippingbest'), (5132, 'shipyard'), (5133, 'shivraj'), (5134, 'shlesing'), (5135, 'shmulik'), (5136, 'shock'), (5137, 'shockslik'), (5138, 'shockwav'), (5139, 'shoe'), (5140, 'shoot'), (5141, 'shop'), (5142, 'shopper'), (5143, 'shore'), (5144, 'short'), (5145, 'shortag'), (5146, 'shortform'), (5147, 'shoukri'), (5148, 'shoulder'), (5149, 'shout'), (5150, 'show'), (5151, 'shower'), (5152, 'showsseinfeld'), (5153, 'shrapnel'), (5154, 'shrimp'), (5155, 'shriram'), (5156, 'shuster'), (5157, 'shut'), (5158, 'shutterstockcom'), (5159, 'shwarzstein'), (5160, 'sick'), (5161, 'side'), (5162, 'sidelett'), (5163, 'sieg'), (5164, 'sigh'), (5165, 'sigma'), (5166, 'sign'), (5167, 'signag'), (5168, 'signal'), (5169, 'signatur'), (5170, 'signaturefd'), (5171, 'signifi'), (5172, 'signific'), (5173, 'signin'), (5174, 'silenc'), (5175, 'silent'), (5176, 'sim'), (5177, 'similar'), (5178, 'simon'), (5179, 'simpl'), (5180, 'simpli'), (5181, 'simul'), (5182, 'sinc'), (5183, 'sing'), (5184, 'singapor'), (5185, 'singer'), (5186, 'singersongwrit'), (5187, 'singh'), (5188, 'singhania'), (5189, 'singhanianawaz'), (5190, 'singl'), (5191, 'singleserv'), (5192, 'singleus'), (5193, 'sink'), (5194, 'sir'), (5195, 'sit'), (5196, 'sitcom'), (5197, 'site'), (5198, 'sitewidedysonsnag'), (5199, 'situat'), (5200, 'six'), (5201, 'size'), (5202, 'sizepumpkin'), (5203, 'skater'), (5204, 'skew'), (5205, 'ski'), (5206, 'skill'), (5207, 'skin'), (5208, 'skirmish'), (5209, 'skus'), (5210, 'sky'), (5211, 'skyscrap'), (5212, 'slam'), (5213, 'slap'), (5214, 'slate'), (5215, 'sleep'), (5216, 'slew'), (5217, 'slide'), (5218, 'slight'), (5219, 'slovakia'), (5220, 'slow'), (5221, 'sluggish'), (5222, 'slush'), (5223, 'small'), (5224, 'smallcap'), (5225, 'smaller'), (5226, 'smallest'), (5227, 'smart'), (5228, 'smarter'), (5229, 'smartphon'), (5230, 'smash'), (5231, 'smith'), (5232, 'smooth'), (5233, 'smuggler'), (5234, 'snack'), (5235, 'snap'), (5236, 'snapchat'), (5237, 'snowman'), (5238, 'snp'), (5239, 'soar'), (5240, 'socal'), (5241, 'social'), (5242, 'societi'), (5243, 'socket'), (5244, 'socotra'), (5245, 'soft'), (5246, 'soften'), (5247, 'softer'), (5248, 'softwar'), (5249, 'softwareasaservic'), (5250, 'soil'), (5251, 'solar'), (5252, 'soldier'), (5253, 'sole'), (5254, 'solera'), (5255, 'solicit'), (5256, 'solid'), (5257, 'solidar'), (5258, 'solidifi'), (5259, 'sollfrank'), (5260, 'solo'), (5261, 'solut'), (5262, 'solutiongrow'), (5263, 'solv'), (5264, 'somehow'), (5265, 'someon'), (5266, 'someth'), (5267, 'sometim'), (5268, 'somewhat'), (5269, 'son'), (5270, 'song'), (5271, 'soni'), (5272, 'sonyze'), (5273, 'soon'), (5274, 'sooner'), (5275, 'sorri'), (5276, 'sort'), (5277, 'soul'), (5278, 'sound'), (5279, 'sourc'), (5280, 'south'), (5281, 'southeast'), (5282, 'southern'), (5283, 'southsouthwest'), (5284, 'sovereignti'), (5285, 'sovietbuilt'), (5286, 'soya'), (5287, 'sp'), (5288, 'space'), (5289, 'spacex'), (5290, 'spain'), (5291, 'span'), (5292, 'spanish'), (5293, 'spark'), (5294, 'sparkl'), (5295, 'spartannash'), (5296, 'spdr'), (5297, 'speak'), (5298, 'speaker'), (5299, 'spearhead'), (5300, 'speci'), (5301, 'special'), (5302, 'specif'), (5303, 'specifi'), (5304, 'spectrum'), (5305, 'specul'), (5306, 'speech'), (5307, 'speed'), (5308, 'spend'), (5309, 'spider'), (5310, 'spill'), (5311, 'spillan'), (5312, 'spinoff'), (5313, 'spireon'), (5314, 'spirit'), (5315, 'splinter'), (5316, 'split'), (5317, 'spoil'), (5318, 'spokesman'), (5319, 'spokespeopl'), (5320, 'spokesperson'), (5321, 'sponsor'), (5322, 'sponsorship'), (5323, 'sport'), (5324, 'spot'), (5325, 'spotlight'), (5326, 'spotmargin'), (5327, 'spread'), (5328, 'spreadsheet'), (5329, 'spring'), (5330, 'springer'), (5331, 'sprite'), (5332, 'sprycel'), (5333, 'sptn'), (5334, 'sputter'), (5335, 'squad'), (5336, 'squar'), (5337, 'squaremet'), (5338, 'squibb'), (5339, 'sri'), (5340, 'st'), (5341, 'stabil'), (5342, 'stack'), (5343, 'stadium'), (5344, 'staff'), (5345, 'stage'), (5346, 'stagefour'), (5347, 'stagger'), (5348, 'stake'), (5349, 'stakehold'), (5350, 'stakesw'), (5351, 'stanburi'), (5352, 'stanc'), (5353, 'stand'), (5354, 'standard'), (5355, 'standin'), (5356, 'standoff'), (5357, 'standup'), (5358, 'stanley'), (5359, 'star'), (5360, 'stark'), (5361, 'starmer'), (5362, 'starshead'), (5363, 'start'), (5364, 'starter'), (5365, 'startl'), (5366, 'startup'), (5367, 'starv'), (5368, 'state'), (5369, 'stateless'), (5370, 'statement'), (5371, 'statementscertain'), (5372, 'statist'), (5373, 'status'), (5374, 'statusth'), (5375, 'stay'), (5376, 'steadfast'), (5377, 'steadi'), (5378, 'steadili'), (5379, 'steal'), (5380, 'steam'), (5381, 'steel'), (5382, 'steep'), (5383, 'steepest'), (5384, 'steer'), (5385, 'steiner'), (5386, 'stellar'), (5387, 'stem'), (5388, 'step'), (5389, 'stepsist'), (5390, 'stevi'), (5391, 'steward'), (5392, 'stick'), (5393, 'stifel'), (5394, 'still'), (5395, 'stimul'), (5396, 'sting'), (5397, 'stipend'), (5398, 'stock'), (5399, 'stockhold'), (5400, 'stocknewscomdowngrad'), (5401, 'stockopen'), (5402, 'stockstocknewscomassum'), (5403, 'stockstocknewscombegan'), (5404, 'stocktrad'), (5405, 'stoltenberg'), (5406, 'stomach'), (5407, 'stonepeak'), (5408, 'stool'), (5409, 'stop'), (5410, 'storag'), (5411, 'store'), (5412, 'storesspecialist'), (5413, 'stori'), (5414, 'storiesbreak'), (5415, 'storiesdocumentarypalestinian'), (5416, 'storiesnewsseinfeld'), (5417, 'storm'), (5418, 'storylin'), (5419, 'storytel'), (5420, 'stoxx'), (5421, 'straight'), (5422, 'straightforward'), (5423, 'strain'), (5424, 'strang'), (5425, 'stranger'), (5426, 'strateg'), (5427, 'strategi'), (5428, 'strattec'), (5429, 'stream'), (5430, 'streamer'), (5431, 'streamlin'), (5432, 'street'), (5433, 'strength'), (5434, 'strengthen'), (5435, 'strenuous'), (5436, 'stress'), (5437, 'stretch'), (5438, 'stride'), (5439, 'strike'), (5440, 'stringent'), (5441, 'strip'), (5442, 'strokesystem'), (5443, 'strong'), (5444, 'strongbuy'), (5445, 'stronger'), (5446, 'strongest'), (5447, 'stronghold'), (5448, 'structur'), (5449, 'struggl'), (5450, 'student'), (5451, 'studentsar'), (5452, 'studi'), (5453, 'studio'), (5454, 'stuff'), (5455, 'stun'), (5456, 'stunt'), (5457, 'style'), (5458, 'stylist'), (5459, 'subbarao'), (5460, 'subhiksha'), (5461, 'subject'), (5462, 'submarin'), (5463, 'submarket'), (5464, 'submiss'), (5465, 'submit'), (5466, 'subscrib'), (5467, 'subscript'), (5468, 'subsequ'), (5469, 'subset'), (5470, 'subsidi'), (5471, 'subsidiari'), (5472, 'substant'), (5473, 'substanti'), (5474, 'substitut'), (5475, 'succeed'), (5476, 'success'), (5477, 'successbas'), (5478, 'successor'), (5479, 'suction'), (5480, 'sud'), (5481, 'sudan'), (5482, 'sudanes'), (5483, 'sudden'), (5484, 'suella'), (5485, 'suffer'), (5486, 'suffic'), (5487, 'suffici'), (5488, 'sugar'), (5489, 'sugarcoat'), (5490, 'suggest'), (5491, 'suicid'), (5492, 'suit'), (5493, 'suitabl'), (5494, 'sulphat'), (5495, 'sulphur'), (5496, 'sum'), (5497, 'summari'), (5498, 'summer'), (5499, 'summit'), (5500, 'sun'), (5501, 'sunak'), (5502, 'sunday'), (5503, 'sundaywarn'), (5504, 'sunil'), (5505, 'sunset'), (5506, 'supercarri'), (5507, 'supermarket'), (5508, 'supplement'), (5509, 'suppli'), (5510, 'supplier'), (5511, 'support'), (5512, 'suppos'), (5513, 'supremacist'), (5514, 'supriyo'), (5515, 'sure'), (5516, 'surfac'), (5517, 'surfacetoair'), (5518, 'surg'), (5519, 'surgeri'), (5520, 'surplus'), (5521, 'surpris'), (5522, 'surreal'), (5523, 'surround'), (5524, 'survey'), (5525, 'surviv'), (5526, 'survivor'), (5527, 'suscept'), (5528, 'suspend'), (5529, 'suspens'), (5530, 'suspici'), (5531, 'susquehanna'), (5532, 'sustain'), (5533, 'sustainabilityismail'), (5534, 'sutaria'), (5535, 'sutarialead'), (5536, 'svod'), (5537, 'svp'), (5538, 'svpalbert'), (5539, 'svperic'), (5540, 'svpraj'), (5541, 'swap'), (5542, 'sweeten'), (5543, 'swift'), (5544, 'swiggi'), (5545, 'swimmer'), (5546, 'swine'), (5547, 'swing'), (5548, 'switch'), (5549, 'switzerland'), (5550, 'swivel'), (5551, 'swot'), (5552, 'sydney'), (5553, 'sylvain'), (5554, 'sympathet'), (5555, 'sync'), (5556, 'synerg'), (5557, 'synthet'), (5558, 'sys'), (5559, 'syss'), (5560, 'system'), (5561, 'systemat'), (5562, 'tabard'), (5563, 'tabl'), (5564, 'tackl'), (5565, 'tactic'), (5566, 'taejun'), (5567, 'tag'), (5568, 'tailgat'), (5569, 'tailor'), (5570, 'tailwind'), (5571, 'taiwan'), (5572, 'take'), (5573, 'takeaway'), (5574, 'takeoff'), (5575, 'taleblu'), (5576, 'talent'), (5577, 'talk'), (5578, 'tamperevid'), (5579, 'tank'), (5580, 'tap'), (5581, 'tape'), (5582, 'taper'), (5583, 'target'), (5584, 'tariff'), (5585, 'task'), (5586, 'tax'), (5587, 'taxabl'), (5588, 'tci'), (5589, 'tcs'), (5590, 'td'), (5591, 'tea'), (5592, 'teach'), (5593, 'teacher'), (5594, 'team'), (5595, 'teas'), (5596, 'tech'), (5597, 'technic'), (5598, 'techniqu'), (5599, 'technolog'), (5600, 'technologiesfor'), (5601, 'technologiesth'), (5602, 'technologybas'), (5603, 'teenag'), (5604, 'tehran'), (5605, 'tej'), (5606, 'tejha'), (5607, 'tel'), (5608, 'telco'), (5609, 'teledyn'), (5610, 'telegram'), (5611, 'telegraph'), (5612, 'telemat'), (5613, 'telephon'), (5614, 'televis'), (5615, 'tell'), (5616, 'temperatur'), (5617, 'temperevid'), (5618, 'temporari'), (5619, 'ten'), (5620, 'tenant'), (5621, 'tend'), (5622, 'tennesse'), (5623, 'tension'), (5624, 'tensor'), (5625, 'tentat'), (5626, 'term'), (5627, 'termin'), (5628, 'terrain'), (5629, 'terrestri'), (5630, 'terri'), (5631, 'terribl'), (5632, 'territori'), (5633, 'terror'), (5634, 'terrorist'), (5635, 'tesla'), (5636, 'tessa'), (5637, 'test'), (5638, 'testifi'), (5639, 'testimoni'), (5640, 'teu'), (5641, 'texa'), (5642, 'text'), (5643, 'textain'), (5644, 'textur'), (5645, 'tgh'), (5646, 'th'), (5647, 'thank'), (5648, 'that'), (5649, 'thath'), (5650, 'thatsettlementgrowth'), (5651, 'thatth'), (5652, 'theafm'), (5653, 'theamptpon'), (5654, 'theanticounterfeit'), (5655, 'theatric'), (5656, 'thebest'), (5657, 'theexpans'), (5658, 'theglob'), (5659, 'theidfaforum'), (5660, 'theme'), (5661, 'themno'), (5662, 'theori'), (5663, 'theoris'), (5664, 'there'), (5665, 'therefor'), (5666, 'therein'), (5667, 'thereof'), (5668, 'thereto'), (5669, 'therewhat'), (5670, 'thermal'), (5671, 'theseinfeldseri'), (5672, 'thesituationon'), (5673, 'thestreet'), (5674, 'thetrail'), (5675, 'theyll'), (5676, 'theyr'), (5677, 'thing'), (5678, 'think'), (5679, 'third'), (5680, 'thirdparti'), (5681, 'thirsti'), (5682, 'thirteen'), (5683, 'thirti'), (5684, 'thiswith'), (5685, 'thk'), (5686, 'thoma'), (5687, 'thorough'), (5688, 'thorp'), (5689, 'though'), (5690, 'thousand'), (5691, 'thrash'), (5692, 'threat'), (5693, 'threaten'), (5694, 'threatsfar'), (5695, 'three'), (5696, 'threeandahalf'), (5697, 'threeday'), (5698, 'threedot'), (5699, 'threeyear'), (5700, 'threshold'), (5701, 'thriller'), (5702, 'thrive'), (5703, 'throughout'), (5704, 'throughth'), (5705, 'throughthi'), (5706, 'throw'), (5707, 'thrust'), (5708, 'thstocknewscomcut'), (5709, 'thstocknewscomlow'), (5710, 'thstocknewscomstart'), (5711, 'thurday'), (5712, 'thursday'), (5713, 'thus'), (5714, 'ticket'), (5715, 'tie'), (5716, 'tier'), (5717, 'tighter'), (5718, 'tiktok'), (5719, 'tile'), (5720, 'tilia'), (5721, 'tim'), (5722, 'time'), (5723, 'timeandsalari'), (5724, 'timefram'), (5725, 'timelin'), (5726, 'timmerman'), (5727, 'tini'), (5728, 'tip'), (5729, 'titan'), (5730, 'titl'), (5731, 'tlaib'), (5732, 'tobacco'), (5733, 'tobia'), (5734, 'toc'), (5735, 'toclim'), (5736, 'tocoexist'), (5737, 'today'), (5738, 'togeth'), (5739, 'tohuman'), (5740, 'toisrael'), (5741, 'toldth'), (5742, 'toler'), (5743, 'toll'), (5744, 'tom'), (5745, 'ton'), (5746, 'tone'), (5747, 'tonight'), (5748, 'tool'), (5749, 'toolkit'), (5750, 'top'), (5751, 'topic'), (5752, 'toplin'), (5753, 'topper'), (5754, 'toprat'), (5755, 'torch'), (5756, 'toresearchandmarketscomsoff'), (5757, 'tori'), (5758, 'toronto'), (5759, 'torrent'), (5760, 'toss'), (5761, 'tosstheir'), (5762, 'total'), (5763, 'toturbul'), (5764, 'touch'), (5765, 'tough'), (5766, 'tougher'), (5767, 'touma'), (5768, 'tour'), (5769, 'tourist'), (5770, 'tournament'), (5771, 'toward'), (5772, 'tower'), (5773, 'town'), (5774, 'toxic'), (5775, 'tp'), (5776, 'tpp'), (5777, 'tpps'), (5778, 'track'), (5779, 'tracker'), (5780, 'trade'), (5781, 'tradeincreas'), (5782, 'trademark'), (5783, 'trader'), (5784, 'tradit'), (5785, 'trail'), (5786, 'trailer'), (5787, 'train'), (5788, 'trajectori'), (5789, 'tran'), (5790, 'transact'), (5791, 'transatlant'), (5792, 'transcaspian'), (5793, 'transcend'), (5794, 'transcript'), (5795, 'transfer'), (5796, 'transfi'), (5797, 'transform'), (5798, 'transit'), (5799, 'translat'), (5800, 'transmiss'), (5801, 'transmit'), (5802, 'transpar'), (5803, 'transport'), (5804, 'transportationrel'), (5805, 'trap'), (5806, 'trauma'), (5807, 'traumat'), (5808, 'traumatis'), (5809, 'travel'), (5810, 'travelrel'), (5811, 'trc'), (5812, 'treat'), (5813, 'treati'), (5814, 'treatment'), (5815, 'tree'), (5816, 'treedwel'), (5817, 'treeoflif'), (5818, 'trek'), (5819, 'tremend'), (5820, 'tremor'), (5821, 'trend'), (5822, 'trendfollow'), (5823, 'tri'), (5824, 'trial'), (5825, 'triangul'), (5826, 'tricki'), (5827, 'trickl'), (5828, 'trifleet'), (5829, 'trigger'), (5830, 'triguild'), (5831, 'trim'), (5832, 'trip'), (5833, 'triumph'), (5834, 'trivant'), (5835, 'troop'), (5836, 'trophi'), (5837, 'tropic'), (5838, 'troubl'), (5839, 'truce'), (5840, 'truck'), (5841, 'true'), (5842, 'truist'), (5843, 'trump'), (5844, 'trust'), (5845, 'truste'), (5846, 'truth'), (5847, 'tseapunfre'), (5848, 'tsunami'), (5849, 'tuareg'), (5850, 'tuaregdomin'), (5851, 'tube'), (5852, 'tuesday'), (5853, 'tulkubash'), (5854, 'tumbl'), (5855, 'tune'), (5856, 'tuniu'), (5857, 'tunnel'), (5858, 'turbin'), (5859, 'turbul'), (5860, 'turf'), (5861, 'turkey'), (5862, 'turkmenistan'), (5863, 'turmoil'), (5864, 'turn'), (5865, 'tv'), (5866, 'tva'), (5867, 'tvs'), (5868, 'twang'), (5869, 'tweet'), (5870, 'twelv'), (5871, 'twenti'), (5872, 'twentyf'), (5873, 'twentytwo'), (5874, 'twice'), (5875, 'twiceth'), (5876, 'twist'), (5877, 'twitter'), (5878, 'twitterfacebook'), (5879, 'two'), (5880, 'twobuck'), (5881, 'twoday'), (5882, 'twohundr'), (5883, 'twominut'), (5884, 'twomundi'), (5885, 'txt'), (5886, 'type'), (5887, 'typhoid'), (5888, 'typic'), (5889, 'uae'), (5890, 'uav'), (5891, 'ub'), (5892, 'ucl'), (5893, 'uefa'), (5894, 'ugli'), (5895, 'uk'), (5896, 'ukrain'), (5897, 'ukrainian'), (5898, 'ultim'), (5899, 'ultramax'), (5900, 'un'), (5901, 'unabl'), (5902, 'unaccept'), (5903, 'unalt'), (5904, 'unawar'), (5905, 'uncertain'), (5906, 'uncertainti'), (5907, 'unchang'), (5908, 'unchart'), (5909, 'uncl'), (5910, 'unclaim'), (5911, 'uncomfort'), (5912, 'uncov'), (5913, 'under'), (5914, 'undergo'), (5915, 'undergon'), (5916, 'underground'), (5917, 'undergrowth'), (5918, 'underinvest'), (5919, 'undermin'), (5920, 'underperform'), (5921, 'underpin'), (5922, 'underscor'), (5923, 'understand'), (5924, 'undertak'), (5925, 'underway'), (5926, 'undisput'), (5927, 'undu'), (5928, 'unedit'), (5929, 'unexpect'), (5930, 'unexplor'), (5931, 'unfathom'), (5932, 'unfold'), (5933, 'unforeseen'), (5934, 'unfortun'), (5935, 'unfulfil'), (5936, 'ungain'), (5937, 'unhcr'), (5938, 'unicef'), (5939, 'uniform'), (5940, 'unimagin'), (5941, 'union'), (5942, 'uniqu'), (5943, 'unison'), (5944, 'unit'), (5945, 'unitaudi'), (5946, 'unitedplateau'), (5947, 'uniti'), (5948, 'unitth'), (5949, 'univers'), (5950, 'universitymi'), (5951, 'unjust'), (5952, 'unknow'), (5953, 'unknown'), (5954, 'unlaw'), (5955, 'unleash'), (5956, 'unless'), (5957, 'unlik'), (5958, 'unlimit'), (5959, 'unlock'), (5960, 'unlucki'), (5961, 'unmet'), (5962, 'unmistak'), (5963, 'unmolest'), (5964, 'unparallel'), (5965, 'unpreced'), (5966, 'unpublish'), (5967, 'unreach'), (5968, 'unreal'), (5969, 'unreleas'), (5970, 'unresolv'), (5971, 'unrun'), (5972, 'unrwa'), (5973, 'unsaidit'), (5974, 'unsecur'), (5975, 'unsettl'), (5976, 'unspecifi'), (5977, 'unsur'), (5978, 'untap'), (5979, 'untitl'), (5980, 'unusu'), (5981, 'unveil'), (5982, 'unwav'), (5983, 'unwinn'), (5984, 'up'), (5985, 'upcom'), (5986, 'updat'), (5987, 'updatesefcc'), (5988, 'updatesman'), (5989, 'updatesnpfl'), (5990, 'updatessen'), (5991, 'upfront'), (5992, 'upgrad'), (5993, 'upi'), (5994, 'upload'), (5995, 'uploadingdeliveri'), (5996, 'upon'), (5997, 'upper'), (5998, 'upris'), (5999, 'upsid'), (6000, 'upskil'), (6001, 'upsurg'), (6002, 'upto'), (6003, 'upward'), (6004, 'upwhen'), (6005, 'urban'), (6006, 'urg'), (6007, 'urgent'), (6008, 'uruguay'), (6009, 'us'), (6010, 'usag'), (6011, 'usat'), (6012, 'usbas'), (6013, 'usd'), (6014, 'usdesign'), (6015, 'use'), (6016, 'useless'), (6017, 'user'), (6018, 'usher'), (6019, 'usjosh'), (6020, 'usl'), (6021, 'uss'), (6022, 'usual'), (6023, 'ut'), (6024, 'utc'), (6025, 'util'), (6026, 'uttar'), (6027, 'uttarakhand'), (6028, 'v'), (6029, 'vaccin'), (6030, 'vacuum'), (6031, 'vacuumbrooklinen'), (6032, 'vagu'), (6033, 'valerii'), (6034, 'valid'), (6035, 'valu'), (6036, 'valuabl'), (6037, 'valuat'), (6038, 'valuedriven'), (6039, 'valuefocus'), (6040, 'valuesaatvasav'), (6041, 'valuesbas'), (6042, 'valv'), (6043, 'van'), (6044, 'vanc'), (6045, 'vanguard'), (6046, 'vapor'), (6047, 'vari'), (6048, 'variant'), (6049, 'variat'), (6050, 'varieti'), (6051, 'various'), (6052, 'vasool'), (6053, 'vast'), (6054, 'vault'), (6055, 'vde'), (6056, 'vdeopen'), (6057, 'vdevisit'), (6058, 'vega'), (6059, 'vehicl'), (6060, 'vein'), (6061, 'vendor'), (6062, 'vengeanc'), (6063, 'ventil'), (6064, 'ventur'), (6065, 'venu'), (6066, 'verbal'), (6067, 'verg'), (6068, 'verif'), (6069, 'verifi'), (6070, 'verleih'), (6071, 'vermont'), (6072, 'versatil'), (6073, 'version'), (6074, 'versus'), (6075, 'vertigo'), (6076, 'vessel'), (6077, 'vestig'), (6078, 'vet'), (6079, 'veteran'), (6080, 'vi'), (6081, 'via'), (6082, 'vibrant'), (6083, 'vice'), (6084, 'vicechancellor'), (6085, 'victim'), (6086, 'victimhood'), (6087, 'victori'), (6088, 'video'), (6089, 'vietnam'), (6090, 'view'), (6091, 'viewer'), (6092, 'vig'), (6093, 'vii'), (6094, 'viii'), (6095, 'viktor'), (6096, 'vine'), (6097, 'vineyard'), (6098, 'vinod'), (6099, 'violat'), (6100, 'violenc'), (6101, 'violent'), (6102, 'vip'), (6103, 'virginia'), (6104, 'virtu'), (6105, 'virtual'), (6106, 'visa'), (6107, 'vise'), (6108, 'visibl'), (6109, 'vision'), (6110, 'visit'), (6111, 'visitmainzbiomedcom'), (6112, 'visualsound'), (6113, 'vital'), (6114, 'vitalon'), (6115, 'vitalonesold'), (6116, 'vitamin'), (6117, 'vladimir'), (6118, 'vneshtorgbank'), (6119, 'voa'), (6120, 'vocal'), (6121, 'vodka'), (6122, 'voic'), (6123, 'volatil'), (6124, 'volum'), (6125, 'vote'), (6126, 'voter'), (6127, 'vouch'), (6128, 'voucher'), (6129, 'vow'), (6130, 'vp'), (6131, 'vs'), (6132, 'vtb'), (6133, 'vulner'), (6134, 'w'), (6135, 'wael'), (6136, 'wage'), (6137, 'wagon'), (6138, 'wainwright'), (6139, 'wait'), (6140, 'waitmani'), (6141, 'waiv'), (6142, 'waiver'), (6143, 'wake'), (6144, 'wakeup'), (6145, 'walk'), (6146, 'wall'), (6147, 'wallet'), (6148, 'walley'), (6149, 'walmartcom'), (6150, 'wane'), (6151, 'wang'), (6152, 'want'), (6153, 'war'), (6154, 'warandstinga'), (6155, 'wardrob'), (6156, 'warehous'), (6157, 'warfar'), (6158, 'wari'), (6159, 'warm'), (6160, 'warmer'), (6161, 'warmest'), (6162, 'warmth'), (6163, 'warmuphold'), (6164, 'warn'), (6165, 'warrant'), (6166, 'warranti'), (6167, 'wartim'), (6168, 'wartorn'), (6169, 'wasask'), (6170, 'wasattack'), (6171, 'wasavoid'), (6172, 'wasfar'), (6173, 'wash'), (6174, 'washington'), (6175, 'wasnt'), (6176, 'wast'), (6177, 'watch'), (6178, 'watchdog'), (6179, 'water'), (6180, 'watson'), (6181, 'wave'), (6182, 'waver'), (6183, 'way'), (6184, 'wayfair'), (6185, 'weak'), (6186, 'weaken'), (6187, 'weaker'), (6188, 'wealth'), (6189, 'wealthplan'), (6190, 'weapon'), (6191, 'wear'), (6192, 'weather'), (6193, 'weave'), (6194, 'web'), (6195, 'webb'), (6196, 'webinar'), (6197, 'websit'), (6198, 'wedbush'), (6199, 'wednesday'), (6200, 'wednesdayh'), (6201, 'wednesdaystocknewscomlow'), (6202, 'week'), (6203, 'weekend'), (6204, 'weekh'), (6205, 'weeklong'), (6206, 'weeklytom'), (6207, 'weibo'), (6208, 'weigh'), (6209, 'weight'), (6210, 'weiss'), (6211, 'welcom'), (6212, 'welfar'), (6213, 'well'), (6214, 'wellknown'), (6215, 'wellround'), (6216, 'west'), (6217, 'westcentr'), (6218, 'western'), (6219, 'wet'), (6220, 'weve'), (6221, 'wework'), (6222, 'wfp'), (6223, 'wga'), (6224, 'wgas'), (6225, 'what'), (6226, 'whatev'), (6227, 'whatsoev'), (6228, 'whenhuman'), (6229, 'whereftx'), (6230, 'whether'), (6231, 'whichev'), (6232, 'whilst'), (6233, 'whip'), (6234, 'whistl'), (6235, 'white'), (6236, 'whitehal'), (6237, 'whoever'), (6238, 'whole'), (6239, 'wholesal'), (6240, 'whop'), (6241, 'whose'), (6242, 'wicket'), (6243, 'wide'), (6244, 'wider'), (6245, 'widespread'), (6246, 'wife'), (6247, 'wilder'), (6248, 'wildfir'), (6249, 'will'), (6250, 'willa'), (6251, 'willett'), (6252, 'william'), (6253, 'williamsdiedbi'), (6254, 'wilson'), (6255, 'win'), (6256, 'wind'), (6257, 'window'), (6258, 'wine'), (6259, 'winner'), (6260, 'winnercoexist'), (6261, 'winter'), (6262, 'winwin'), (6263, 'wipe'), (6264, 'wipro'), (6265, 'wire'), (6266, 'wireless'), (6267, 'wisconsin'), (6268, 'wise'), (6269, 'wisecrack'), (6270, 'wish'), (6271, 'wit'), (6272, 'withdraw'), (6273, 'withextra'), (6274, 'within'), (6275, 'without'), (6276, 'withoutther'), (6277, 'withto'), (6278, 'wittenberg'), (6279, 'wolf'), (6280, 'woman'), (6281, 'women'), (6282, 'wonder'), (6283, 'wont'), (6284, 'wool'), (6285, 'word'), (6286, 'work'), (6287, 'worker'), (6288, 'workforc'), (6289, 'worklif'), (6290, 'workplac'), (6291, 'workspac'), (6292, 'world'), (6293, 'worldlead'), (6294, 'worldwid'), (6295, 'worri'), (6296, 'wors'), (6297, 'worst'), (6298, 'worth'), (6299, 'would'), (6300, 'wouldnt'), (6301, 'wrap'), (6302, 'wreck'), (6303, 'write'), (6304, 'writer'), (6305, 'wrong'), (6306, 'wrotethus'), (6307, 'wti'), (6308, 'wwac'), (6309, 'wwacvisit'), (6310, 'wyom'), (6311, 'x'), (6312, 'xavi'), (6313, 'xi'), (6314, 'xii'), (6315, 'xiii'), (6316, 'xiv'), (6317, 'xix'), (6318, 'xs'), (6319, 'xv'), (6320, 'xvi'), (6321, 'xvii'), (6322, 'xviii'), (6323, 'yaccarino'), (6324, 'yamunanagar'), (6325, 'yann'), (6326, 'yashar'), (6327, 'yatri'), (6328, 'yeah'), (6329, 'year'), (6330, 'yearnot'), (6331, 'yearold'), (6332, 'yearonyear'), (6333, 'yearoveryear'), (6334, 'yearsrel'), (6335, 'yearth'), (6336, 'yeartod'), (6337, 'yedidia'), (6338, 'yehudit'), (6339, 'yelizaveta'), (6340, 'yemen'), (6341, 'yes'), (6342, 'yesterday'), (6343, 'yet'), (6344, 'yeşilgözzegerius'), (6345, 'yield'), (6346, 'york'), (6347, 'youll'), (6348, 'young'), (6349, 'younger'), (6350, 'youngest'), (6351, 'your'), (6352, 'yousaf'), (6353, 'youtub'), (6354, 'youv'), (6355, 'yoy'), (6356, 'yrs'), (6357, 'zaglossus'), (6358, 'zaki'), (6359, 'zaluzhnyi'), (6360, 'zaqout'), (6361, 'zaqut'), (6362, 'zdeněk'), (6363, 'zealand'), (6364, 'zee'), (6365, 'zeel'), (6366, 'zehorai'), (6367, 'zelda'), (6368, 'zeldacritic'), (6369, 'zero'), (6370, 'ziffer'), (6371, 'zinc'), (6372, 'zoeti'), (6373, 'zoetiss'), (6374, 'zomato'), (6375, 'zone'), (6376, 'zts'), (6377, 'ztstrade'), (6378, 'ztsvisit'), (6379, 'zurich'), (6380, 'łódź')])"
      ]
     },
     "execution_count": 111,
     "metadata": {},
     "output_type": "execute_result"
    }
   ],
   "source": [
    "index2word_dict.items()"
   ]
  },
  {
   "cell_type": "markdown",
   "metadata": {},
   "source": [
    "### Preparing training data set"
   ]
  },
  {
   "cell_type": "code",
   "execution_count": 112,
   "metadata": {},
   "outputs": [],
   "source": [
    "training_pairs = list()\n",
    "\n",
    "for val in model_data:\n",
    "    target = val[0]\n",
    "    context = val[1]\n",
    "    training_pairs.append((word2index_dict[target],word2index_dict[context]))"
   ]
  },
  {
   "cell_type": "code",
   "execution_count": 113,
   "metadata": {},
   "outputs": [
    {
     "data": {
      "text/plain": [
       "[(498, 1022), (498, 353), (498, 4940), (498, 1320), (498, 5824)]"
      ]
     },
     "execution_count": 113,
     "metadata": {},
     "output_type": "execute_result"
    }
   ],
   "source": [
    "training_pairs[:5]"
   ]
  },
  {
   "cell_type": "markdown",
   "metadata": {},
   "source": [
    "### SkipGram Model"
   ]
  },
  {
   "cell_type": "code",
   "execution_count": 114,
   "metadata": {},
   "outputs": [],
   "source": [
    "class SkipGram(nn.Module):\n",
    "    def __init__(self, vocab_size, embedding_dim):\n",
    "        super(SkipGram, self).__init__()\n",
    "        self.embed = nn.Embedding(vocab_size, embedding_dim)\n",
    "        self.linear = nn.Linear(embedding_dim, vocab_size)\n",
    "    def forward(self, center_word):\n",
    "        embedding = self.embed(center_word)\n",
    "        output = self.linear(embedding)\n",
    "        return output"
   ]
  },
  {
   "cell_type": "markdown",
   "metadata": {},
   "source": [
    "### Training the SkipGram Model"
   ]
  },
  {
   "cell_type": "code",
   "execution_count": 121,
   "metadata": {},
   "outputs": [],
   "source": [
    "def train(model, data, optimizer, loss_fn, epochs=100, batch_size=32):\n",
    "    model.train()\n",
    "    for epoch in range(epochs):\n",
    "        for i in range(0, len(data), batch_size):\n",
    "            batch = data[i:i + batch_size]\n",
    "            center_words, context_words = zip(*batch)\n",
    "            center_words = torch.LongTensor(center_words)\n",
    "            context_words = torch.LongTensor(context_words)\n",
    "            optimizer.zero_grad()\n",
    "            outputs = model(center_words)\n",
    "            loss = loss_fn(outputs, context_words)\n",
    "            loss.backward()\n",
    "            optimizer.step()\n",
    "        # if epoch % 10 == 0:\n",
    "        print(f'Epoch {epoch}, Loss: {loss.item():.4f}')"
   ]
  },
  {
   "cell_type": "code",
   "execution_count": 122,
   "metadata": {},
   "outputs": [
    {
     "name": "stdout",
     "output_type": "stream",
     "text": [
      "Epoch 0, Loss: 10.3306\n",
      "Epoch 1, Loss: 9.8582\n",
      "Epoch 2, Loss: 11.7958\n",
      "Epoch 3, Loss: 11.7787\n",
      "Epoch 4, Loss: 11.7625\n",
      "Epoch 5, Loss: 11.6886\n",
      "Epoch 6, Loss: 10.6799\n",
      "Epoch 7, Loss: 9.5930\n",
      "Epoch 8, Loss: 11.3218\n",
      "Epoch 9, Loss: 11.2477\n"
     ]
    }
   ],
   "source": [
    "vocab_size = len(vocab)\n",
    "embedding_dim = 100\n",
    "model = SkipGram(vocab_size, embedding_dim)\n",
    "loss_fn = nn.CrossEntropyLoss()\n",
    "optimizer = optim.Adam(model.parameters(), lr=0.01)\n",
    "train(model, training_pairs, optimizer, loss_fn, epochs=10, batch_size=10)"
   ]
  },
  {
   "cell_type": "code",
   "execution_count": null,
   "metadata": {},
   "outputs": [
    {
     "data": {
      "text/plain": [
       "torch.Size([6381, 100])"
      ]
     },
     "execution_count": 123,
     "metadata": {},
     "output_type": "execute_result"
    }
   ],
   "source": [
    "model.embed.weight.data.shape # V x N matrix"
   ]
  },
  {
   "cell_type": "code",
   "execution_count": 125,
   "metadata": {},
   "outputs": [
    {
     "name": "stdout",
     "output_type": "stream",
     "text": [
      "\n",
      "Embedding for 'crimin': [[ 0.6524583  -0.11030392  0.08138298  0.0712603  -0.01790532  0.5110589\n",
      "   0.14788385  0.07459371  0.24618366  0.17944013 -0.03617151  0.4555257\n",
      "  -0.1924063   0.10443083  0.51467943  0.16954361  1.108788    0.09267556\n",
      "  -0.05829034  0.24714412 -0.27283612 -0.21425495 -0.3757515  -0.10037919\n",
      "   0.1660098  -0.17708589  0.49903297  0.09123883 -0.18389769 -0.74992573\n",
      "  -0.01808611  0.23615855  0.12774436 -0.3017926   0.62091327 -0.06487557\n",
      "   0.11615281  0.01948647 -0.20326275 -0.38602903  0.1141483  -0.24586317\n",
      "  -0.29403657  0.15456884 -0.6076997  -0.36643687  0.13225085 -0.3912071\n",
      "   0.42355117 -0.23048699 -1.1307319   0.07886155 -0.29142532 -0.4941296\n",
      "  -0.08560681 -1.1921178  -0.27141258 -0.23502968  0.40122065 -0.15172422\n",
      "  -0.33440393 -0.22674124  0.3290078  -0.2649746  -0.30342585  0.06082836\n",
      "   0.05070811  0.15376125 -0.17219119 -0.4478474   0.1294718  -0.06213101\n",
      "   0.05291691 -0.06071489 -0.11313146  0.187523    0.0077584  -0.05461296\n",
      "   0.19394918  0.1862925  -0.7413885  -0.08739713 -0.0961291  -0.11625725\n",
      "   0.3088574   0.01857572 -0.15478721 -0.20298094  0.05935875 -0.14422804\n",
      "  -0.24573675 -0.01225371  0.00645091  0.4011621  -0.13669732 -0.300078\n",
      "  -0.31943968  0.19470796  0.08659597 -0.36824793]]\n",
      "Embedding shape: (1, 100)\n"
     ]
    }
   ],
   "source": [
    "def get_embedding(model, word_to_index, word):\n",
    "    model.eval()\n",
    "    index = word_to_index[word]\n",
    "    embedding = model.embed(torch.LongTensor([index]))\n",
    "    return embedding.detach().numpy()\n",
    "\n",
    "sample_embedding = get_embedding(model, word2index_dict, \"crimin\")\n",
    "print(f\"\\nEmbedding for 'crimin': {sample_embedding}\")\n",
    "print(f\"Embedding shape: {sample_embedding.shape}\")"
   ]
  },
  {
   "cell_type": "code",
   "execution_count": 126,
   "metadata": {},
   "outputs": [
    {
     "data": {
      "text/plain": [
       "(100,)"
      ]
     },
     "execution_count": 126,
     "metadata": {},
     "output_type": "execute_result"
    }
   ],
   "source": [
    "sample_embedding[0].shape"
   ]
  },
  {
   "cell_type": "markdown",
   "metadata": {},
   "source": [
    "### Word Similarities"
   ]
  },
  {
   "cell_type": "code",
   "execution_count": 127,
   "metadata": {},
   "outputs": [],
   "source": [
    "# extract the model weights\n",
    "word_vectors = model.embed.weight.data\n"
   ]
  },
  {
   "cell_type": "code",
   "execution_count": 128,
   "metadata": {},
   "outputs": [
    {
     "data": {
      "text/plain": [
       "torch.Size([6381, 100])"
      ]
     },
     "execution_count": 128,
     "metadata": {},
     "output_type": "execute_result"
    }
   ],
   "source": [
    "word_vectors.shape"
   ]
  },
  {
   "cell_type": "code",
   "execution_count": 210,
   "metadata": {},
   "outputs": [],
   "source": [
    "# pick a random sample of word indices from vocabulary\n",
    "random.seed(123)\n",
    "sample_size = len(vocab) #use len(vocab) if you want to use entire vocabulary\n",
    "random_sample = random.sample(range(len(vocab)), sample_size)\n",
    "random_words = [vocab[i] for i in random_sample]"
   ]
  },
  {
   "cell_type": "code",
   "execution_count": 211,
   "metadata": {},
   "outputs": [
    {
     "data": {
      "text/plain": [
       "['attorney', 'forb', 'braverman', 'would', 'mahmoud']"
      ]
     },
     "execution_count": 211,
     "metadata": {},
     "output_type": "execute_result"
    }
   ],
   "source": [
    "random_words[:5]"
   ]
  },
  {
   "cell_type": "code",
   "execution_count": 212,
   "metadata": {},
   "outputs": [],
   "source": [
    "# get the word embeddings\n",
    "word_vectors = [get_embedding(model, word2index_dict, w)[0].tolist() for w in random_words]"
   ]
  },
  {
   "cell_type": "code",
   "execution_count": 213,
   "metadata": {},
   "outputs": [
    {
     "data": {
      "text/plain": [
       "(6381, 100)"
      ]
     },
     "execution_count": 213,
     "metadata": {},
     "output_type": "execute_result"
    }
   ],
   "source": [
    "np.array(word_vectors).shape"
   ]
  },
  {
   "cell_type": "code",
   "execution_count": 214,
   "metadata": {},
   "outputs": [],
   "source": [
    "def similarity(x: list,y: list) -> float:\n",
    "    '''\n",
    "    INPUT:\n",
    "        x, y: input word vectors\n",
    "    OUTPUT:\n",
    "        cosine_score: cosine similarity score between x and y\n",
    "    '''\n",
    "    x = np.array(x)\n",
    "    y = np.array(y)\n",
    "\n",
    "    return np.dot(x,y)/(np.linalg.norm(x)*np.linalg.norm(y))"
   ]
  },
  {
   "cell_type": "code",
   "execution_count": null,
   "metadata": {},
   "outputs": [],
   "source": [
    "def display_word_similarity(word_list: list, embedding_list: list, k: int):\n",
    "    '''\n",
    "    INPUT:\n",
    "        word_list: a list of words for which iteratively word similarity with every word in the vocabulary (except itself) will be calculated\n",
    "        embedding_list: a list where the 'i'th element is the word vector for the word 'i' in word_list\n",
    "        k: int value of the number of most similar words to display for each input word\n",
    "    OUTPUT:\n",
    "        similarity_df: a dataframe with cols 'input_word', 'top_1', 'top_2',...,'top_k', \n",
    "        where 'top_i' will store (output_word, cosine_score)\n",
    "        top_df: storing the a filtered version of similarity_df where rows that have at least one cosine score >=0.75 is retained\n",
    "    '''\n",
    "    similarity_df = pd.DataFrame()\n",
    "    top_df = pd.DataFrame()\n",
    "    c=1\n",
    "    for input_word in tqdm(word_list):\n",
    "        input_word_dict = dict()\n",
    "        for word in filter(lambda x: x !=input_word, word_list):\n",
    "            word_vec_x = word_vectors[word_list.index(input_word)]\n",
    "            word_vec_y = word_vectors[word_list.index(word)]\n",
    "            score = similarity(word_vec_x, word_vec_y)\n",
    "            input_word_dict[word] = score # cosine score of input_word with an output word\n",
    "        \n",
    "        # sort the dictionary by value of scores\n",
    "        input_word_dict = sorted(input_word_dict.items(), key=lambda x: x[1], reverse=True)\n",
    "        row_df = pd.DataFrame({'input_word':input_word}, index = [c])\n",
    "        row_df = pd.concat([row_df, \n",
    "                            pd.DataFrame({f'top_{i+1}': list(map(lambda x: f'({x[0]},{round(x[1],2)})',input_word_dict))[i]\n",
    "        for i in range(k)}, index = [c])], axis=1)\n",
    "        similarity_df = pd.concat([similarity_df, row_df], axis = 0)\n",
    "\n",
    "        if all([y > 0.6 for x,y in input_word_dict[:k]]):\n",
    "            top_df = pd.concat([top_df, row_df], axis = 0)\n",
    "\n",
    "\n",
    "        c+=1\n",
    "    return similarity_df, top_df\n",
    "\n"
   ]
  },
  {
   "cell_type": "code",
   "execution_count": 223,
   "metadata": {},
   "outputs": [
    {
     "name": "stderr",
     "output_type": "stream",
     "text": [
      "100%|██████████| 6381/6381 [47:06<00:00,  2.26it/s]\n"
     ]
    }
   ],
   "source": [
    "df1, df2 = display_word_similarity(word_list=random_words,\n",
    "                            embedding_list=word_vectors,\n",
    "                            k=3)"
   ]
  },
  {
   "cell_type": "code",
   "execution_count": 253,
   "metadata": {},
   "outputs": [
    {
     "data": {
      "text/html": [
       "<div>\n",
       "<style scoped>\n",
       "    .dataframe tbody tr th:only-of-type {\n",
       "        vertical-align: middle;\n",
       "    }\n",
       "\n",
       "    .dataframe tbody tr th {\n",
       "        vertical-align: top;\n",
       "    }\n",
       "\n",
       "    .dataframe thead th {\n",
       "        text-align: right;\n",
       "    }\n",
       "</style>\n",
       "<table border=\"1\" class=\"dataframe\">\n",
       "  <thead>\n",
       "    <tr style=\"text-align: right;\">\n",
       "      <th></th>\n",
       "      <th>input_word</th>\n",
       "      <th>top_1</th>\n",
       "      <th>top_2</th>\n",
       "      <th>top_3</th>\n",
       "    </tr>\n",
       "  </thead>\n",
       "  <tbody>\n",
       "    <tr>\n",
       "      <th>84</th>\n",
       "      <td>fish</td>\n",
       "      <td>(sheep,0.75)</td>\n",
       "      <td>(poultri,0.71)</td>\n",
       "      <td>(cattl,0.63)</td>\n",
       "    </tr>\n",
       "    <tr>\n",
       "      <th>839</th>\n",
       "      <td>cardiovascular</td>\n",
       "      <td>(fibrot,0.67)</td>\n",
       "      <td>(hematolog,0.65)</td>\n",
       "      <td>(immunolog,0.63)</td>\n",
       "    </tr>\n",
       "    <tr>\n",
       "      <th>932</th>\n",
       "      <td>icici</td>\n",
       "      <td>(mahindra,0.65)</td>\n",
       "      <td>(laggard,0.54)</td>\n",
       "      <td>(tcs,0.52)</td>\n",
       "    </tr>\n",
       "    <tr>\n",
       "      <th>2188</th>\n",
       "      <td>mussolini</td>\n",
       "      <td>(dictat,0.68)</td>\n",
       "      <td>(fascist,0.67)</td>\n",
       "      <td>(benito,0.63)</td>\n",
       "    </tr>\n",
       "    <tr>\n",
       "      <th>2422</th>\n",
       "      <td>earthquak</td>\n",
       "      <td>(himalayan,0.67)</td>\n",
       "      <td>(seismic,0.63)</td>\n",
       "      <td>(ncs,0.6)</td>\n",
       "    </tr>\n",
       "    <tr>\n",
       "      <th>2537</th>\n",
       "      <td>acid</td>\n",
       "      <td>(amino,0.65)</td>\n",
       "      <td>(vitamin,0.56)</td>\n",
       "      <td>(antioxid,0.53)</td>\n",
       "    </tr>\n",
       "    <tr>\n",
       "      <th>4074</th>\n",
       "      <td>bipolar</td>\n",
       "      <td>(disord,0.55)</td>\n",
       "      <td>(candid,0.54)</td>\n",
       "      <td>(schizophrenia,0.5)</td>\n",
       "    </tr>\n",
       "    <tr>\n",
       "      <th>5219</th>\n",
       "      <td>inject</td>\n",
       "      <td>(liquid,0.54)</td>\n",
       "      <td>(dosag,0.53)</td>\n",
       "      <td>(semisolid,0.51)</td>\n",
       "    </tr>\n",
       "    <tr>\n",
       "      <th>6016</th>\n",
       "      <td>swine</td>\n",
       "      <td>(livestock,0.67)</td>\n",
       "      <td>(cattl,0.63)</td>\n",
       "      <td>(sheep,0.61)</td>\n",
       "    </tr>\n",
       "  </tbody>\n",
       "</table>\n",
       "</div>"
      ],
      "text/plain": [
       "          input_word             top_1             top_2                top_3\n",
       "84              fish      (sheep,0.75)    (poultri,0.71)         (cattl,0.63)\n",
       "839   cardiovascular     (fibrot,0.67)  (hematolog,0.65)     (immunolog,0.63)\n",
       "932            icici   (mahindra,0.65)    (laggard,0.54)           (tcs,0.52)\n",
       "2188       mussolini     (dictat,0.68)    (fascist,0.67)        (benito,0.63)\n",
       "2422       earthquak  (himalayan,0.67)    (seismic,0.63)            (ncs,0.6)\n",
       "2537            acid      (amino,0.65)    (vitamin,0.56)      (antioxid,0.53)\n",
       "4074         bipolar     (disord,0.55)     (candid,0.54)  (schizophrenia,0.5)\n",
       "5219          inject     (liquid,0.54)      (dosag,0.53)     (semisolid,0.51)\n",
       "6016           swine  (livestock,0.67)      (cattl,0.63)         (sheep,0.61)"
      ]
     },
     "execution_count": 253,
     "metadata": {},
     "output_type": "execute_result"
    }
   ],
   "source": [
    "# row 84, 839, 932, 2188, 2422, 2537, 4074, 5219, 6016\n",
    "specific_indices = [84, 839, 932, 2188, 2422, 2537, 4074, 5219, 6016]\n",
    "df2.loc[specific_indices]"
   ]
  },
  {
   "cell_type": "code",
   "execution_count": 225,
   "metadata": {},
   "outputs": [
    {
     "data": {
      "text/html": [
       "<div>\n",
       "<style scoped>\n",
       "    .dataframe tbody tr th:only-of-type {\n",
       "        vertical-align: middle;\n",
       "    }\n",
       "\n",
       "    .dataframe tbody tr th {\n",
       "        vertical-align: top;\n",
       "    }\n",
       "\n",
       "    .dataframe thead th {\n",
       "        text-align: right;\n",
       "    }\n",
       "</style>\n",
       "<table border=\"1\" class=\"dataframe\">\n",
       "  <thead>\n",
       "    <tr style=\"text-align: right;\">\n",
       "      <th></th>\n",
       "      <th>input_word</th>\n",
       "      <th>top_1</th>\n",
       "      <th>top_2</th>\n",
       "      <th>top_3</th>\n",
       "    </tr>\n",
       "  </thead>\n",
       "  <tbody>\n",
       "    <tr>\n",
       "      <th>1</th>\n",
       "      <td>attorney</td>\n",
       "      <td>(prosecutor,0.55)</td>\n",
       "      <td>(roo,0.48)</td>\n",
       "      <td>(forest,0.46)</td>\n",
       "    </tr>\n",
       "    <tr>\n",
       "      <th>2</th>\n",
       "      <td>forb</td>\n",
       "      <td>(pick,0.38)</td>\n",
       "      <td>(fair,0.31)</td>\n",
       "      <td>(punish,0.3)</td>\n",
       "    </tr>\n",
       "    <tr>\n",
       "      <th>3</th>\n",
       "      <td>braverman</td>\n",
       "      <td>(andi,0.34)</td>\n",
       "      <td>(deislam,0.33)</td>\n",
       "      <td>(kwara,0.32)</td>\n",
       "    </tr>\n",
       "    <tr>\n",
       "      <th>4</th>\n",
       "      <td>would</td>\n",
       "      <td>(globe,0.38)</td>\n",
       "      <td>(politicallyconnect,0.37)</td>\n",
       "      <td>(coalit,0.37)</td>\n",
       "    </tr>\n",
       "    <tr>\n",
       "      <th>5</th>\n",
       "      <td>mahmoud</td>\n",
       "      <td>(abba,0.5)</td>\n",
       "      <td>(abdullah,0.4)</td>\n",
       "      <td>(pray,0.37)</td>\n",
       "    </tr>\n",
       "    <tr>\n",
       "      <th>...</th>\n",
       "      <td>...</td>\n",
       "      <td>...</td>\n",
       "      <td>...</td>\n",
       "      <td>...</td>\n",
       "    </tr>\n",
       "    <tr>\n",
       "      <th>6377</th>\n",
       "      <td>alnasr</td>\n",
       "      <td>(wish,0.5)</td>\n",
       "      <td>(rantisi,0.44)</td>\n",
       "      <td>(chanc,0.4)</td>\n",
       "    </tr>\n",
       "    <tr>\n",
       "      <th>6378</th>\n",
       "      <td>hydrat</td>\n",
       "      <td>(humancaus,0.41)</td>\n",
       "      <td>(networkdens,0.34)</td>\n",
       "      <td>(liga,0.33)</td>\n",
       "    </tr>\n",
       "    <tr>\n",
       "      <th>6379</th>\n",
       "      <td>profession</td>\n",
       "      <td>(model,0.43)</td>\n",
       "      <td>(daili,0.4)</td>\n",
       "      <td>(prior,0.38)</td>\n",
       "    </tr>\n",
       "    <tr>\n",
       "      <th>6380</th>\n",
       "      <td>renu</td>\n",
       "      <td>(vig,0.52)</td>\n",
       "      <td>(vicechancellor,0.44)</td>\n",
       "      <td>(düsseldorf,0.4)</td>\n",
       "    </tr>\n",
       "    <tr>\n",
       "      <th>6381</th>\n",
       "      <td>counterfeit</td>\n",
       "      <td>(endoclear,0.39)</td>\n",
       "      <td>(child,0.36)</td>\n",
       "      <td>(warrant,0.36)</td>\n",
       "    </tr>\n",
       "  </tbody>\n",
       "</table>\n",
       "<p>6381 rows × 4 columns</p>\n",
       "</div>"
      ],
      "text/plain": [
       "       input_word              top_1                      top_2  \\\n",
       "1        attorney  (prosecutor,0.55)                 (roo,0.48)   \n",
       "2            forb        (pick,0.38)                (fair,0.31)   \n",
       "3       braverman        (andi,0.34)             (deislam,0.33)   \n",
       "4           would       (globe,0.38)  (politicallyconnect,0.37)   \n",
       "5         mahmoud         (abba,0.5)             (abdullah,0.4)   \n",
       "...           ...                ...                        ...   \n",
       "6377       alnasr         (wish,0.5)             (rantisi,0.44)   \n",
       "6378       hydrat   (humancaus,0.41)         (networkdens,0.34)   \n",
       "6379   profession       (model,0.43)                (daili,0.4)   \n",
       "6380         renu         (vig,0.52)      (vicechancellor,0.44)   \n",
       "6381  counterfeit   (endoclear,0.39)               (child,0.36)   \n",
       "\n",
       "                 top_3  \n",
       "1        (forest,0.46)  \n",
       "2         (punish,0.3)  \n",
       "3         (kwara,0.32)  \n",
       "4        (coalit,0.37)  \n",
       "5          (pray,0.37)  \n",
       "...                ...  \n",
       "6377       (chanc,0.4)  \n",
       "6378       (liga,0.33)  \n",
       "6379      (prior,0.38)  \n",
       "6380  (düsseldorf,0.4)  \n",
       "6381    (warrant,0.36)  \n",
       "\n",
       "[6381 rows x 4 columns]"
      ]
     },
     "execution_count": 225,
     "metadata": {},
     "output_type": "execute_result"
    }
   ],
   "source": [
    "df1"
   ]
  }
 ],
 "metadata": {
  "kernelspec": {
   "display_name": ".venv",
   "language": "python",
   "name": "python3"
  },
  "language_info": {
   "codemirror_mode": {
    "name": "ipython",
    "version": 3
   },
   "file_extension": ".py",
   "mimetype": "text/x-python",
   "name": "python",
   "nbconvert_exporter": "python",
   "pygments_lexer": "ipython3",
   "version": "3.13.1"
  }
 },
 "nbformat": 4,
 "nbformat_minor": 2
}
